{
 "cells": [
  {
   "cell_type": "markdown",
   "id": "2891f996",
   "metadata": {
    "papermill": {
     "duration": 0.008496,
     "end_time": "2022-11-24T01:36:14.332810",
     "exception": false,
     "start_time": "2022-11-24T01:36:14.324314",
     "status": "completed"
    },
    "tags": []
   },
   "source": [
    "**This notebook is an exercise in the [Python](https://www.kaggle.com/learn/python) course.  You can reference the tutorial at [this link](https://www.kaggle.com/colinmorris/hello-python).**\n",
    "\n",
    "---\n"
   ]
  },
  {
   "cell_type": "markdown",
   "id": "f21c0120",
   "metadata": {
    "papermill": {
     "duration": 0.007082,
     "end_time": "2022-11-24T01:36:14.347982",
     "exception": false,
     "start_time": "2022-11-24T01:36:14.340900",
     "status": "completed"
    },
    "tags": []
   },
   "source": [
    "Welcome to your first set of Python coding problems.  If this is your first time using Kaggle Notebooks, welcome! \n",
    "\n",
    "Notebooks are composed of blocks (called \"cells\") of text and code. Each of these is editable, though you'll mainly be editing the code cells to answer some questions.\n",
    "\n",
    "To get started, try running the code cell below (by pressing the ► button, or clicking on the cell and pressing ctrl+enter on your keyboard)."
   ]
  },
  {
   "cell_type": "code",
   "execution_count": 1,
   "id": "edc19713",
   "metadata": {
    "execution": {
     "iopub.execute_input": "2022-11-24T01:36:14.366747Z",
     "iopub.status.busy": "2022-11-24T01:36:14.365554Z",
     "iopub.status.idle": "2022-11-24T01:36:14.381750Z",
     "shell.execute_reply": "2022-11-24T01:36:14.380279Z"
    },
    "papermill": {
     "duration": 0.029077,
     "end_time": "2022-11-24T01:36:14.384753",
     "exception": false,
     "start_time": "2022-11-24T01:36:14.355676",
     "status": "completed"
    },
    "tags": []
   },
   "outputs": [
    {
     "name": "stdout",
     "output_type": "stream",
     "text": [
      "You've successfully run some Python code\n",
      "Congratulations!\n"
     ]
    }
   ],
   "source": [
    "print(\"You've successfully run some Python code\")\n",
    "print(\"Congratulations!\")"
   ]
  },
  {
   "cell_type": "code",
   "execution_count": null,
   "id": "14dd3db7",
   "metadata": {
    "papermill": {
     "duration": 0.007066,
     "end_time": "2022-11-24T01:36:14.399313",
     "exception": false,
     "start_time": "2022-11-24T01:36:14.392247",
     "status": "completed"
    },
    "tags": []
   },
   "outputs": [],
   "source": []
  },
  {
   "cell_type": "markdown",
   "id": "c7ed072b",
   "metadata": {
    "papermill": {
     "duration": 0.007114,
     "end_time": "2022-11-24T01:36:14.414025",
     "exception": false,
     "start_time": "2022-11-24T01:36:14.406911",
     "status": "completed"
    },
    "tags": []
   },
   "source": [
    "Try adding another line of code in the cell above and re-running it. \n",
    "\n",
    "Now let's get a little fancier:  Add a new code cell by clicking on an existing code cell, hitting the escape key, and then hitting the `a` or `b` key.  The `a` key will add a cell above the current cell, and `b` adds a cell below.\n",
    "\n",
    "Great! Now you know how to use Notebooks.\n",
    "\n",
    "Each hands-on exercise starts by setting up our feedback and code checking mechanism. Run the code cell below to do that. Then you'll be ready to move on to question 0."
   ]
  },
  {
   "cell_type": "code",
   "execution_count": 2,
   "id": "da2b74fb",
   "metadata": {
    "_kg_hide-input": true,
    "_kg_hide-output": true,
    "execution": {
     "iopub.execute_input": "2022-11-24T01:36:14.433703Z",
     "iopub.status.busy": "2022-11-24T01:36:14.432672Z",
     "iopub.status.idle": "2022-11-24T01:36:14.484913Z",
     "shell.execute_reply": "2022-11-24T01:36:14.483434Z"
    },
    "papermill": {
     "duration": 0.066331,
     "end_time": "2022-11-24T01:36:14.487742",
     "exception": false,
     "start_time": "2022-11-24T01:36:14.421411",
     "status": "completed"
    },
    "tags": []
   },
   "outputs": [
    {
     "name": "stdout",
     "output_type": "stream",
     "text": [
      "Setup complete! You're ready to start question 0.\n"
     ]
    }
   ],
   "source": [
    "from learntools.core import binder; binder.bind(globals())\n",
    "from learntools.python.ex1 import *\n",
    "print(\"Setup complete! You're ready to start question 0.\")"
   ]
  },
  {
   "cell_type": "markdown",
   "id": "506c82b0",
   "metadata": {
    "papermill": {
     "duration": 0.007064,
     "end_time": "2022-11-24T01:36:14.502161",
     "exception": false,
     "start_time": "2022-11-24T01:36:14.495097",
     "status": "completed"
    },
    "tags": []
   },
   "source": [
    "# 0.\n",
    "\n",
    "*This is a silly question intended as an introduction to the format we use for hands-on exercises throughout all Kaggle courses.*\n",
    "\n",
    "**What is your favorite color? **\n",
    "\n",
    "To complete this question, create a variable called `color` in the cell below with an appropriate value. The function call `q0.check()` (which we've already provided in the cell below) will check your answer."
   ]
  },
  {
   "cell_type": "code",
   "execution_count": 3,
   "id": "6b62a870",
   "metadata": {
    "execution": {
     "iopub.execute_input": "2022-11-24T01:36:14.518791Z",
     "iopub.status.busy": "2022-11-24T01:36:14.518277Z",
     "iopub.status.idle": "2022-11-24T01:36:14.531470Z",
     "shell.execute_reply": "2022-11-24T01:36:14.529991Z"
    },
    "papermill": {
     "duration": 0.024679,
     "end_time": "2022-11-24T01:36:14.534086",
     "exception": false,
     "start_time": "2022-11-24T01:36:14.509407",
     "status": "completed"
    },
    "tags": []
   },
   "outputs": [
    {
     "data": {
      "application/javascript": [
       "parent.postMessage({\"jupyterEvent\": \"custom.exercise_interaction\", \"data\": {\"outcomeType\": 1, \"valueTowardsCompletion\": 0.25, \"interactionType\": 1, \"questionType\": 2, \"questionId\": \"0_ExerciseFormatTutorial\", \"learnToolsVersion\": \"0.3.4\", \"failureMessage\": \"\", \"exceptionClass\": \"\", \"trace\": \"\"}}, \"*\")"
      ],
      "text/plain": [
       "<IPython.core.display.Javascript object>"
      ]
     },
     "metadata": {},
     "output_type": "display_data"
    },
    {
     "data": {
      "text/markdown": [
       "<span style=\"color:#33cc33\">Correct:</span> What?! You got it right without needing a hint or anything? Drats. Well hey, you should still continue to the next step to get some practice asking for a hint and checking solutions. (Even though you obviously don't need any help here.)"
      ],
      "text/plain": [
       "Correct: What?! You got it right without needing a hint or anything? Drats. Well hey, you should still continue to the next step to get some practice asking for a hint and checking solutions. (Even though you obviously don't need any help here.)"
      ]
     },
     "metadata": {},
     "output_type": "display_data"
    }
   ],
   "source": [
    "# create a variable called color with an appropriate value on the line below\n",
    "# (Remember, strings in Python must be enclosed in 'single' or \"double\" quotes)\n",
    "____\n",
    "\n",
    "# Check your answer\n",
    "color=\"blue\"\n",
    "q0.check()\n",
    "\n"
   ]
  },
  {
   "cell_type": "markdown",
   "id": "a65d1fdc",
   "metadata": {
    "papermill": {
     "duration": 0.00725,
     "end_time": "2022-11-24T01:36:14.549083",
     "exception": false,
     "start_time": "2022-11-24T01:36:14.541833",
     "status": "completed"
    },
    "tags": []
   },
   "source": [
    "Didn't get the right answer? How do you not even know your own favorite color?!\n",
    "\n",
    "Delete the `#` in the line below to make one of the lines run. You can choose between getting a hint or the full answer by choosing which line to remove the `#` from. \n",
    "\n",
    "Removing the `#` is called uncommenting, because it changes that line from a \"comment\" which Python doesn't run to code, which Python does run."
   ]
  },
  {
   "cell_type": "code",
   "execution_count": 4,
   "id": "71e32b99",
   "metadata": {
    "execution": {
     "iopub.execute_input": "2022-11-24T01:36:14.566334Z",
     "iopub.status.busy": "2022-11-24T01:36:14.565929Z",
     "iopub.status.idle": "2022-11-24T01:36:14.579928Z",
     "shell.execute_reply": "2022-11-24T01:36:14.578697Z"
    },
    "papermill": {
     "duration": 0.025655,
     "end_time": "2022-11-24T01:36:14.582481",
     "exception": false,
     "start_time": "2022-11-24T01:36:14.556826",
     "status": "completed"
    },
    "tags": []
   },
   "outputs": [
    {
     "data": {
      "application/javascript": [
       "parent.postMessage({\"jupyterEvent\": \"custom.exercise_interaction\", \"data\": {\"interactionType\": 2, \"questionType\": 2, \"questionId\": \"0_ExerciseFormatTutorial\", \"learnToolsVersion\": \"0.3.4\", \"valueTowardsCompletion\": 0.0, \"failureMessage\": \"\", \"exceptionClass\": \"\", \"trace\": \"\", \"outcomeType\": 4}}, \"*\")"
      ],
      "text/plain": [
       "<IPython.core.display.Javascript object>"
      ]
     },
     "metadata": {},
     "output_type": "display_data"
    },
    {
     "data": {
      "text/markdown": [
       "<span style=\"color:#3366cc\">Hint:</span> Your favorite color rhymes with *glue*."
      ],
      "text/plain": [
       "Hint: Your favorite color rhymes with *glue*."
      ]
     },
     "metadata": {},
     "output_type": "display_data"
    },
    {
     "data": {
      "application/javascript": [
       "parent.postMessage({\"jupyterEvent\": \"custom.exercise_interaction\", \"data\": {\"interactionType\": 3, \"questionType\": 2, \"questionId\": \"0_ExerciseFormatTutorial\", \"learnToolsVersion\": \"0.3.4\", \"valueTowardsCompletion\": 0.0, \"failureMessage\": \"\", \"exceptionClass\": \"\", \"trace\": \"\", \"outcomeType\": 4}}, \"*\")"
      ],
      "text/plain": [
       "<IPython.core.display.Javascript object>"
      ]
     },
     "metadata": {},
     "output_type": "display_data"
    },
    {
     "data": {
      "text/markdown": [
       "<span style=\"color:#33cc99\">Solution:</span> \n",
       "```python\n",
       "color = \"blue\"\n",
       "```"
      ],
      "text/plain": [
       "Solution: \n",
       "```python\n",
       "color = \"blue\"\n",
       "```"
      ]
     },
     "metadata": {},
     "output_type": "display_data"
    }
   ],
   "source": [
    "q0.hint()\n",
    "q0.solution()"
   ]
  },
  {
   "cell_type": "markdown",
   "id": "136e7b0c",
   "metadata": {
    "papermill": {
     "duration": 0.007819,
     "end_time": "2022-11-24T01:36:14.598546",
     "exception": false,
     "start_time": "2022-11-24T01:36:14.590727",
     "status": "completed"
    },
    "tags": []
   },
   "source": [
    "The upcoming questions work the same way. The only thing that will change are the question numbers. For the next question, you'll call `q1.check()`, `q1.hint()`, `q1.solution()`, for question 2, you'll call `q2.check()`, and so on."
   ]
  },
  {
   "cell_type": "markdown",
   "id": "dd56a051",
   "metadata": {
    "papermill": {
     "duration": 0.008099,
     "end_time": "2022-11-24T01:36:14.614811",
     "exception": false,
     "start_time": "2022-11-24T01:36:14.606712",
     "status": "completed"
    },
    "tags": []
   },
   "source": [
    "<hr/>\n",
    "\n",
    "# 1.\n",
    "\n",
    "Complete the code below. In case it's helpful, here is the table of available arithmetic operations:\n",
    "\n",
    "\n",
    "\n",
    "| Operator     | Name           | Description                                            |\n",
    "|--------------|----------------|--------------------------------------------------------|\n",
    "| ``a + b``    | Addition       | Sum of ``a`` and ``b``                                 |\n",
    "| ``a - b``    | Subtraction    | Difference of ``a`` and ``b``                          |\n",
    "| ``a * b``    | Multiplication | Product of ``a`` and ``b``                             |\n",
    "| ``a / b``    | True division  | Quotient of ``a`` and ``b``                            |\n",
    "| ``a // b``   | Floor division | Quotient of ``a`` and ``b``, removing fractional parts |\n",
    "| ``a % b``    | Modulus        | Integer remainder after division of ``a`` by ``b``     |\n",
    "| ``a ** b``   | Exponentiation | ``a`` raised to the power of ``b``                     |\n",
    "| ``-a``       | Negation       | The negative of ``a``                                  |\n",
    "\n",
    "<span style=\"display:none\"></span>\n"
   ]
  },
  {
   "cell_type": "code",
   "execution_count": 5,
   "id": "1e9cc98c",
   "metadata": {
    "execution": {
     "iopub.execute_input": "2022-11-24T01:36:14.633006Z",
     "iopub.status.busy": "2022-11-24T01:36:14.632578Z",
     "iopub.status.idle": "2022-11-24T01:36:14.642116Z",
     "shell.execute_reply": "2022-11-24T01:36:14.640978Z"
    },
    "papermill": {
     "duration": 0.021375,
     "end_time": "2022-11-24T01:36:14.644434",
     "exception": false,
     "start_time": "2022-11-24T01:36:14.623059",
     "status": "completed"
    },
    "tags": []
   },
   "outputs": [
    {
     "data": {
      "application/javascript": [
       "parent.postMessage({\"jupyterEvent\": \"custom.exercise_interaction\", \"data\": {\"outcomeType\": 1, \"valueTowardsCompletion\": 0.25, \"interactionType\": 1, \"questionType\": 1, \"questionId\": \"1_CircleArea\", \"learnToolsVersion\": \"0.3.4\", \"failureMessage\": \"\", \"exceptionClass\": \"\", \"trace\": \"\"}}, \"*\")"
      ],
      "text/plain": [
       "<IPython.core.display.Javascript object>"
      ]
     },
     "metadata": {},
     "output_type": "display_data"
    },
    {
     "data": {
      "text/markdown": [
       "<span style=\"color:#33cc33\">Correct</span>"
      ],
      "text/plain": [
       "Correct"
      ]
     },
     "metadata": {},
     "output_type": "display_data"
    }
   ],
   "source": [
    "pi = 3.14159 # approximate\n",
    "diameter = 3\n",
    "\n",
    "# Create a variable called 'radius' equal to half the diameter\n",
    "____\n",
    "radius = diameter / 2\n",
    "# Create a variable called 'area', using the formula for the area of a circle: pi times the radius squared\n",
    "____\n",
    "area = pi * radius ** 2\n",
    "# Check your answer\n",
    "q1.check()"
   ]
  },
  {
   "cell_type": "code",
   "execution_count": 6,
   "id": "dab53483",
   "metadata": {
    "execution": {
     "iopub.execute_input": "2022-11-24T01:36:14.663539Z",
     "iopub.status.busy": "2022-11-24T01:36:14.662606Z",
     "iopub.status.idle": "2022-11-24T01:36:14.677743Z",
     "shell.execute_reply": "2022-11-24T01:36:14.676715Z"
    },
    "papermill": {
     "duration": 0.027287,
     "end_time": "2022-11-24T01:36:14.680112",
     "exception": false,
     "start_time": "2022-11-24T01:36:14.652825",
     "status": "completed"
    },
    "tags": []
   },
   "outputs": [
    {
     "data": {
      "application/javascript": [
       "parent.postMessage({\"jupyterEvent\": \"custom.exercise_interaction\", \"data\": {\"interactionType\": 2, \"questionType\": 1, \"questionId\": \"1_CircleArea\", \"learnToolsVersion\": \"0.3.4\", \"valueTowardsCompletion\": 0.0, \"failureMessage\": \"\", \"exceptionClass\": \"\", \"trace\": \"\", \"outcomeType\": 4}}, \"*\")"
      ],
      "text/plain": [
       "<IPython.core.display.Javascript object>"
      ]
     },
     "metadata": {},
     "output_type": "display_data"
    },
    {
     "data": {
      "text/markdown": [
       "<span style=\"color:#3366cc\">Hint:</span> The syntax to raise a to the b'th power is `a ** b`"
      ],
      "text/plain": [
       "Hint: The syntax to raise a to the b'th power is `a ** b`"
      ]
     },
     "metadata": {},
     "output_type": "display_data"
    },
    {
     "data": {
      "application/javascript": [
       "parent.postMessage({\"jupyterEvent\": \"custom.exercise_interaction\", \"data\": {\"interactionType\": 3, \"questionType\": 1, \"questionId\": \"1_CircleArea\", \"learnToolsVersion\": \"0.3.4\", \"valueTowardsCompletion\": 0.0, \"failureMessage\": \"\", \"exceptionClass\": \"\", \"trace\": \"\", \"outcomeType\": 4}}, \"*\")"
      ],
      "text/plain": [
       "<IPython.core.display.Javascript object>"
      ]
     },
     "metadata": {},
     "output_type": "display_data"
    },
    {
     "data": {
      "text/markdown": [
       "<span style=\"color:#33cc99\">Solution:</span> \n",
       "```python\n",
       "radius = diameter / 2\n",
       "area = pi * radius ** 2\n",
       "```"
      ],
      "text/plain": [
       "Solution: \n",
       "```python\n",
       "radius = diameter / 2\n",
       "area = pi * radius ** 2\n",
       "```"
      ]
     },
     "metadata": {},
     "output_type": "display_data"
    }
   ],
   "source": [
    "# Uncomment and run the lines below if you need help.\n",
    "q1.hint()\n",
    "q1.solution()"
   ]
  },
  {
   "cell_type": "markdown",
   "id": "6f9a2172",
   "metadata": {
    "papermill": {
     "duration": 0.008716,
     "end_time": "2022-11-24T01:36:14.697719",
     "exception": false,
     "start_time": "2022-11-24T01:36:14.689003",
     "status": "completed"
    },
    "tags": []
   },
   "source": [
    "<hr/>\n",
    "\n",
    "# 2.\n",
    "\n",
    "Add code to the following cell to swap variables `a` and `b` (so that `a` refers to the object previously referred to by `b` and vice versa)."
   ]
  },
  {
   "cell_type": "code",
   "execution_count": 7,
   "id": "03cd4a5f",
   "metadata": {
    "execution": {
     "iopub.execute_input": "2022-11-24T01:36:14.718279Z",
     "iopub.status.busy": "2022-11-24T01:36:14.717080Z",
     "iopub.status.idle": "2022-11-24T01:36:14.730794Z",
     "shell.execute_reply": "2022-11-24T01:36:14.729271Z"
    },
    "papermill": {
     "duration": 0.026799,
     "end_time": "2022-11-24T01:36:14.733522",
     "exception": false,
     "start_time": "2022-11-24T01:36:14.706723",
     "status": "completed"
    },
    "tags": []
   },
   "outputs": [
    {
     "data": {
      "application/javascript": [
       "parent.postMessage({\"jupyterEvent\": \"custom.exercise_interaction\", \"data\": {\"outcomeType\": 1, \"valueTowardsCompletion\": 0.25, \"interactionType\": 1, \"questionType\": 2, \"questionId\": \"2_VariableSwap\", \"learnToolsVersion\": \"0.3.4\", \"failureMessage\": \"\", \"exceptionClass\": \"\", \"trace\": \"\"}}, \"*\")"
      ],
      "text/plain": [
       "<IPython.core.display.Javascript object>"
      ]
     },
     "metadata": {},
     "output_type": "display_data"
    },
    {
     "data": {
      "text/markdown": [
       "<span style=\"color:#33cc33\">Correct:</span> \n",
       "\n",
       "The most straightforward solution is to use a third variable to temporarily store one of the old values. e.g.:\n",
       "\n",
       "    tmp = a\n",
       "    a = b\n",
       "    b = tmp\n",
       "\n",
       "If you've read lots of Python code, you might have seen the following trick to swap two variables in one line:\n",
       "\n",
       "    a, b = b, a\n",
       "\n",
       "We'll demystify this bit of Python magic later when we talk about *tuples*."
      ],
      "text/plain": [
       "Correct: \n",
       "\n",
       "The most straightforward solution is to use a third variable to temporarily store one of the old values. e.g.:\n",
       "\n",
       "    tmp = a\n",
       "    a = b\n",
       "    b = tmp\n",
       "\n",
       "If you've read lots of Python code, you might have seen the following trick to swap two variables in one line:\n",
       "\n",
       "    a, b = b, a\n",
       "\n",
       "We'll demystify this bit of Python magic later when we talk about *tuples*."
      ]
     },
     "metadata": {},
     "output_type": "display_data"
    }
   ],
   "source": [
    "########### Setup code - don't touch this part ######################\n",
    "# If you're curious, these are examples of lists. We'll talk about \n",
    "# them in depth a few lessons from now. For now, just know that they're\n",
    "# yet another type of Python object, like int or float.\n",
    "a = [1, 2, 3]\n",
    "b = [3, 2, 1]\n",
    "c = []\n",
    "a = c\n",
    "b = a\n",
    "c = a\n",
    "q2.store_original_ids()\n",
    "######################################################################\n",
    "\n",
    "# Your code goes here. Swap the values to which a and b refer.\n",
    "# If you get stuck, you can always uncomment one or both of the lines in\n",
    "# the next cell for a hint, or to peek at the solution.\n",
    "\n",
    "######################################################################\n",
    "\n",
    "# Check your answer\n",
    "q2.check()"
   ]
  },
  {
   "cell_type": "code",
   "execution_count": 8,
   "id": "28d95b48",
   "metadata": {
    "execution": {
     "iopub.execute_input": "2022-11-24T01:36:14.754572Z",
     "iopub.status.busy": "2022-11-24T01:36:14.753880Z",
     "iopub.status.idle": "2022-11-24T01:36:14.761377Z",
     "shell.execute_reply": "2022-11-24T01:36:14.758957Z"
    },
    "papermill": {
     "duration": 0.023202,
     "end_time": "2022-11-24T01:36:14.765980",
     "exception": false,
     "start_time": "2022-11-24T01:36:14.742778",
     "status": "completed"
    },
    "tags": []
   },
   "outputs": [],
   "source": [
    "#q2.hint()"
   ]
  },
  {
   "cell_type": "code",
   "execution_count": 9,
   "id": "5274efc4",
   "metadata": {
    "execution": {
     "iopub.execute_input": "2022-11-24T01:36:14.788931Z",
     "iopub.status.busy": "2022-11-24T01:36:14.788076Z",
     "iopub.status.idle": "2022-11-24T01:36:14.793532Z",
     "shell.execute_reply": "2022-11-24T01:36:14.791819Z"
    },
    "papermill": {
     "duration": 0.020791,
     "end_time": "2022-11-24T01:36:14.797158",
     "exception": false,
     "start_time": "2022-11-24T01:36:14.776367",
     "status": "completed"
    },
    "tags": []
   },
   "outputs": [],
   "source": [
    "#q2.solution()"
   ]
  },
  {
   "cell_type": "markdown",
   "id": "ea41c02e",
   "metadata": {
    "papermill": {
     "duration": 0.013541,
     "end_time": "2022-11-24T01:36:14.823988",
     "exception": false,
     "start_time": "2022-11-24T01:36:14.810447",
     "status": "completed"
    },
    "tags": []
   },
   "source": [
    "<hr/>\n",
    "\n",
    "# 3a.\n",
    "\n",
    "Add parentheses to the following expression so that it evaluates to 1."
   ]
  },
  {
   "cell_type": "code",
   "execution_count": 10,
   "id": "fec3695a",
   "metadata": {
    "execution": {
     "iopub.execute_input": "2022-11-24T01:36:14.847884Z",
     "iopub.status.busy": "2022-11-24T01:36:14.846728Z",
     "iopub.status.idle": "2022-11-24T01:36:14.854820Z",
     "shell.execute_reply": "2022-11-24T01:36:14.853547Z"
    },
    "papermill": {
     "duration": 0.021507,
     "end_time": "2022-11-24T01:36:14.857192",
     "exception": false,
     "start_time": "2022-11-24T01:36:14.835685",
     "status": "completed"
    },
    "tags": []
   },
   "outputs": [
    {
     "data": {
      "text/plain": [
       "4"
      ]
     },
     "execution_count": 10,
     "metadata": {},
     "output_type": "execute_result"
    }
   ],
   "source": [
    "5 - 3 // 2"
   ]
  },
  {
   "cell_type": "code",
   "execution_count": 11,
   "id": "c9a331f1",
   "metadata": {
    "execution": {
     "iopub.execute_input": "2022-11-24T01:36:14.879972Z",
     "iopub.status.busy": "2022-11-24T01:36:14.879377Z",
     "iopub.status.idle": "2022-11-24T01:36:14.885219Z",
     "shell.execute_reply": "2022-11-24T01:36:14.883496Z"
    },
    "papermill": {
     "duration": 0.021309,
     "end_time": "2022-11-24T01:36:14.888205",
     "exception": false,
     "start_time": "2022-11-24T01:36:14.866896",
     "status": "completed"
    },
    "tags": []
   },
   "outputs": [],
   "source": [
    "#q3.a.hint()"
   ]
  },
  {
   "cell_type": "code",
   "execution_count": 12,
   "id": "a434d3d6",
   "metadata": {
    "execution": {
     "iopub.execute_input": "2022-11-24T01:36:14.910208Z",
     "iopub.status.busy": "2022-11-24T01:36:14.909572Z",
     "iopub.status.idle": "2022-11-24T01:36:14.921881Z",
     "shell.execute_reply": "2022-11-24T01:36:14.920716Z"
    },
    "papermill": {
     "duration": 0.026913,
     "end_time": "2022-11-24T01:36:14.925052",
     "exception": false,
     "start_time": "2022-11-24T01:36:14.898139",
     "status": "completed"
    },
    "tags": []
   },
   "outputs": [
    {
     "data": {
      "application/javascript": [
       "parent.postMessage({\"jupyterEvent\": \"custom.exercise_interaction\", \"data\": {\"interactionType\": 3, \"questionType\": 4, \"questionId\": \"3.1_ArithmeticParensEasy\", \"learnToolsVersion\": \"0.3.4\", \"valueTowardsCompletion\": 0.0, \"failureMessage\": \"\", \"exceptionClass\": \"\", \"trace\": \"\", \"outcomeType\": 4}}, \"*\")"
      ],
      "text/plain": [
       "<IPython.core.display.Javascript object>"
      ]
     },
     "metadata": {},
     "output_type": "display_data"
    },
    {
     "data": {
      "text/markdown": [
       "<span style=\"color:#33cc99\">Solution:</span> \n",
       "```python\n",
       "(5 - 3) // 2\n",
       "```"
      ],
      "text/plain": [
       "Solution: \n",
       "```python\n",
       "(5 - 3) // 2\n",
       "```"
      ]
     },
     "metadata": {},
     "output_type": "display_data"
    }
   ],
   "source": [
    "# Check your answer (Run this code cell to receive credit!)\n",
    "q3.a.solution()"
   ]
  },
  {
   "cell_type": "markdown",
   "id": "763ff7db",
   "metadata": {
    "papermill": {
     "duration": 0.012289,
     "end_time": "2022-11-24T01:36:14.950800",
     "exception": false,
     "start_time": "2022-11-24T01:36:14.938511",
     "status": "completed"
    },
    "tags": []
   },
   "source": [
    "# 3b.  <span title=\"A bit spicy\" style=\"color: darkgreen \">🌶️</span>\n",
    "\n",
    "<small>Questions, like this one, marked a spicy pepper are a bit harder.</small>\n",
    "\n",
    "Add parentheses to the following expression so that it evaluates to 0."
   ]
  },
  {
   "cell_type": "code",
   "execution_count": 13,
   "id": "e74fa511",
   "metadata": {
    "execution": {
     "iopub.execute_input": "2022-11-24T01:36:14.972816Z",
     "iopub.status.busy": "2022-11-24T01:36:14.971741Z",
     "iopub.status.idle": "2022-11-24T01:36:14.979635Z",
     "shell.execute_reply": "2022-11-24T01:36:14.978540Z"
    },
    "papermill": {
     "duration": 0.021293,
     "end_time": "2022-11-24T01:36:14.981915",
     "exception": false,
     "start_time": "2022-11-24T01:36:14.960622",
     "status": "completed"
    },
    "tags": []
   },
   "outputs": [
    {
     "data": {
      "text/plain": [
       "2"
      ]
     },
     "execution_count": 13,
     "metadata": {},
     "output_type": "execute_result"
    }
   ],
   "source": [
    "8 - 3 * 2 - 1 + 1"
   ]
  },
  {
   "cell_type": "code",
   "execution_count": 14,
   "id": "1993fc0d",
   "metadata": {
    "execution": {
     "iopub.execute_input": "2022-11-24T01:36:15.005797Z",
     "iopub.status.busy": "2022-11-24T01:36:15.004836Z",
     "iopub.status.idle": "2022-11-24T01:36:15.010142Z",
     "shell.execute_reply": "2022-11-24T01:36:15.008979Z"
    },
    "papermill": {
     "duration": 0.021038,
     "end_time": "2022-11-24T01:36:15.012660",
     "exception": false,
     "start_time": "2022-11-24T01:36:14.991622",
     "status": "completed"
    },
    "tags": []
   },
   "outputs": [],
   "source": [
    "#q3.b.hint()"
   ]
  },
  {
   "cell_type": "code",
   "execution_count": 15,
   "id": "217bdfb3",
   "metadata": {
    "execution": {
     "iopub.execute_input": "2022-11-24T01:36:15.035403Z",
     "iopub.status.busy": "2022-11-24T01:36:15.034222Z",
     "iopub.status.idle": "2022-11-24T01:36:15.046025Z",
     "shell.execute_reply": "2022-11-24T01:36:15.044511Z"
    },
    "papermill": {
     "duration": 0.027605,
     "end_time": "2022-11-24T01:36:15.050140",
     "exception": false,
     "start_time": "2022-11-24T01:36:15.022535",
     "status": "completed"
    },
    "tags": []
   },
   "outputs": [
    {
     "data": {
      "application/javascript": [
       "parent.postMessage({\"jupyterEvent\": \"custom.exercise_interaction\", \"data\": {\"interactionType\": 3, \"questionType\": 4, \"questionId\": \"3.2_ArithmeticParensHard\", \"learnToolsVersion\": \"0.3.4\", \"valueTowardsCompletion\": 0.0, \"failureMessage\": \"\", \"exceptionClass\": \"\", \"trace\": \"\", \"outcomeType\": 4}}, \"*\")"
      ],
      "text/plain": [
       "<IPython.core.display.Javascript object>"
      ]
     },
     "metadata": {},
     "output_type": "display_data"
    },
    {
     "data": {
      "text/markdown": [
       "<span style=\"color:#33cc99\">Solution:</span> `(8 - 3) * (2 - (1 + 1))` is one solution. There may be others."
      ],
      "text/plain": [
       "Solution: `(8 - 3) * (2 - (1 + 1))` is one solution. There may be others."
      ]
     },
     "metadata": {},
     "output_type": "display_data"
    }
   ],
   "source": [
    "# Check your answer (Run this code cell to receive credit!)\n",
    "q3.b.solution()"
   ]
  },
  {
   "cell_type": "markdown",
   "id": "7f8aa22b",
   "metadata": {
    "papermill": {
     "duration": 0.012572,
     "end_time": "2022-11-24T01:36:15.073387",
     "exception": false,
     "start_time": "2022-11-24T01:36:15.060815",
     "status": "completed"
    },
    "tags": []
   },
   "source": [
    "<hr/>\n",
    "\n",
    "# 4. \n",
    "Alice, Bob and Carol have agreed to pool their Halloween candy and split it evenly among themselves.\n",
    "For the sake of their friendship, any candies left over will be smashed. For example, if they collectively\n",
    "bring home 91 candies, they'll take 30 each and smash 1.\n",
    "\n",
    "Write an arithmetic expression below to calculate how many candies they must smash for a given haul."
   ]
  },
  {
   "cell_type": "code",
   "execution_count": 16,
   "id": "dbd588d5",
   "metadata": {
    "execution": {
     "iopub.execute_input": "2022-11-24T01:36:15.095496Z",
     "iopub.status.busy": "2022-11-24T01:36:15.094707Z",
     "iopub.status.idle": "2022-11-24T01:36:15.103905Z",
     "shell.execute_reply": "2022-11-24T01:36:15.102923Z"
    },
    "papermill": {
     "duration": 0.02397,
     "end_time": "2022-11-24T01:36:15.107376",
     "exception": false,
     "start_time": "2022-11-24T01:36:15.083406",
     "status": "completed"
    },
    "tags": []
   },
   "outputs": [
    {
     "data": {
      "application/javascript": [
       "parent.postMessage({\"jupyterEvent\": \"custom.exercise_interaction\", \"data\": {\"outcomeType\": 1, \"valueTowardsCompletion\": 0.25, \"interactionType\": 1, \"questionType\": 1, \"questionId\": \"4_CandySplitting\", \"learnToolsVersion\": \"0.3.4\", \"failureMessage\": \"\", \"exceptionClass\": \"\", \"trace\": \"\"}}, \"*\")"
      ],
      "text/plain": [
       "<IPython.core.display.Javascript object>"
      ]
     },
     "metadata": {},
     "output_type": "display_data"
    },
    {
     "data": {
      "text/markdown": [
       "<span style=\"color:#33cc33\">Correct</span>"
      ],
      "text/plain": [
       "Correct"
      ]
     },
     "metadata": {},
     "output_type": "display_data"
    }
   ],
   "source": [
    "# Variables representing the number of candies collected by alice, bob, and carol\n",
    "alice_candies = 121\n",
    "bob_candies = 77\n",
    "carol_candies = 109\n",
    "to_smash = (alice_candies+bob_candies+carol_candies)%3\n",
    "\n",
    "# Your code goes here! Replace the right-hand side of this assignment with an expression\n",
    "# involving alice_candies, bob_candies, and carol_candies\n",
    "\n",
    "\n",
    "# Check your answer\n",
    "q4.check()"
   ]
  },
  {
   "cell_type": "code",
   "execution_count": 17,
   "id": "043a5065",
   "metadata": {
    "execution": {
     "iopub.execute_input": "2022-11-24T01:36:15.137290Z",
     "iopub.status.busy": "2022-11-24T01:36:15.136221Z",
     "iopub.status.idle": "2022-11-24T01:36:15.151770Z",
     "shell.execute_reply": "2022-11-24T01:36:15.150590Z"
    },
    "papermill": {
     "duration": 0.032576,
     "end_time": "2022-11-24T01:36:15.155174",
     "exception": false,
     "start_time": "2022-11-24T01:36:15.122598",
     "status": "completed"
    },
    "tags": []
   },
   "outputs": [
    {
     "data": {
      "application/javascript": [
       "parent.postMessage({\"jupyterEvent\": \"custom.exercise_interaction\", \"data\": {\"interactionType\": 2, \"questionType\": 1, \"questionId\": \"4_CandySplitting\", \"learnToolsVersion\": \"0.3.4\", \"valueTowardsCompletion\": 0.0, \"failureMessage\": \"\", \"exceptionClass\": \"\", \"trace\": \"\", \"outcomeType\": 4}}, \"*\")"
      ],
      "text/plain": [
       "<IPython.core.display.Javascript object>"
      ]
     },
     "metadata": {},
     "output_type": "display_data"
    },
    {
     "data": {
      "text/markdown": [
       "<span style=\"color:#3366cc\">Hint 1:</span> You'll probably want to use the modulo operator, `%`.\n",
       "(For another hint, call `.hint(2)`)"
      ],
      "text/plain": [
       "Hint 1: You'll probably want to use the modulo operator, `%`.\n",
       "(For another hint, call `.hint(2)`)"
      ]
     },
     "metadata": {},
     "output_type": "display_data"
    },
    {
     "data": {
      "application/javascript": [
       "parent.postMessage({\"jupyterEvent\": \"custom.exercise_interaction\", \"data\": {\"interactionType\": 3, \"questionType\": 1, \"questionId\": \"4_CandySplitting\", \"learnToolsVersion\": \"0.3.4\", \"valueTowardsCompletion\": 0.0, \"failureMessage\": \"\", \"exceptionClass\": \"\", \"trace\": \"\", \"outcomeType\": 4}}, \"*\")"
      ],
      "text/plain": [
       "<IPython.core.display.Javascript object>"
      ]
     },
     "metadata": {},
     "output_type": "display_data"
    },
    {
     "data": {
      "text/markdown": [
       "<span style=\"color:#33cc99\">Solution:</span> \n",
       "```python\n",
       "(alice_candies + bob_candies + carol_candies) % 3\n",
       "```"
      ],
      "text/plain": [
       "Solution: \n",
       "```python\n",
       "(alice_candies + bob_candies + carol_candies) % 3\n",
       "```"
      ]
     },
     "metadata": {},
     "output_type": "display_data"
    }
   ],
   "source": [
    "q4.hint()\n",
    "q4.solution()"
   ]
  },
  {
   "cell_type": "markdown",
   "id": "2791d90f",
   "metadata": {
    "papermill": {
     "duration": 0.01493,
     "end_time": "2022-11-24T01:36:15.183367",
     "exception": false,
     "start_time": "2022-11-24T01:36:15.168437",
     "status": "completed"
    },
    "tags": []
   },
   "source": [
    "# Keep Going\n",
    "\n",
    "Next up, you'll **[learn to write new functions and understand functions others write](https://www.kaggle.com/colinmorris/functions-and-getting-help)**. This will make you at least 10 times more productive as a Python programmer. "
   ]
  },
  {
   "cell_type": "markdown",
   "id": "611eaa07",
   "metadata": {
    "papermill": {
     "duration": 0.010762,
     "end_time": "2022-11-24T01:36:15.207731",
     "exception": false,
     "start_time": "2022-11-24T01:36:15.196969",
     "status": "completed"
    },
    "tags": []
   },
   "source": [
    "---\n",
    "\n",
    "\n",
    "\n",
    "\n",
    "*Have questions or comments? Visit the [course discussion forum](https://www.kaggle.com/learn/python/discussion) to chat with other learners.*"
   ]
  },
  {
   "cell_type": "code",
   "execution_count": null,
   "id": "f5ef7f11",
   "metadata": {
    "papermill": {
     "duration": 0.010339,
     "end_time": "2022-11-24T01:36:15.228922",
     "exception": false,
     "start_time": "2022-11-24T01:36:15.218583",
     "status": "completed"
    },
    "tags": []
   },
   "outputs": [],
   "source": []
  }
 ],
 "metadata": {
  "kernelspec": {
   "display_name": "Python 3",
   "language": "python",
   "name": "python3"
  },
  "language_info": {
   "codemirror_mode": {
    "name": "ipython",
    "version": 3
   },
   "file_extension": ".py",
   "mimetype": "text/x-python",
   "name": "python",
   "nbconvert_exporter": "python",
   "pygments_lexer": "ipython3",
   "version": "3.7.12"
  },
  "papermill": {
   "default_parameters": {},
   "duration": 13.306117,
   "end_time": "2022-11-24T01:36:15.963062",
   "environment_variables": {},
   "exception": null,
   "input_path": "__notebook__.ipynb",
   "output_path": "__notebook__.ipynb",
   "parameters": {},
   "start_time": "2022-11-24T01:36:02.656945",
   "version": "2.3.4"
  }
 },
 "nbformat": 4,
 "nbformat_minor": 5
}
