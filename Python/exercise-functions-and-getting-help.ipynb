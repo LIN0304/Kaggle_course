{
 "cells": [
  {
   "cell_type": "markdown",
   "id": "782cf527",
   "metadata": {
    "papermill": {
     "duration": 0.005938,
     "end_time": "2022-11-24T01:36:29.668665",
     "exception": false,
     "start_time": "2022-11-24T01:36:29.662727",
     "status": "completed"
    },
    "tags": []
   },
   "source": [
    "**This notebook is an exercise in the [Python](https://www.kaggle.com/learn/python) course.  You can reference the tutorial at [this link](https://www.kaggle.com/colinmorris/functions-and-getting-help).**\n",
    "\n",
    "---\n"
   ]
  },
  {
   "cell_type": "markdown",
   "id": "c29cd83b",
   "metadata": {
    "papermill": {
     "duration": 0.004077,
     "end_time": "2022-11-24T01:36:29.677826",
     "exception": false,
     "start_time": "2022-11-24T01:36:29.673749",
     "status": "completed"
    },
    "tags": []
   },
   "source": [
    "Functions are powerful. Try writing some yourself.\n",
    "\n",
    "As before, don't forget to run the setup code below before jumping into question 1."
   ]
  },
  {
   "cell_type": "code",
   "execution_count": 1,
   "id": "c5e378bc",
   "metadata": {
    "_kg_hide-input": true,
    "_kg_hide-output": true,
    "execution": {
     "iopub.execute_input": "2022-11-24T01:36:29.689016Z",
     "iopub.status.busy": "2022-11-24T01:36:29.688457Z",
     "iopub.status.idle": "2022-11-24T01:36:29.750170Z",
     "shell.execute_reply": "2022-11-24T01:36:29.748362Z"
    },
    "papermill": {
     "duration": 0.070659,
     "end_time": "2022-11-24T01:36:29.753072",
     "exception": false,
     "start_time": "2022-11-24T01:36:29.682413",
     "status": "completed"
    },
    "tags": []
   },
   "outputs": [
    {
     "name": "stdout",
     "output_type": "stream",
     "text": [
      "Setup complete.\n"
     ]
    }
   ],
   "source": [
    "# SETUP. You don't need to worry for now about what this code does or how it works.\n",
    "from learntools.core import binder; binder.bind(globals())\n",
    "from learntools.python.ex2 import *\n",
    "print('Setup complete.')\n"
   ]
  },
  {
   "cell_type": "markdown",
   "id": "e4bcd0db",
   "metadata": {
    "papermill": {
     "duration": 0.004471,
     "end_time": "2022-11-24T01:36:29.762670",
     "exception": false,
     "start_time": "2022-11-24T01:36:29.758199",
     "status": "completed"
    },
    "tags": []
   },
   "source": [
    "# 1.\n",
    "\n",
    "Complete the body of the following function according to its docstring.\n",
    "\n",
    "HINT: Python has a built-in function `round`."
   ]
  },
  {
   "cell_type": "code",
   "execution_count": 2,
   "id": "8df37f26",
   "metadata": {
    "execution": {
     "iopub.execute_input": "2022-11-24T01:36:29.775002Z",
     "iopub.status.busy": "2022-11-24T01:36:29.773793Z",
     "iopub.status.idle": "2022-11-24T01:36:29.788814Z",
     "shell.execute_reply": "2022-11-24T01:36:29.787789Z"
    },
    "papermill": {
     "duration": 0.023051,
     "end_time": "2022-11-24T01:36:29.790948",
     "exception": false,
     "start_time": "2022-11-24T01:36:29.767897",
     "status": "completed"
    },
    "tags": []
   },
   "outputs": [
    {
     "data": {
      "application/javascript": [
       "parent.postMessage({\"jupyterEvent\": \"custom.exercise_interaction\", \"data\": {\"outcomeType\": 1, \"valueTowardsCompletion\": 0.16666666666666666, \"interactionType\": 1, \"questionType\": 2, \"questionId\": \"1_RoundFunctionProblem\", \"learnToolsVersion\": \"0.3.4\", \"failureMessage\": \"\", \"exceptionClass\": \"\", \"trace\": \"\"}}, \"*\")"
      ],
      "text/plain": [
       "<IPython.core.display.Javascript object>"
      ]
     },
     "metadata": {},
     "output_type": "display_data"
    },
    {
     "data": {
      "text/markdown": [
       "<span style=\"color:#33cc33\">Correct</span>"
      ],
      "text/plain": [
       "Correct"
      ]
     },
     "metadata": {},
     "output_type": "display_data"
    }
   ],
   "source": [
    "def round_to_two_places(num):\n",
    "    \"\"\"Return the given number rounded to two decimal places. \n",
    "    \n",
    "    >>> round_to_two_places(3.14159)\n",
    "    3.14\n",
    "    \"\"\"\n",
    "    return round(num,2)\n",
    "    # Replace this body with your own code.\n",
    "    # (\"pass\" is a keyword that does literally nothing. We used it as a placeholder\n",
    "    # because after we begin a code block, Python requires at least one line of code)\n",
    "    pass\n",
    "\n",
    "# Check your answer\n",
    "q1.check()"
   ]
  },
  {
   "cell_type": "code",
   "execution_count": 3,
   "id": "89487e92",
   "metadata": {
    "execution": {
     "iopub.execute_input": "2022-11-24T01:36:29.803609Z",
     "iopub.status.busy": "2022-11-24T01:36:29.802563Z",
     "iopub.status.idle": "2022-11-24T01:36:29.808648Z",
     "shell.execute_reply": "2022-11-24T01:36:29.807501Z"
    },
    "papermill": {
     "duration": 0.017663,
     "end_time": "2022-11-24T01:36:29.813597",
     "exception": false,
     "start_time": "2022-11-24T01:36:29.795934",
     "status": "completed"
    },
    "tags": []
   },
   "outputs": [],
   "source": [
    "# Uncomment the following for a hint\n",
    "#q1.hint()\n",
    "# Or uncomment the following to peek at the solution\n",
    "#q1.solution()"
   ]
  },
  {
   "cell_type": "markdown",
   "id": "f6599abb",
   "metadata": {
    "papermill": {
     "duration": 0.005744,
     "end_time": "2022-11-24T01:36:29.825590",
     "exception": false,
     "start_time": "2022-11-24T01:36:29.819846",
     "status": "completed"
    },
    "tags": []
   },
   "source": [
    "# 2.\n",
    "The help for `round` says that `ndigits` (the second argument) may be negative.\n",
    "What do you think will happen when it is? Try some examples in the following cell."
   ]
  },
  {
   "cell_type": "code",
   "execution_count": 4,
   "id": "4b48452d",
   "metadata": {
    "execution": {
     "iopub.execute_input": "2022-11-24T01:36:29.839855Z",
     "iopub.status.busy": "2022-11-24T01:36:29.839042Z",
     "iopub.status.idle": "2022-11-24T01:36:29.846603Z",
     "shell.execute_reply": "2022-11-24T01:36:29.844978Z"
    },
    "papermill": {
     "duration": 0.016994,
     "end_time": "2022-11-24T01:36:29.848710",
     "exception": false,
     "start_time": "2022-11-24T01:36:29.831716",
     "status": "completed"
    },
    "tags": []
   },
   "outputs": [
    {
     "data": {
      "text/plain": [
       "20.0"
      ]
     },
     "execution_count": 4,
     "metadata": {},
     "output_type": "execute_result"
    }
   ],
   "source": [
    "# Put your test code here\n",
    "round(24.99,-1)"
   ]
  },
  {
   "cell_type": "markdown",
   "id": "c791d9f1",
   "metadata": {
    "papermill": {
     "duration": 0.004274,
     "end_time": "2022-11-24T01:36:29.857764",
     "exception": false,
     "start_time": "2022-11-24T01:36:29.853490",
     "status": "completed"
    },
    "tags": []
   },
   "source": [
    "Can you think of a case where this would be useful?  Once you're ready, run the code cell below to see the answer and to receive credit for completing the problem."
   ]
  },
  {
   "cell_type": "code",
   "execution_count": 5,
   "id": "9d6548d8",
   "metadata": {
    "execution": {
     "iopub.execute_input": "2022-11-24T01:36:29.868638Z",
     "iopub.status.busy": "2022-11-24T01:36:29.868166Z",
     "iopub.status.idle": "2022-11-24T01:36:29.875849Z",
     "shell.execute_reply": "2022-11-24T01:36:29.874727Z"
    },
    "papermill": {
     "duration": 0.015382,
     "end_time": "2022-11-24T01:36:29.877619",
     "exception": false,
     "start_time": "2022-11-24T01:36:29.862237",
     "status": "completed"
    },
    "tags": []
   },
   "outputs": [
    {
     "data": {
      "application/javascript": [
       "parent.postMessage({\"jupyterEvent\": \"custom.exercise_interaction\", \"data\": {\"interactionType\": 3, \"questionType\": 4, \"questionId\": \"2_RoundNdigitsProblem\", \"learnToolsVersion\": \"0.3.4\", \"valueTowardsCompletion\": 0.0, \"failureMessage\": \"\", \"exceptionClass\": \"\", \"trace\": \"\", \"outcomeType\": 4}}, \"*\")"
      ],
      "text/plain": [
       "<IPython.core.display.Javascript object>"
      ]
     },
     "metadata": {},
     "output_type": "display_data"
    },
    {
     "data": {
      "text/markdown": [
       "<span style=\"color:#33cc99\">Solution:</span> As you've seen, `ndigits=-1` rounds to the nearest 10, `ndigits=-2` rounds to the nearest 100 and so on. Where might this be useful? Suppose we're dealing with large numbers:\n",
       "\n",
       "> The area of Finland is 338,424 km²  \n",
       "> The area of Greenland is 2,166,086 km²\n",
       "\n",
       "We probably don't care whether it's really 338,424, or 338,425, or 338,177. All those digits of accuracy are just distracting. We can chop them off by calling `round()` with `ndigits=-3`:\n",
       "\n",
       "> The area of Finland is 338,000 km²  \n",
       "> The area of Greenland is 2,166,000 km²\n",
       "\n",
       "(We'll talk about how we would get the commas later when we talk about string formatting :))\n"
      ],
      "text/plain": [
       "Solution: As you've seen, `ndigits=-1` rounds to the nearest 10, `ndigits=-2` rounds to the nearest 100 and so on. Where might this be useful? Suppose we're dealing with large numbers:\n",
       "\n",
       "> The area of Finland is 338,424 km²  \n",
       "> The area of Greenland is 2,166,086 km²\n",
       "\n",
       "We probably don't care whether it's really 338,424, or 338,425, or 338,177. All those digits of accuracy are just distracting. We can chop them off by calling `round()` with `ndigits=-3`:\n",
       "\n",
       "> The area of Finland is 338,000 km²  \n",
       "> The area of Greenland is 2,166,000 km²\n",
       "\n",
       "(We'll talk about how we would get the commas later when we talk about string formatting :))"
      ]
     },
     "metadata": {},
     "output_type": "display_data"
    }
   ],
   "source": [
    "# Check your answer (Run this code cell to receive credit!)\n",
    "q2.solution()"
   ]
  },
  {
   "cell_type": "markdown",
   "id": "7c5232c6",
   "metadata": {
    "papermill": {
     "duration": 0.004538,
     "end_time": "2022-11-24T01:36:29.887183",
     "exception": false,
     "start_time": "2022-11-24T01:36:29.882645",
     "status": "completed"
    },
    "tags": []
   },
   "source": [
    "# 3.\n",
    "\n",
    "In the previous exercise, the candy-sharing friends Alice, Bob and Carol tried to split candies evenly. For the sake of their friendship, any candies left over would be smashed. For example, if they collectively bring home 91 candies, they'll take 30 each and smash 1.\n",
    "\n",
    "Below is a simple function that will calculate the number of candies to smash for *any* number of total candies.\n",
    "\n",
    "Modify it so that it optionally takes a second argument representing the number of friends the candies are being split between. If no second argument is provided, it should assume 3 friends, as before.\n",
    "\n",
    "Update the docstring to reflect this new behaviour."
   ]
  },
  {
   "cell_type": "code",
   "execution_count": 6,
   "id": "cd6a2f13",
   "metadata": {
    "execution": {
     "iopub.execute_input": "2022-11-24T01:36:29.899307Z",
     "iopub.status.busy": "2022-11-24T01:36:29.898448Z",
     "iopub.status.idle": "2022-11-24T01:36:29.908627Z",
     "shell.execute_reply": "2022-11-24T01:36:29.907158Z"
    },
    "papermill": {
     "duration": 0.018841,
     "end_time": "2022-11-24T01:36:29.911093",
     "exception": false,
     "start_time": "2022-11-24T01:36:29.892252",
     "status": "completed"
    },
    "tags": []
   },
   "outputs": [
    {
     "data": {
      "application/javascript": [
       "parent.postMessage({\"jupyterEvent\": \"custom.exercise_interaction\", \"data\": {\"outcomeType\": 1, \"valueTowardsCompletion\": 0.16666666666666666, \"interactionType\": 1, \"questionType\": 2, \"questionId\": \"3_CandySmashingFunctionProblem\", \"learnToolsVersion\": \"0.3.4\", \"failureMessage\": \"\", \"exceptionClass\": \"\", \"trace\": \"\"}}, \"*\")"
      ],
      "text/plain": [
       "<IPython.core.display.Javascript object>"
      ]
     },
     "metadata": {},
     "output_type": "display_data"
    },
    {
     "data": {
      "text/markdown": [
       "<span style=\"color:#33cc33\">Correct</span>"
      ],
      "text/plain": [
       "Correct"
      ]
     },
     "metadata": {},
     "output_type": "display_data"
    }
   ],
   "source": [
    "def to_smash(total_candies, a = 3):\n",
    "    \"\"\"Return the number of leftover candies that must be smashed after distributing\n",
    "    the given number of candies evenly between 3 friends.\n",
    "    \n",
    "    >>> to_smash(91)\n",
    "    1\n",
    "    \"\"\"\n",
    "    \n",
    "    return total_candies % a\n",
    "\n",
    "# Check your answer\n",
    "q3.check()"
   ]
  },
  {
   "cell_type": "code",
   "execution_count": 7,
   "id": "46efa110",
   "metadata": {
    "execution": {
     "iopub.execute_input": "2022-11-24T01:36:29.924283Z",
     "iopub.status.busy": "2022-11-24T01:36:29.923276Z",
     "iopub.status.idle": "2022-11-24T01:36:29.932658Z",
     "shell.execute_reply": "2022-11-24T01:36:29.931643Z"
    },
    "papermill": {
     "duration": 0.018208,
     "end_time": "2022-11-24T01:36:29.934747",
     "exception": false,
     "start_time": "2022-11-24T01:36:29.916539",
     "status": "completed"
    },
    "tags": []
   },
   "outputs": [
    {
     "data": {
      "application/javascript": [
       "parent.postMessage({\"jupyterEvent\": \"custom.exercise_interaction\", \"data\": {\"interactionType\": 2, \"questionType\": 2, \"questionId\": \"3_CandySmashingFunctionProblem\", \"learnToolsVersion\": \"0.3.4\", \"valueTowardsCompletion\": 0.0, \"failureMessage\": \"\", \"exceptionClass\": \"\", \"trace\": \"\", \"outcomeType\": 4}}, \"*\")"
      ],
      "text/plain": [
       "<IPython.core.display.Javascript object>"
      ]
     },
     "metadata": {},
     "output_type": "display_data"
    },
    {
     "data": {
      "text/markdown": [
       "<span style=\"color:#3366cc\">Hint:</span> Refer to the section of the last tutorial notebook where we talked about default arguments"
      ],
      "text/plain": [
       "Hint: Refer to the section of the last tutorial notebook where we talked about default arguments"
      ]
     },
     "metadata": {},
     "output_type": "display_data"
    }
   ],
   "source": [
    "q3.hint()"
   ]
  },
  {
   "cell_type": "code",
   "execution_count": 8,
   "id": "68305c52",
   "metadata": {
    "execution": {
     "iopub.execute_input": "2022-11-24T01:36:29.948000Z",
     "iopub.status.busy": "2022-11-24T01:36:29.947149Z",
     "iopub.status.idle": "2022-11-24T01:36:29.955390Z",
     "shell.execute_reply": "2022-11-24T01:36:29.954009Z"
    },
    "papermill": {
     "duration": 0.017203,
     "end_time": "2022-11-24T01:36:29.957950",
     "exception": false,
     "start_time": "2022-11-24T01:36:29.940747",
     "status": "completed"
    },
    "tags": []
   },
   "outputs": [
    {
     "data": {
      "application/javascript": [
       "parent.postMessage({\"jupyterEvent\": \"custom.exercise_interaction\", \"data\": {\"interactionType\": 3, \"questionType\": 2, \"questionId\": \"3_CandySmashingFunctionProblem\", \"learnToolsVersion\": \"0.3.4\", \"valueTowardsCompletion\": 0.0, \"failureMessage\": \"\", \"exceptionClass\": \"\", \"trace\": \"\", \"outcomeType\": 4}}, \"*\")"
      ],
      "text/plain": [
       "<IPython.core.display.Javascript object>"
      ]
     },
     "metadata": {},
     "output_type": "display_data"
    },
    {
     "data": {
      "text/markdown": [
       "<span style=\"color:#33cc99\">Solution:</span> \n",
       "```python\n",
       "def to_smash(total_candies, n_friends=3):\n",
       "    return total_candies % n_friends\n",
       "```"
      ],
      "text/plain": [
       "Solution: \n",
       "```python\n",
       "def to_smash(total_candies, n_friends=3):\n",
       "    return total_candies % n_friends\n",
       "```"
      ]
     },
     "metadata": {},
     "output_type": "display_data"
    }
   ],
   "source": [
    "q3.solution()"
   ]
  },
  {
   "cell_type": "markdown",
   "id": "1430da69",
   "metadata": {
    "papermill": {
     "duration": 0.005358,
     "end_time": "2022-11-24T01:36:29.969176",
     "exception": false,
     "start_time": "2022-11-24T01:36:29.963818",
     "status": "completed"
    },
    "tags": []
   },
   "source": [
    "# 4. (Optional)\n",
    "\n",
    "It may not be fun, but reading and understanding error messages will be an important part of your Python career.\n",
    "\n",
    "Each code cell below contains some commented buggy code. For each cell...\n",
    "\n",
    "1. Read the code and predict what you think will happen when it's run.\n",
    "2. Then uncomment the code and run it to see what happens. (**Tip**: In the kernel editor, you can highlight several lines and press `ctrl`+`/` to toggle commenting.)\n",
    "3. Fix the code (so that it accomplishes its intended purpose without throwing an exception)\n",
    "\n",
    "<!-- TODO: should this be autochecked? Delta is probably pretty small. -->"
   ]
  },
  {
   "cell_type": "code",
   "execution_count": 9,
   "id": "e0503b93",
   "metadata": {
    "execution": {
     "iopub.execute_input": "2022-11-24T01:36:29.983076Z",
     "iopub.status.busy": "2022-11-24T01:36:29.981666Z",
     "iopub.status.idle": "2022-11-24T01:36:29.986100Z",
     "shell.execute_reply": "2022-11-24T01:36:29.985393Z"
    },
    "papermill": {
     "duration": 0.013162,
     "end_time": "2022-11-24T01:36:29.987936",
     "exception": false,
     "start_time": "2022-11-24T01:36:29.974774",
     "status": "completed"
    },
    "tags": []
   },
   "outputs": [],
   "source": [
    "# ruound_to_two_places(9.9999)"
   ]
  },
  {
   "cell_type": "code",
   "execution_count": 10,
   "id": "c21dfabb",
   "metadata": {
    "execution": {
     "iopub.execute_input": "2022-11-24T01:36:30.001979Z",
     "iopub.status.busy": "2022-11-24T01:36:30.001398Z",
     "iopub.status.idle": "2022-11-24T01:36:30.005665Z",
     "shell.execute_reply": "2022-11-24T01:36:30.004223Z"
    },
    "papermill": {
     "duration": 0.014647,
     "end_time": "2022-11-24T01:36:30.008301",
     "exception": false,
     "start_time": "2022-11-24T01:36:29.993654",
     "status": "completed"
    },
    "tags": []
   },
   "outputs": [],
   "source": [
    "# x = -10\n",
    "# y = 5\n",
    "# # Which of the two variables above has the smallest absolute value?\n",
    "# smallest_abs = min(abs(x, y))"
   ]
  },
  {
   "cell_type": "code",
   "execution_count": 11,
   "id": "9525bb5f",
   "metadata": {
    "execution": {
     "iopub.execute_input": "2022-11-24T01:36:30.021665Z",
     "iopub.status.busy": "2022-11-24T01:36:30.021275Z",
     "iopub.status.idle": "2022-11-24T01:36:30.027826Z",
     "shell.execute_reply": "2022-11-24T01:36:30.026690Z"
    },
    "papermill": {
     "duration": 0.016255,
     "end_time": "2022-11-24T01:36:30.030450",
     "exception": false,
     "start_time": "2022-11-24T01:36:30.014195",
     "status": "completed"
    },
    "tags": []
   },
   "outputs": [],
   "source": [
    "# def f(x):\n",
    "#     y = abs(x)\n",
    "# return y\n",
    "\n",
    "# print(f(5))"
   ]
  },
  {
   "cell_type": "markdown",
   "id": "862988bf",
   "metadata": {
    "papermill": {
     "duration": 0.005318,
     "end_time": "2022-11-24T01:36:30.041680",
     "exception": false,
     "start_time": "2022-11-24T01:36:30.036362",
     "status": "completed"
    },
    "tags": []
   },
   "source": [
    "# Keep Going\n",
    "\n",
    "Nice job with the code. Next up, you'll learn about *conditionals*, which you'll need to **[write interesting programs](https://www.kaggle.com/colinmorris/booleans-and-conditionals)**. "
   ]
  },
  {
   "cell_type": "markdown",
   "id": "021d3620",
   "metadata": {
    "papermill": {
     "duration": 0.005185,
     "end_time": "2022-11-24T01:36:30.052410",
     "exception": false,
     "start_time": "2022-11-24T01:36:30.047225",
     "status": "completed"
    },
    "tags": []
   },
   "source": [
    "---\n",
    "\n",
    "\n",
    "\n",
    "\n",
    "*Have questions or comments? Visit the [course discussion forum](https://www.kaggle.com/learn/python/discussion) to chat with other learners.*"
   ]
  }
 ],
 "metadata": {
  "kernelspec": {
   "display_name": "Python 3",
   "language": "python",
   "name": "python3"
  },
  "language_info": {
   "codemirror_mode": {
    "name": "ipython",
    "version": 3
   },
   "file_extension": ".py",
   "mimetype": "text/x-python",
   "name": "python",
   "nbconvert_exporter": "python",
   "pygments_lexer": "ipython3",
   "version": "3.7.12"
  },
  "papermill": {
   "default_parameters": {},
   "duration": 10.636389,
   "end_time": "2022-11-24T01:36:30.680205",
   "environment_variables": {},
   "exception": null,
   "input_path": "__notebook__.ipynb",
   "output_path": "__notebook__.ipynb",
   "parameters": {},
   "start_time": "2022-11-24T01:36:20.043816",
   "version": "2.3.4"
  }
 },
 "nbformat": 4,
 "nbformat_minor": 5
}
