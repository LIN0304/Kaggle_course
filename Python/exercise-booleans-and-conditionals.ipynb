{
 "cells": [
  {
   "cell_type": "markdown",
   "id": "1e7ba282",
   "metadata": {
    "papermill": {
     "duration": 0.012095,
     "end_time": "2022-11-24T01:36:54.010173",
     "exception": false,
     "start_time": "2022-11-24T01:36:53.998078",
     "status": "completed"
    },
    "tags": []
   },
   "source": [
    "**This notebook is an exercise in the [Python](https://www.kaggle.com/learn/python) course.  You can reference the tutorial at [this link](https://www.kaggle.com/colinmorris/booleans-and-conditionals).**\n",
    "\n",
    "---\n"
   ]
  },
  {
   "cell_type": "markdown",
   "id": "779da222",
   "metadata": {
    "papermill": {
     "duration": 0.008581,
     "end_time": "2022-11-24T01:36:54.028342",
     "exception": false,
     "start_time": "2022-11-24T01:36:54.019761",
     "status": "completed"
    },
    "tags": []
   },
   "source": [
    "In this exercise, you'll put to work what you have learned about booleans and conditionals.\n",
    "\n",
    "To get started, **run the setup code below** before writing your own code (and if you leave this notebook and come back later, don't forget to run the setup code again)."
   ]
  },
  {
   "cell_type": "code",
   "execution_count": 1,
   "id": "31da7546",
   "metadata": {
    "execution": {
     "iopub.execute_input": "2022-11-24T01:36:54.049424Z",
     "iopub.status.busy": "2022-11-24T01:36:54.048633Z",
     "iopub.status.idle": "2022-11-24T01:36:54.115055Z",
     "shell.execute_reply": "2022-11-24T01:36:54.113671Z"
    },
    "papermill": {
     "duration": 0.081353,
     "end_time": "2022-11-24T01:36:54.118801",
     "exception": false,
     "start_time": "2022-11-24T01:36:54.037448",
     "status": "completed"
    },
    "tags": []
   },
   "outputs": [
    {
     "name": "stdout",
     "output_type": "stream",
     "text": [
      "Setup complete.\n"
     ]
    }
   ],
   "source": [
    "from learntools.core import binder; binder.bind(globals())\n",
    "from learntools.python.ex3 import *\n",
    "print('Setup complete.')"
   ]
  },
  {
   "cell_type": "markdown",
   "id": "9376165b",
   "metadata": {
    "papermill": {
     "duration": 0.008767,
     "end_time": "2022-11-24T01:36:54.137846",
     "exception": false,
     "start_time": "2022-11-24T01:36:54.129079",
     "status": "completed"
    },
    "tags": []
   },
   "source": [
    "# 1.\n",
    "\n",
    "Many programming languages have [`sign`](https://en.wikipedia.org/wiki/Sign_function) available as a built-in function. Python doesn't, but we can define our own!\n",
    "\n",
    "In the cell below, define a function called `sign` which takes a numerical argument and returns -1 if it's negative, 1 if it's positive, and 0 if it's 0."
   ]
  },
  {
   "cell_type": "code",
   "execution_count": 2,
   "id": "5ee55e0c",
   "metadata": {
    "execution": {
     "iopub.execute_input": "2022-11-24T01:36:54.158070Z",
     "iopub.status.busy": "2022-11-24T01:36:54.157595Z",
     "iopub.status.idle": "2022-11-24T01:36:54.171695Z",
     "shell.execute_reply": "2022-11-24T01:36:54.170761Z"
    },
    "papermill": {
     "duration": 0.026949,
     "end_time": "2022-11-24T01:36:54.173983",
     "exception": false,
     "start_time": "2022-11-24T01:36:54.147034",
     "status": "completed"
    },
    "tags": []
   },
   "outputs": [
    {
     "data": {
      "application/javascript": [
       "parent.postMessage({\"jupyterEvent\": \"custom.exercise_interaction\", \"data\": {\"outcomeType\": 1, \"valueTowardsCompletion\": 0.2, \"interactionType\": 1, \"questionType\": 2, \"questionId\": \"1_SignFunctionProblem\", \"learnToolsVersion\": \"0.3.4\", \"failureMessage\": \"\", \"exceptionClass\": \"\", \"trace\": \"\"}}, \"*\")"
      ],
      "text/plain": [
       "<IPython.core.display.Javascript object>"
      ]
     },
     "metadata": {},
     "output_type": "display_data"
    },
    {
     "data": {
      "text/markdown": [
       "<span style=\"color:#33cc33\">Correct</span>"
      ],
      "text/plain": [
       "Correct"
      ]
     },
     "metadata": {},
     "output_type": "display_data"
    }
   ],
   "source": [
    "# Your code goes here. Define a function called 'sign'\n",
    "def sign(x):\n",
    "    if x > 0:\n",
    "        return 1\n",
    "    elif x < 0:\n",
    "        return -1\n",
    "    else:\n",
    "        return 0\n",
    "    \n",
    "# Check your answer\n",
    "q1.check()"
   ]
  },
  {
   "cell_type": "code",
   "execution_count": 3,
   "id": "4192d084",
   "metadata": {
    "execution": {
     "iopub.execute_input": "2022-11-24T01:36:54.196916Z",
     "iopub.status.busy": "2022-11-24T01:36:54.196249Z",
     "iopub.status.idle": "2022-11-24T01:36:54.205778Z",
     "shell.execute_reply": "2022-11-24T01:36:54.204540Z"
    },
    "papermill": {
     "duration": 0.02331,
     "end_time": "2022-11-24T01:36:54.208554",
     "exception": false,
     "start_time": "2022-11-24T01:36:54.185244",
     "status": "completed"
    },
    "tags": []
   },
   "outputs": [
    {
     "data": {
      "application/javascript": [
       "parent.postMessage({\"jupyterEvent\": \"custom.exercise_interaction\", \"data\": {\"interactionType\": 3, \"questionType\": 2, \"questionId\": \"1_SignFunctionProblem\", \"learnToolsVersion\": \"0.3.4\", \"valueTowardsCompletion\": 0.0, \"failureMessage\": \"\", \"exceptionClass\": \"\", \"trace\": \"\", \"outcomeType\": 4}}, \"*\")"
      ],
      "text/plain": [
       "<IPython.core.display.Javascript object>"
      ]
     },
     "metadata": {},
     "output_type": "display_data"
    },
    {
     "data": {
      "text/markdown": [
       "<span style=\"color:#33cc99\">Solution:</span> \n",
       "```python\n",
       "def sign(x):\n",
       "    if x > 0:\n",
       "        return 1\n",
       "    elif x < 0:\n",
       "        return -1\n",
       "    else:\n",
       "        return 0\n",
       "```"
      ],
      "text/plain": [
       "Solution: \n",
       "```python\n",
       "def sign(x):\n",
       "    if x > 0:\n",
       "        return 1\n",
       "    elif x < 0:\n",
       "        return -1\n",
       "    else:\n",
       "        return 0\n",
       "```"
      ]
     },
     "metadata": {},
     "output_type": "display_data"
    }
   ],
   "source": [
    "q1.solution()"
   ]
  },
  {
   "cell_type": "markdown",
   "id": "31d32974",
   "metadata": {
    "papermill": {
     "duration": 0.009402,
     "end_time": "2022-11-24T01:36:54.227765",
     "exception": false,
     "start_time": "2022-11-24T01:36:54.218363",
     "status": "completed"
    },
    "tags": []
   },
   "source": [
    "# 2.\n",
    "\n",
    "We've decided to add \"logging\" to our `to_smash` function from the previous exercise."
   ]
  },
  {
   "cell_type": "code",
   "execution_count": 4,
   "id": "a00ee692",
   "metadata": {
    "execution": {
     "iopub.execute_input": "2022-11-24T01:36:54.249816Z",
     "iopub.status.busy": "2022-11-24T01:36:54.249319Z",
     "iopub.status.idle": "2022-11-24T01:36:54.258242Z",
     "shell.execute_reply": "2022-11-24T01:36:54.256854Z"
    },
    "papermill": {
     "duration": 0.023353,
     "end_time": "2022-11-24T01:36:54.261110",
     "exception": false,
     "start_time": "2022-11-24T01:36:54.237757",
     "status": "completed"
    },
    "tags": []
   },
   "outputs": [
    {
     "name": "stdout",
     "output_type": "stream",
     "text": [
      "Splitting 91 candies\n"
     ]
    },
    {
     "data": {
      "text/plain": [
       "1"
      ]
     },
     "execution_count": 4,
     "metadata": {},
     "output_type": "execute_result"
    }
   ],
   "source": [
    "def to_smash(total_candies, n = 3):\n",
    "\n",
    "    print(\"Splitting\", total_candies, \"candies\")\n",
    "    return total_candies % n\n",
    "\n",
    "to_smash(91)"
   ]
  },
  {
   "cell_type": "markdown",
   "id": "15444c53",
   "metadata": {
    "papermill": {
     "duration": 0.009425,
     "end_time": "2022-11-24T01:36:54.280203",
     "exception": false,
     "start_time": "2022-11-24T01:36:54.270778",
     "status": "completed"
    },
    "tags": []
   },
   "source": [
    "What happens if we call it with `total_candies = 1`?"
   ]
  },
  {
   "cell_type": "code",
   "execution_count": 5,
   "id": "09415991",
   "metadata": {
    "execution": {
     "iopub.execute_input": "2022-11-24T01:36:54.302415Z",
     "iopub.status.busy": "2022-11-24T01:36:54.301971Z",
     "iopub.status.idle": "2022-11-24T01:36:54.310035Z",
     "shell.execute_reply": "2022-11-24T01:36:54.308891Z"
    },
    "papermill": {
     "duration": 0.022617,
     "end_time": "2022-11-24T01:36:54.312888",
     "exception": false,
     "start_time": "2022-11-24T01:36:54.290271",
     "status": "completed"
    },
    "tags": []
   },
   "outputs": [
    {
     "name": "stdout",
     "output_type": "stream",
     "text": [
      "Splitting 1 candies\n"
     ]
    },
    {
     "data": {
      "text/plain": [
       "1"
      ]
     },
     "execution_count": 5,
     "metadata": {},
     "output_type": "execute_result"
    }
   ],
   "source": [
    "to_smash(1)"
   ]
  },
  {
   "cell_type": "markdown",
   "id": "59fe079e",
   "metadata": {
    "papermill": {
     "duration": 0.00974,
     "end_time": "2022-11-24T01:36:54.332854",
     "exception": false,
     "start_time": "2022-11-24T01:36:54.323114",
     "status": "completed"
    },
    "tags": []
   },
   "source": [
    "That isn't great grammar!\n",
    "\n",
    "Modify the definition in the cell below to correct the grammar of our print statement. (If there's only one candy, we should use the singular \"candy\" instead of the plural \"candies\")"
   ]
  },
  {
   "cell_type": "code",
   "execution_count": 6,
   "id": "39c9e5f2",
   "metadata": {
    "execution": {
     "iopub.execute_input": "2022-11-24T01:36:54.354845Z",
     "iopub.status.busy": "2022-11-24T01:36:54.354410Z",
     "iopub.status.idle": "2022-11-24T01:36:54.363865Z",
     "shell.execute_reply": "2022-11-24T01:36:54.362556Z"
    },
    "papermill": {
     "duration": 0.023304,
     "end_time": "2022-11-24T01:36:54.366386",
     "exception": false,
     "start_time": "2022-11-24T01:36:54.343082",
     "status": "completed"
    },
    "tags": []
   },
   "outputs": [
    {
     "name": "stdout",
     "output_type": "stream",
     "text": [
      "Splitting 91 candies\n",
      "Splitting 1 candies\n"
     ]
    },
    {
     "data": {
      "text/plain": [
       "1"
      ]
     },
     "execution_count": 6,
     "metadata": {},
     "output_type": "execute_result"
    }
   ],
   "source": [
    "def to_smash(total_candies):\n",
    "    \"\"\"Return the number of leftover candies that must be smashed after distributing\n",
    "    the given number of candies evenly between 3 friends.\n",
    "    \n",
    "    >>> to_smash(91)\n",
    "    1\n",
    "    \"\"\"\n",
    "    print(\"Splitting\", total_candies, \"candies\")\n",
    "    return total_candies % 3\n",
    "\n",
    "to_smash(91)\n",
    "to_smash(1)"
   ]
  },
  {
   "cell_type": "markdown",
   "id": "da703967",
   "metadata": {
    "papermill": {
     "duration": 0.009736,
     "end_time": "2022-11-24T01:36:54.386419",
     "exception": false,
     "start_time": "2022-11-24T01:36:54.376683",
     "status": "completed"
    },
    "tags": []
   },
   "source": [
    "To get credit for completing this problem, and to see the official answer, run the code cell below."
   ]
  },
  {
   "cell_type": "code",
   "execution_count": 7,
   "id": "219c4d26",
   "metadata": {
    "execution": {
     "iopub.execute_input": "2022-11-24T01:36:54.408694Z",
     "iopub.status.busy": "2022-11-24T01:36:54.408278Z",
     "iopub.status.idle": "2022-11-24T01:36:54.415893Z",
     "shell.execute_reply": "2022-11-24T01:36:54.414969Z"
    },
    "papermill": {
     "duration": 0.02173,
     "end_time": "2022-11-24T01:36:54.418397",
     "exception": false,
     "start_time": "2022-11-24T01:36:54.396667",
     "status": "completed"
    },
    "tags": []
   },
   "outputs": [
    {
     "data": {
      "application/javascript": [
       "parent.postMessage({\"jupyterEvent\": \"custom.exercise_interaction\", \"data\": {\"interactionType\": 3, \"questionType\": 4, \"questionId\": \"2_PluralizationProblem\", \"learnToolsVersion\": \"0.3.4\", \"valueTowardsCompletion\": 0.0, \"failureMessage\": \"\", \"exceptionClass\": \"\", \"trace\": \"\", \"outcomeType\": 4}}, \"*\")"
      ],
      "text/plain": [
       "<IPython.core.display.Javascript object>"
      ]
     },
     "metadata": {},
     "output_type": "display_data"
    },
    {
     "data": {
      "text/markdown": [
       "<span style=\"color:#33cc99\">Solution:</span> A straightforward (and totally fine) solution is to replace the original `print` call with:\n",
       "\n",
       "```python\n",
       "if total_candies == 1:\n",
       "    print(\"Splitting 1 candy\")\n",
       "else:\n",
       "    print(\"Splitting\", total_candies, \"candies\")\n",
       "```\n",
       "\n",
       "Here's a slightly more succinct solution using a conditional expression:\n",
       "\n",
       "```python\n",
       "print(\"Splitting\", total_candies, \"candy\" if total_candies == 1 else \"candies\")\n",
       "```"
      ],
      "text/plain": [
       "Solution: A straightforward (and totally fine) solution is to replace the original `print` call with:\n",
       "\n",
       "```python\n",
       "if total_candies == 1:\n",
       "    print(\"Splitting 1 candy\")\n",
       "else:\n",
       "    print(\"Splitting\", total_candies, \"candies\")\n",
       "```\n",
       "\n",
       "Here's a slightly more succinct solution using a conditional expression:\n",
       "\n",
       "```python\n",
       "print(\"Splitting\", total_candies, \"candy\" if total_candies == 1 else \"candies\")\n",
       "```"
      ]
     },
     "metadata": {},
     "output_type": "display_data"
    }
   ],
   "source": [
    "# Check your answer (Run this code cell to receive credit!)\n",
    "q2.solution()"
   ]
  },
  {
   "cell_type": "markdown",
   "id": "3b1a0b0f",
   "metadata": {
    "papermill": {
     "duration": 0.01007,
     "end_time": "2022-11-24T01:36:54.439232",
     "exception": false,
     "start_time": "2022-11-24T01:36:54.429162",
     "status": "completed"
    },
    "tags": []
   },
   "source": [
    "# 3. <span title=\"A bit spicy\" style=\"color: darkgreen \">🌶️</span>\n",
    "\n",
    "In the tutorial, we talked about deciding whether we're prepared for the weather. I said that I'm safe from today's weather if...\n",
    "- I have an umbrella...\n",
    "- or if the rain isn't too heavy and I have a hood...\n",
    "- otherwise, I'm still fine unless it's raining *and* it's a workday\n",
    "\n",
    "The function below uses our first attempt at turning this logic into a Python expression. I claimed that there was a bug in that code. Can you find it?\n",
    "\n",
    "To prove that `prepared_for_weather` is buggy, come up with a set of inputs where either:\n",
    "- the function returns `False` (but should have returned `True`), or\n",
    "- the function returned `True` (but should have returned `False`).\n",
    "\n",
    "To get credit for completing this question, your code should return a <font color='#33cc33'>Correct</font> result."
   ]
  },
  {
   "cell_type": "code",
   "execution_count": 8,
   "id": "ac6a2ed9",
   "metadata": {
    "execution": {
     "iopub.execute_input": "2022-11-24T01:36:54.462064Z",
     "iopub.status.busy": "2022-11-24T01:36:54.461694Z",
     "iopub.status.idle": "2022-11-24T01:36:54.474200Z",
     "shell.execute_reply": "2022-11-24T01:36:54.472891Z"
    },
    "papermill": {
     "duration": 0.026731,
     "end_time": "2022-11-24T01:36:54.476497",
     "exception": false,
     "start_time": "2022-11-24T01:36:54.449766",
     "status": "completed"
    },
    "tags": []
   },
   "outputs": [
    {
     "name": "stdout",
     "output_type": "stream",
     "text": [
      "False\n"
     ]
    },
    {
     "data": {
      "application/javascript": [
       "parent.postMessage({\"jupyterEvent\": \"custom.exercise_interaction\", \"data\": {\"outcomeType\": 1, \"valueTowardsCompletion\": 0.2, \"interactionType\": 1, \"questionType\": 1, \"questionId\": \"3_WeatherDebug\", \"learnToolsVersion\": \"0.3.4\", \"failureMessage\": \"\", \"exceptionClass\": \"\", \"trace\": \"\"}}, \"*\")"
      ],
      "text/plain": [
       "<IPython.core.display.Javascript object>"
      ]
     },
     "metadata": {},
     "output_type": "display_data"
    },
    {
     "data": {
      "text/markdown": [
       "<span style=\"color:#33cc33\">Correct:</span> \n",
       "\n",
       "One example of a failing test case is:\n",
       "\n",
       "```python\n",
       "have_umbrella = False\n",
       "rain_level = 0.0\n",
       "have_hood = False\n",
       "is_workday = False\n",
       "```\n",
       "\n",
       "Clearly we're prepared for the weather in this case. It's not raining. Not only that, it's not a workday, so we don't even need to leave the house! But our function will return False on these inputs.\n",
       "\n",
       "The key problem is that Python implictly parenthesizes the last part as:\n",
       "\n",
       "```python\n",
       "(not (rain_level > 0)) and is_workday\n",
       "```\n",
       "\n",
       "Whereas what we were trying to express would look more like:\n",
       "\n",
       "```python\n",
       "not (rain_level > 0 and is_workday)\n",
       "```\n"
      ],
      "text/plain": [
       "Correct: \n",
       "\n",
       "One example of a failing test case is:\n",
       "\n",
       "```python\n",
       "have_umbrella = False\n",
       "rain_level = 0.0\n",
       "have_hood = False\n",
       "is_workday = False\n",
       "```\n",
       "\n",
       "Clearly we're prepared for the weather in this case. It's not raining. Not only that, it's not a workday, so we don't even need to leave the house! But our function will return False on these inputs.\n",
       "\n",
       "The key problem is that Python implictly parenthesizes the last part as:\n",
       "\n",
       "```python\n",
       "(not (rain_level > 0)) and is_workday\n",
       "```\n",
       "\n",
       "Whereas what we were trying to express would look more like:\n",
       "\n",
       "```python\n",
       "not (rain_level > 0 and is_workday)\n",
       "```"
      ]
     },
     "metadata": {},
     "output_type": "display_data"
    }
   ],
   "source": [
    "def prepared_for_weather(have_umbrella, rain_level, have_hood, is_workday):\n",
    "    # Don't change this code. Our goal is just to find the bug, not fix it!\n",
    "    return have_umbrella or rain_level < 5 and have_hood or not rain_level > 0 and is_workday\n",
    "\n",
    "# Change the values of these inputs so they represent a case where prepared_for_weather\n",
    "# returns the wrong answer.\n",
    "have_umbrella = False\n",
    "rain_level = 1.0\n",
    "have_hood = False\n",
    "is_workday = False\n",
    "\n",
    "# Check what the function returns given the current values of the variables above\n",
    "actual = prepared_for_weather(have_umbrella, rain_level, have_hood, is_workday)\n",
    "print(actual)\n",
    "\n",
    "# Check your answer\n",
    "q3.check()"
   ]
  },
  {
   "cell_type": "code",
   "execution_count": 9,
   "id": "c60b2eaa",
   "metadata": {
    "execution": {
     "iopub.execute_input": "2022-11-24T01:36:54.501478Z",
     "iopub.status.busy": "2022-11-24T01:36:54.501068Z",
     "iopub.status.idle": "2022-11-24T01:36:54.510460Z",
     "shell.execute_reply": "2022-11-24T01:36:54.509215Z"
    },
    "papermill": {
     "duration": 0.024987,
     "end_time": "2022-11-24T01:36:54.513058",
     "exception": false,
     "start_time": "2022-11-24T01:36:54.488071",
     "status": "completed"
    },
    "tags": []
   },
   "outputs": [
    {
     "data": {
      "application/javascript": [
       "parent.postMessage({\"jupyterEvent\": \"custom.exercise_interaction\", \"data\": {\"interactionType\": 3, \"questionType\": 1, \"questionId\": \"3_WeatherDebug\", \"learnToolsVersion\": \"0.3.4\", \"valueTowardsCompletion\": 0.0, \"failureMessage\": \"\", \"exceptionClass\": \"\", \"trace\": \"\", \"outcomeType\": 4}}, \"*\")"
      ],
      "text/plain": [
       "<IPython.core.display.Javascript object>"
      ]
     },
     "metadata": {},
     "output_type": "display_data"
    },
    {
     "data": {
      "text/markdown": [
       "<span style=\"color:#33cc99\">Solution:</span> One example of a failing test case is:\n",
       "\n",
       "```python\n",
       "have_umbrella = False\n",
       "rain_level = 0.0\n",
       "have_hood = False\n",
       "is_workday = False\n",
       "```\n",
       "\n",
       "Clearly we're prepared for the weather in this case. It's not raining. Not only that, it's not a workday, so we don't even need to leave the house! But our function will return False on these inputs.\n",
       "\n",
       "The key problem is that Python implictly parenthesizes the last part as:\n",
       "\n",
       "```python\n",
       "(not (rain_level > 0)) and is_workday\n",
       "```\n",
       "\n",
       "Whereas what we were trying to express would look more like:\n",
       "\n",
       "```python\n",
       "not (rain_level > 0 and is_workday)\n",
       "```\n"
      ],
      "text/plain": [
       "Solution: One example of a failing test case is:\n",
       "\n",
       "```python\n",
       "have_umbrella = False\n",
       "rain_level = 0.0\n",
       "have_hood = False\n",
       "is_workday = False\n",
       "```\n",
       "\n",
       "Clearly we're prepared for the weather in this case. It's not raining. Not only that, it's not a workday, so we don't even need to leave the house! But our function will return False on these inputs.\n",
       "\n",
       "The key problem is that Python implictly parenthesizes the last part as:\n",
       "\n",
       "```python\n",
       "(not (rain_level > 0)) and is_workday\n",
       "```\n",
       "\n",
       "Whereas what we were trying to express would look more like:\n",
       "\n",
       "```python\n",
       "not (rain_level > 0 and is_workday)\n",
       "```"
      ]
     },
     "metadata": {},
     "output_type": "display_data"
    }
   ],
   "source": [
    "#q3.hint()\n",
    "q3.solution()"
   ]
  },
  {
   "cell_type": "markdown",
   "id": "eb02f536",
   "metadata": {
    "papermill": {
     "duration": 0.010743,
     "end_time": "2022-11-24T01:36:54.535681",
     "exception": false,
     "start_time": "2022-11-24T01:36:54.524938",
     "status": "completed"
    },
    "tags": []
   },
   "source": [
    "# 4.\n",
    "\n",
    "The function `is_negative` below is implemented correctly - it returns True if the given number is negative and False otherwise.\n",
    "\n",
    "However, it's more verbose than it needs to be. We can actually reduce the number of lines of code in this function by *75%* while keeping the same behaviour. \n",
    "\n",
    "See if you can come up with an equivalent body that uses just **one line** of code, and put it in the function `concise_is_negative`. (HINT: you don't even need Python's ternary syntax)"
   ]
  },
  {
   "cell_type": "code",
   "execution_count": 10,
   "id": "f6089d58",
   "metadata": {
    "execution": {
     "iopub.execute_input": "2022-11-24T01:36:54.559878Z",
     "iopub.status.busy": "2022-11-24T01:36:54.559432Z",
     "iopub.status.idle": "2022-11-24T01:36:54.569297Z",
     "shell.execute_reply": "2022-11-24T01:36:54.568118Z"
    },
    "papermill": {
     "duration": 0.024914,
     "end_time": "2022-11-24T01:36:54.571800",
     "exception": false,
     "start_time": "2022-11-24T01:36:54.546886",
     "status": "completed"
    },
    "tags": []
   },
   "outputs": [
    {
     "data": {
      "application/javascript": [
       "parent.postMessage({\"jupyterEvent\": \"custom.exercise_interaction\", \"data\": {\"outcomeType\": 1, \"valueTowardsCompletion\": 0.2, \"interactionType\": 1, \"questionType\": 2, \"questionId\": \"4_ConciseIsNegative\", \"learnToolsVersion\": \"0.3.4\", \"failureMessage\": \"\", \"exceptionClass\": \"\", \"trace\": \"\"}}, \"*\")"
      ],
      "text/plain": [
       "<IPython.core.display.Javascript object>"
      ]
     },
     "metadata": {},
     "output_type": "display_data"
    },
    {
     "data": {
      "text/markdown": [
       "<span style=\"color:#33cc33\">Correct</span>"
      ],
      "text/plain": [
       "Correct"
      ]
     },
     "metadata": {},
     "output_type": "display_data"
    }
   ],
   "source": [
    "def is_negative(number):\n",
    "    if number < 0:\n",
    "        return True\n",
    "    else:\n",
    "        return False\n",
    "\n",
    "def concise_is_negative(number):\n",
    "    return True if number<0 else False \n",
    "\n",
    "# Check your answer\n",
    "q4.check()"
   ]
  },
  {
   "cell_type": "code",
   "execution_count": 11,
   "id": "06ab0d67",
   "metadata": {
    "execution": {
     "iopub.execute_input": "2022-11-24T01:36:54.597325Z",
     "iopub.status.busy": "2022-11-24T01:36:54.596914Z",
     "iopub.status.idle": "2022-11-24T01:36:54.605805Z",
     "shell.execute_reply": "2022-11-24T01:36:54.604605Z"
    },
    "papermill": {
     "duration": 0.025195,
     "end_time": "2022-11-24T01:36:54.608357",
     "exception": false,
     "start_time": "2022-11-24T01:36:54.583162",
     "status": "completed"
    },
    "tags": []
   },
   "outputs": [
    {
     "data": {
      "application/javascript": [
       "parent.postMessage({\"jupyterEvent\": \"custom.exercise_interaction\", \"data\": {\"interactionType\": 2, \"questionType\": 2, \"questionId\": \"4_ConciseIsNegative\", \"learnToolsVersion\": \"0.3.4\", \"valueTowardsCompletion\": 0.0, \"failureMessage\": \"\", \"exceptionClass\": \"\", \"trace\": \"\", \"outcomeType\": 4}}, \"*\")"
      ],
      "text/plain": [
       "<IPython.core.display.Javascript object>"
      ]
     },
     "metadata": {},
     "output_type": "display_data"
    },
    {
     "data": {
      "text/markdown": [
       "<span style=\"color:#3366cc\">Hint:</span> If the value of the expression `number < 0` is `True`, then we return `True`. If it's `False`, then we return `False`..."
      ],
      "text/plain": [
       "Hint: If the value of the expression `number < 0` is `True`, then we return `True`. If it's `False`, then we return `False`..."
      ]
     },
     "metadata": {},
     "output_type": "display_data"
    }
   ],
   "source": [
    "\n",
    "q4.hint()\n",
    "#q4.solution()"
   ]
  },
  {
   "cell_type": "markdown",
   "id": "40f05b1c",
   "metadata": {
    "papermill": {
     "duration": 0.011047,
     "end_time": "2022-11-24T01:36:54.630954",
     "exception": false,
     "start_time": "2022-11-24T01:36:54.619907",
     "status": "completed"
    },
    "tags": []
   },
   "source": [
    "# 5a.\n",
    "\n",
    "The boolean variables `ketchup`, `mustard` and `onion` represent whether a customer wants a particular topping on their hot dog. We want to implement a number of boolean functions that correspond to some yes-or-no questions about the customer's order. For example:"
   ]
  },
  {
   "cell_type": "code",
   "execution_count": 12,
   "id": "11cfd31f",
   "metadata": {
    "execution": {
     "iopub.execute_input": "2022-11-24T01:36:54.656285Z",
     "iopub.status.busy": "2022-11-24T01:36:54.655896Z",
     "iopub.status.idle": "2022-11-24T01:36:54.660889Z",
     "shell.execute_reply": "2022-11-24T01:36:54.659714Z"
    },
    "papermill": {
     "duration": 0.020458,
     "end_time": "2022-11-24T01:36:54.663250",
     "exception": false,
     "start_time": "2022-11-24T01:36:54.642792",
     "status": "completed"
    },
    "tags": []
   },
   "outputs": [],
   "source": [
    "def onionless(ketchup, mustard, onion):\n",
    "    \"\"\"Return whether the customer doesn't want onions.\n",
    "    \"\"\"\n",
    "    return not onion"
   ]
  },
  {
   "cell_type": "code",
   "execution_count": 13,
   "id": "67b63b75",
   "metadata": {
    "execution": {
     "iopub.execute_input": "2022-11-24T01:36:54.688643Z",
     "iopub.status.busy": "2022-11-24T01:36:54.688225Z",
     "iopub.status.idle": "2022-11-24T01:36:54.698135Z",
     "shell.execute_reply": "2022-11-24T01:36:54.697024Z"
    },
    "papermill": {
     "duration": 0.02568,
     "end_time": "2022-11-24T01:36:54.700417",
     "exception": false,
     "start_time": "2022-11-24T01:36:54.674737",
     "status": "completed"
    },
    "tags": []
   },
   "outputs": [
    {
     "data": {
      "application/javascript": [
       "parent.postMessage({\"jupyterEvent\": \"custom.exercise_interaction\", \"data\": {\"outcomeType\": 1, \"valueTowardsCompletion\": 0.2, \"interactionType\": 1, \"questionType\": 2, \"questionId\": \"5.1_AllToppings\", \"learnToolsVersion\": \"0.3.4\", \"failureMessage\": \"\", \"exceptionClass\": \"\", \"trace\": \"\"}}, \"*\")"
      ],
      "text/plain": [
       "<IPython.core.display.Javascript object>"
      ]
     },
     "metadata": {},
     "output_type": "display_data"
    },
    {
     "data": {
      "text/markdown": [
       "<span style=\"color:#33cc33\">Correct</span>"
      ],
      "text/plain": [
       "Correct"
      ]
     },
     "metadata": {},
     "output_type": "display_data"
    }
   ],
   "source": [
    "def wants_all_toppings(ketchup, mustard, onion):\n",
    "    \"\"\"Return whether the customer wants \"the works\" (all 3 toppings)\n",
    "    \"\"\"\n",
    "    return ketchup and mustard and onion\n",
    "\n",
    "# Check your answer\n",
    "q5.a.check()"
   ]
  },
  {
   "cell_type": "code",
   "execution_count": 14,
   "id": "9e8dfd29",
   "metadata": {
    "execution": {
     "iopub.execute_input": "2022-11-24T01:36:54.725890Z",
     "iopub.status.busy": "2022-11-24T01:36:54.725501Z",
     "iopub.status.idle": "2022-11-24T01:36:54.729307Z",
     "shell.execute_reply": "2022-11-24T01:36:54.728410Z"
    },
    "papermill": {
     "duration": 0.019051,
     "end_time": "2022-11-24T01:36:54.731371",
     "exception": false,
     "start_time": "2022-11-24T01:36:54.712320",
     "status": "completed"
    },
    "tags": []
   },
   "outputs": [],
   "source": [
    "#q5.a.hint()\n",
    "#q5.a.solution()"
   ]
  },
  {
   "cell_type": "markdown",
   "id": "37cc5824",
   "metadata": {
    "papermill": {
     "duration": 0.011914,
     "end_time": "2022-11-24T01:36:54.755174",
     "exception": false,
     "start_time": "2022-11-24T01:36:54.743260",
     "status": "completed"
    },
    "tags": []
   },
   "source": [
    "# 5b.\n",
    "\n",
    "For the next function, fill in the body to match the English description in the docstring. "
   ]
  },
  {
   "cell_type": "code",
   "execution_count": 15,
   "id": "5402ae98",
   "metadata": {
    "execution": {
     "iopub.execute_input": "2022-11-24T01:36:54.781020Z",
     "iopub.status.busy": "2022-11-24T01:36:54.780499Z",
     "iopub.status.idle": "2022-11-24T01:36:54.789902Z",
     "shell.execute_reply": "2022-11-24T01:36:54.788890Z"
    },
    "papermill": {
     "duration": 0.025273,
     "end_time": "2022-11-24T01:36:54.792368",
     "exception": false,
     "start_time": "2022-11-24T01:36:54.767095",
     "status": "completed"
    },
    "tags": []
   },
   "outputs": [
    {
     "data": {
      "application/javascript": [
       "parent.postMessage({\"jupyterEvent\": \"custom.exercise_interaction\", \"data\": {\"outcomeType\": 1, \"valueTowardsCompletion\": 0.2, \"interactionType\": 1, \"questionType\": 2, \"questionId\": \"5.2_PlainDog\", \"learnToolsVersion\": \"0.3.4\", \"failureMessage\": \"\", \"exceptionClass\": \"\", \"trace\": \"\"}}, \"*\")"
      ],
      "text/plain": [
       "<IPython.core.display.Javascript object>"
      ]
     },
     "metadata": {},
     "output_type": "display_data"
    },
    {
     "data": {
      "text/markdown": [
       "<span style=\"color:#33cc33\">Correct:</span> \n",
       "\n",
       "One solution looks like:\n",
       "```python\n",
       "return not ketchup and not mustard and not onion\n",
       "```\n",
       "\n",
       "We can also [\"factor out\" the nots](https://en.wikipedia.org/wiki/De_Morgan%27s_laws) to get:\n",
       "\n",
       "```python\n",
       "return not (ketchup or mustard or onion)\n",
       "```"
      ],
      "text/plain": [
       "Correct: \n",
       "\n",
       "One solution looks like:\n",
       "```python\n",
       "return not ketchup and not mustard and not onion\n",
       "```\n",
       "\n",
       "We can also [\"factor out\" the nots](https://en.wikipedia.org/wiki/De_Morgan%27s_laws) to get:\n",
       "\n",
       "```python\n",
       "return not (ketchup or mustard or onion)\n",
       "```"
      ]
     },
     "metadata": {},
     "output_type": "display_data"
    }
   ],
   "source": [
    "def wants_plain_hotdog(ketchup, mustard, onion):\n",
    "    \"\"\"Return whether the customer wants a plain hot dog with no toppings.\n",
    "    \"\"\"\n",
    "    return not ketchup and not mustard and not onion\n",
    "\n",
    "# Check your answer\n",
    "q5.b.check()"
   ]
  },
  {
   "cell_type": "code",
   "execution_count": 16,
   "id": "06a926fe",
   "metadata": {
    "execution": {
     "iopub.execute_input": "2022-11-24T01:36:54.818146Z",
     "iopub.status.busy": "2022-11-24T01:36:54.817712Z",
     "iopub.status.idle": "2022-11-24T01:36:54.822869Z",
     "shell.execute_reply": "2022-11-24T01:36:54.821648Z"
    },
    "papermill": {
     "duration": 0.021198,
     "end_time": "2022-11-24T01:36:54.825514",
     "exception": false,
     "start_time": "2022-11-24T01:36:54.804316",
     "status": "completed"
    },
    "tags": []
   },
   "outputs": [],
   "source": [
    "#q5.b.hint()\n",
    "#q5.b.solution()"
   ]
  },
  {
   "cell_type": "markdown",
   "id": "1a5833c4",
   "metadata": {
    "papermill": {
     "duration": 0.011783,
     "end_time": "2022-11-24T01:36:54.849273",
     "exception": false,
     "start_time": "2022-11-24T01:36:54.837490",
     "status": "completed"
    },
    "tags": []
   },
   "source": [
    "# 5c.\n",
    "\n",
    "You know what to do: for the next function, fill in the body to match the English description in the docstring."
   ]
  },
  {
   "cell_type": "code",
   "execution_count": 17,
   "id": "b06e5da9",
   "metadata": {
    "execution": {
     "iopub.execute_input": "2022-11-24T01:36:54.875518Z",
     "iopub.status.busy": "2022-11-24T01:36:54.875064Z",
     "iopub.status.idle": "2022-11-24T01:36:54.885388Z",
     "shell.execute_reply": "2022-11-24T01:36:54.884526Z"
    },
    "papermill": {
     "duration": 0.026564,
     "end_time": "2022-11-24T01:36:54.887979",
     "exception": false,
     "start_time": "2022-11-24T01:36:54.861415",
     "status": "completed"
    },
    "tags": []
   },
   "outputs": [
    {
     "data": {
      "application/javascript": [
       "parent.postMessage({\"jupyterEvent\": \"custom.exercise_interaction\", \"data\": {\"outcomeType\": 1, \"valueTowardsCompletion\": 0.2, \"interactionType\": 1, \"questionType\": 2, \"questionId\": \"5.3_OneSauce\", \"learnToolsVersion\": \"0.3.4\", \"failureMessage\": \"\", \"exceptionClass\": \"\", \"trace\": \"\"}}, \"*\")"
      ],
      "text/plain": [
       "<IPython.core.display.Javascript object>"
      ]
     },
     "metadata": {},
     "output_type": "display_data"
    },
    {
     "data": {
      "text/markdown": [
       "<span style=\"color:#33cc33\">Correct</span>"
      ],
      "text/plain": [
       "Correct"
      ]
     },
     "metadata": {},
     "output_type": "display_data"
    }
   ],
   "source": [
    "def exactly_one_sauce(ketchup, mustard, onion):\n",
    "    \"\"\"Return whether the customer wants either ketchup or mustard, but not both.\n",
    "    (You may be familiar with this operation under the name \"exclusive or\")\n",
    "    \"\"\"\n",
    "    return (ketchup and not mustard) or (mustard and not ketchup)\n",
    "\n",
    "# Check your answer\n",
    "q5.c.check()"
   ]
  },
  {
   "cell_type": "code",
   "execution_count": 18,
   "id": "5faab2f4",
   "metadata": {
    "execution": {
     "iopub.execute_input": "2022-11-24T01:36:54.915602Z",
     "iopub.status.busy": "2022-11-24T01:36:54.915194Z",
     "iopub.status.idle": "2022-11-24T01:36:54.920593Z",
     "shell.execute_reply": "2022-11-24T01:36:54.919205Z"
    },
    "papermill": {
     "duration": 0.022439,
     "end_time": "2022-11-24T01:36:54.923326",
     "exception": false,
     "start_time": "2022-11-24T01:36:54.900887",
     "status": "completed"
    },
    "tags": []
   },
   "outputs": [],
   "source": [
    "#q5.c.hint()\n",
    "#q5.c.solution()"
   ]
  },
  {
   "cell_type": "markdown",
   "id": "2aeddf26",
   "metadata": {
    "papermill": {
     "duration": 0.011487,
     "end_time": "2022-11-24T01:36:54.946833",
     "exception": false,
     "start_time": "2022-11-24T01:36:54.935346",
     "status": "completed"
    },
    "tags": []
   },
   "source": [
    "# 6. <span title=\"A bit spicy\" style=\"color: darkgreen \">🌶️</span>\n",
    "\n",
    "We’ve seen that calling `bool()` on an integer returns `False` if it’s equal to 0 and `True` otherwise. What happens if we call `int()` on a bool? Try it out in the notebook cell below.\n",
    "\n",
    "Can you take advantage of this to write a succinct function that corresponds to the English sentence \"does the customer want exactly one topping?\"?"
   ]
  },
  {
   "cell_type": "code",
   "execution_count": 19,
   "id": "b0f983bc",
   "metadata": {
    "execution": {
     "iopub.execute_input": "2022-11-24T01:36:54.972388Z",
     "iopub.status.busy": "2022-11-24T01:36:54.971974Z",
     "iopub.status.idle": "2022-11-24T01:36:54.982025Z",
     "shell.execute_reply": "2022-11-24T01:36:54.981069Z"
    },
    "papermill": {
     "duration": 0.025652,
     "end_time": "2022-11-24T01:36:54.984118",
     "exception": false,
     "start_time": "2022-11-24T01:36:54.958466",
     "status": "completed"
    },
    "tags": []
   },
   "outputs": [
    {
     "data": {
      "application/javascript": [
       "parent.postMessage({\"jupyterEvent\": \"custom.exercise_interaction\", \"data\": {\"outcomeType\": 1, \"valueTowardsCompletion\": 0.2, \"interactionType\": 1, \"questionType\": 2, \"questionId\": \"6_OneTopping\", \"learnToolsVersion\": \"0.3.4\", \"failureMessage\": \"\", \"exceptionClass\": \"\", \"trace\": \"\"}}, \"*\")"
      ],
      "text/plain": [
       "<IPython.core.display.Javascript object>"
      ]
     },
     "metadata": {},
     "output_type": "display_data"
    },
    {
     "data": {
      "text/markdown": [
       "<span style=\"color:#33cc33\">Correct:</span> \n",
       "\n",
       "This condition would be pretty complicated to express using just `and`, `or` and `not`, but using boolean-to-integer conversion gives us this short solution:\n",
       "```python\n",
       "return (int(ketchup) + int(mustard) + int(onion)) == 1\n",
       "```\n",
       "\n",
       "Fun fact: we don't technically need to call `int` on the arguments. Just by doing addition with booleans, Python implicitly does the integer conversion. So we could also write...\n",
       "\n",
       "```python\n",
       "return (ketchup + mustard + onion) == 1\n",
       "```"
      ],
      "text/plain": [
       "Correct: \n",
       "\n",
       "This condition would be pretty complicated to express using just `and`, `or` and `not`, but using boolean-to-integer conversion gives us this short solution:\n",
       "```python\n",
       "return (int(ketchup) + int(mustard) + int(onion)) == 1\n",
       "```\n",
       "\n",
       "Fun fact: we don't technically need to call `int` on the arguments. Just by doing addition with booleans, Python implicitly does the integer conversion. So we could also write...\n",
       "\n",
       "```python\n",
       "return (ketchup + mustard + onion) == 1\n",
       "```"
      ]
     },
     "metadata": {},
     "output_type": "display_data"
    }
   ],
   "source": [
    "def exactly_one_topping(ketchup, mustard, onion):\n",
    "    \"\"\"Return whether the customer wants exactly one of the three available toppings\n",
    "    on their hot dog.\n",
    "    \"\"\"\n",
    "    return (int(bool(ketchup)) + int(bool(mustard)) + int(bool(onion))) == 1\n",
    "\n",
    "# Check your answer\n",
    "q6.check()"
   ]
  },
  {
   "cell_type": "code",
   "execution_count": 20,
   "id": "f736399f",
   "metadata": {
    "execution": {
     "iopub.execute_input": "2022-11-24T01:36:55.011754Z",
     "iopub.status.busy": "2022-11-24T01:36:55.011166Z",
     "iopub.status.idle": "2022-11-24T01:36:55.016523Z",
     "shell.execute_reply": "2022-11-24T01:36:55.014834Z"
    },
    "papermill": {
     "duration": 0.023107,
     "end_time": "2022-11-24T01:36:55.019188",
     "exception": false,
     "start_time": "2022-11-24T01:36:54.996081",
     "status": "completed"
    },
    "tags": []
   },
   "outputs": [],
   "source": [
    "#q6.hint()\n",
    "#q6.solution()"
   ]
  },
  {
   "cell_type": "markdown",
   "id": "62a1b7ab",
   "metadata": {
    "papermill": {
     "duration": 0.011629,
     "end_time": "2022-11-24T01:36:55.042911",
     "exception": false,
     "start_time": "2022-11-24T01:36:55.031282",
     "status": "completed"
    },
    "tags": []
   },
   "source": [
    "# 7. <span title=\"A bit spicy\" style=\"color: darkgreen \">🌶️</span> (Optional)\n",
    "\n",
    "In this problem we'll be working with a simplified version of [blackjack](https://en.wikipedia.org/wiki/Blackjack) (aka twenty-one). In this version there is one player (who you'll control) and a dealer. Play proceeds as follows:\n",
    "\n",
    "- The player is dealt two face-up cards. The dealer is dealt one face-up card.\n",
    "- The player may ask to be dealt another card ('hit') as many times as they wish. If the sum of their cards exceeds 21, they lose the round immediately.\n",
    "- The dealer then deals additional cards to himself until either:\n",
    "    - the sum of the dealer's cards exceeds 21, in which case the player wins the round\n",
    "    - the sum of the dealer's cards is greater than or equal to 17. If the player's total is greater than the dealer's, the player wins. Otherwise, the dealer wins (even in case of a tie).\n",
    "    \n",
    "When calculating the sum of cards, Jack, Queen, and King count for 10. Aces can count as 1 or 11 (when referring to a player's \"total\" above, we mean the largest total that can be made without exceeding 21. So e.g. A+8 = 19, A+8+8 = 17)\n",
    "\n",
    "For this problem, you'll write a function representing the player's decision-making strategy in this game. We've provided a very unintelligent implementation below:"
   ]
  },
  {
   "cell_type": "code",
   "execution_count": 21,
   "id": "f6065681",
   "metadata": {
    "execution": {
     "iopub.execute_input": "2022-11-24T01:36:55.068778Z",
     "iopub.status.busy": "2022-11-24T01:36:55.068344Z",
     "iopub.status.idle": "2022-11-24T01:36:55.074694Z",
     "shell.execute_reply": "2022-11-24T01:36:55.073168Z"
    },
    "papermill": {
     "duration": 0.022291,
     "end_time": "2022-11-24T01:36:55.077219",
     "exception": false,
     "start_time": "2022-11-24T01:36:55.054928",
     "status": "completed"
    },
    "tags": []
   },
   "outputs": [],
   "source": [
    "def should_hit(dealer_total, player_total, player_low_aces, player_high_aces):\n",
    "    \"\"\"Return True if the player should hit (request another card) given the current game\n",
    "    state, or False if the player should stay.\n",
    "    When calculating a hand's total value, we count aces as \"high\" (with value 11) if doing so\n",
    "    doesn't bring the total above 21, otherwise we count them as low (with value 1). \n",
    "    For example, if the player's hand is {A, A, A, 7}, we will count it as 11 + 1 + 1 + 7,\n",
    "    and therefore set player_total=20, player_low_aces=2, player_high_aces=1.\n",
    "    \"\"\"\n",
    "    return False"
   ]
  },
  {
   "cell_type": "markdown",
   "id": "0a987560",
   "metadata": {
    "papermill": {
     "duration": 0.012597,
     "end_time": "2022-11-24T01:36:55.102442",
     "exception": false,
     "start_time": "2022-11-24T01:36:55.089845",
     "status": "completed"
    },
    "tags": []
   },
   "source": [
    "This very conservative agent *always* sticks with the hand of two cards that they're dealt.\n",
    "\n",
    "We'll be simulating games between your player agent and our own dealer agent by calling your function.\n",
    "\n",
    "Try running the function below to see an example of a simulated game:"
   ]
  },
  {
   "cell_type": "code",
   "execution_count": 22,
   "id": "430de75a",
   "metadata": {
    "execution": {
     "iopub.execute_input": "2022-11-24T01:36:55.135303Z",
     "iopub.status.busy": "2022-11-24T01:36:55.134868Z",
     "iopub.status.idle": "2022-11-24T01:36:55.142570Z",
     "shell.execute_reply": "2022-11-24T01:36:55.141514Z"
    },
    "papermill": {
     "duration": 0.025273,
     "end_time": "2022-11-24T01:36:55.145098",
     "exception": false,
     "start_time": "2022-11-24T01:36:55.119825",
     "status": "completed"
    },
    "tags": []
   },
   "outputs": [
    {
     "name": "stdout",
     "output_type": "stream",
     "text": [
      "Player starts with 9 and 8 (total = 17)\n",
      "Dealer starts with Q\n",
      "\n",
      "__Player's turn__\n",
      "Player stays\n",
      "\n",
      "__Dealer's turn__\n",
      "Dealer hits and receives 5. (total = 15)\n",
      "Dealer hits and receives 3. (total = 18)\n",
      "Dealer stands.\n",
      "Dealer wins. 18 >= 17\n"
     ]
    }
   ],
   "source": [
    "q7.simulate_one_game()"
   ]
  },
  {
   "cell_type": "markdown",
   "id": "5becd951",
   "metadata": {
    "papermill": {
     "duration": 0.019285,
     "end_time": "2022-11-24T01:36:55.179713",
     "exception": false,
     "start_time": "2022-11-24T01:36:55.160428",
     "status": "completed"
    },
    "tags": []
   },
   "source": [
    "The real test of your agent's mettle is their average win rate over many games. Try calling the function below to simulate 50000 games of blackjack (it may take a couple seconds):"
   ]
  },
  {
   "cell_type": "code",
   "execution_count": 23,
   "id": "ddf52319",
   "metadata": {
    "execution": {
     "iopub.execute_input": "2022-11-24T01:36:55.208473Z",
     "iopub.status.busy": "2022-11-24T01:36:55.208092Z",
     "iopub.status.idle": "2022-11-24T01:36:56.899149Z",
     "shell.execute_reply": "2022-11-24T01:36:56.897756Z"
    },
    "papermill": {
     "duration": 1.70924,
     "end_time": "2022-11-24T01:36:56.903106",
     "exception": false,
     "start_time": "2022-11-24T01:36:55.193866",
     "status": "completed"
    },
    "tags": []
   },
   "outputs": [
    {
     "name": "stdout",
     "output_type": "stream",
     "text": [
      "Player won 19037 out of 50000 games (win rate = 38.1%)\n"
     ]
    }
   ],
   "source": [
    "q7.simulate(n_games=50000)"
   ]
  },
  {
   "cell_type": "markdown",
   "id": "94af02f4",
   "metadata": {
    "papermill": {
     "duration": 0.012428,
     "end_time": "2022-11-24T01:36:56.928348",
     "exception": false,
     "start_time": "2022-11-24T01:36:56.915920",
     "status": "completed"
    },
    "tags": []
   },
   "source": [
    "Our dumb agent that completely ignores the game state still manages to win shockingly often!\n",
    "\n",
    "Try adding some more smarts to the `should_hit` function and see how it affects the results."
   ]
  },
  {
   "cell_type": "code",
   "execution_count": 24,
   "id": "749b7bd1",
   "metadata": {
    "execution": {
     "iopub.execute_input": "2022-11-24T01:36:56.958378Z",
     "iopub.status.busy": "2022-11-24T01:36:56.957502Z",
     "iopub.status.idle": "2022-11-24T01:36:58.705749Z",
     "shell.execute_reply": "2022-11-24T01:36:58.704487Z"
    },
    "papermill": {
     "duration": 1.766698,
     "end_time": "2022-11-24T01:36:58.708406",
     "exception": false,
     "start_time": "2022-11-24T01:36:56.941708",
     "status": "completed"
    },
    "tags": []
   },
   "outputs": [
    {
     "name": "stdout",
     "output_type": "stream",
     "text": [
      "Player won 19067 out of 50000 games (win rate = 38.1%)\n"
     ]
    }
   ],
   "source": [
    "def should_hit(dealer_total, player_total, player_low_aces, player_high_aces):\n",
    "    \"\"\"Return True if the player should hit (request another card) given the current game\n",
    "    state, or False if the player should stay.\n",
    "    When calculating a hand's total value, we count aces as \"high\" (with value 11) if doing so\n",
    "    doesn't bring the total above 21, otherwise we count them as low (with value 1). \n",
    "    For example, if the player's hand is {A, A, A, 7}, we will count it as 11 + 1 + 1 + 7,\n",
    "    and therefore set player_total=20, player_low_aces=2, player_high_aces=1.\n",
    "    \"\"\"\n",
    "    return False\n",
    "\n",
    "q7.simulate(n_games=50000)"
   ]
  },
  {
   "cell_type": "markdown",
   "id": "e4c5f8d0",
   "metadata": {
    "papermill": {
     "duration": 0.013192,
     "end_time": "2022-11-24T01:36:58.735053",
     "exception": false,
     "start_time": "2022-11-24T01:36:58.721861",
     "status": "completed"
    },
    "tags": []
   },
   "source": [
    "# Keep Going\n",
    "\n",
    "Learn about **[lists and tuples](https://www.kaggle.com/colinmorris/lists)** to handle multiple items of data in a systematic way."
   ]
  },
  {
   "cell_type": "markdown",
   "id": "914c91ae",
   "metadata": {
    "papermill": {
     "duration": 0.013015,
     "end_time": "2022-11-24T01:36:58.761007",
     "exception": false,
     "start_time": "2022-11-24T01:36:58.747992",
     "status": "completed"
    },
    "tags": []
   },
   "source": [
    "---\n",
    "\n",
    "\n",
    "\n",
    "\n",
    "*Have questions or comments? Visit the [course discussion forum](https://www.kaggle.com/learn/python/discussion) to chat with other learners.*"
   ]
  }
 ],
 "metadata": {
  "kernelspec": {
   "display_name": "Python 3",
   "language": "python",
   "name": "python3"
  },
  "language_info": {
   "codemirror_mode": {
    "name": "ipython",
    "version": 3
   },
   "file_extension": ".py",
   "mimetype": "text/x-python",
   "name": "python",
   "nbconvert_exporter": "python",
   "pygments_lexer": "ipython3",
   "version": "3.7.12"
  },
  "papermill": {
   "default_parameters": {},
   "duration": 15.482043,
   "end_time": "2022-11-24T01:36:59.698156",
   "environment_variables": {},
   "exception": null,
   "input_path": "__notebook__.ipynb",
   "output_path": "__notebook__.ipynb",
   "parameters": {},
   "start_time": "2022-11-24T01:36:44.216113",
   "version": "2.3.4"
  }
 },
 "nbformat": 4,
 "nbformat_minor": 5
}
