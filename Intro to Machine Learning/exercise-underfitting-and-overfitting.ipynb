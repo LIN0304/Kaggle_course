{
 "cells": [
  {
   "cell_type": "markdown",
   "id": "862470a2",
   "metadata": {
    "papermill": {
     "duration": 0.007363,
     "end_time": "2022-11-25T05:31:16.827119",
     "exception": false,
     "start_time": "2022-11-25T05:31:16.819756",
     "status": "completed"
    },
    "tags": []
   },
   "source": [
    "**This notebook is an exercise in the [Introduction to Machine Learning](https://www.kaggle.com/learn/intro-to-machine-learning) course.  You can reference the tutorial at [this link](https://www.kaggle.com/dansbecker/underfitting-and-overfitting).**\n",
    "\n",
    "---\n"
   ]
  },
  {
   "cell_type": "markdown",
   "id": "10ebcade",
   "metadata": {
    "papermill": {
     "duration": 0.003403,
     "end_time": "2022-11-25T05:31:16.834079",
     "exception": false,
     "start_time": "2022-11-25T05:31:16.830676",
     "status": "completed"
    },
    "tags": []
   },
   "source": [
    "## Recap\n",
    "You've built your first model, and now it's time to optimize the size of the tree to make better predictions. Run this cell to set up your coding environment where the previous step left off."
   ]
  },
  {
   "cell_type": "code",
   "execution_count": 1,
   "id": "f18dd312",
   "metadata": {
    "execution": {
     "iopub.execute_input": "2022-11-25T05:31:16.842711Z",
     "iopub.status.busy": "2022-11-25T05:31:16.842240Z",
     "iopub.status.idle": "2022-11-25T05:31:18.304163Z",
     "shell.execute_reply": "2022-11-25T05:31:18.302678Z"
    },
    "papermill": {
     "duration": 1.469567,
     "end_time": "2022-11-25T05:31:18.307169",
     "exception": false,
     "start_time": "2022-11-25T05:31:16.837602",
     "status": "completed"
    },
    "tags": []
   },
   "outputs": [
    {
     "name": "stdout",
     "output_type": "stream",
     "text": [
      "Validation MAE: 29,653\n",
      "\n",
      "Setup complete\n"
     ]
    }
   ],
   "source": [
    "# Code you have previously used to load data\n",
    "import pandas as pd\n",
    "from sklearn.metrics import mean_absolute_error\n",
    "from sklearn.model_selection import train_test_split\n",
    "from sklearn.tree import DecisionTreeRegressor\n",
    "\n",
    "\n",
    "# Path of the file to read\n",
    "iowa_file_path = '../input/home-data-for-ml-course/train.csv'\n",
    "\n",
    "home_data = pd.read_csv(iowa_file_path)\n",
    "# Create target object and call it y\n",
    "y = home_data.SalePrice\n",
    "# Create X\n",
    "features = ['LotArea', 'YearBuilt', '1stFlrSF', '2ndFlrSF', 'FullBath', 'BedroomAbvGr', 'TotRmsAbvGrd']\n",
    "X = home_data[features]\n",
    "\n",
    "# Split into validation and training data\n",
    "train_X, val_X, train_y, val_y = train_test_split(X, y, random_state=1)\n",
    "\n",
    "# Specify Model\n",
    "iowa_model = DecisionTreeRegressor(random_state=1)\n",
    "# Fit Model\n",
    "iowa_model.fit(train_X, train_y)\n",
    "\n",
    "# Make validation predictions and calculate mean absolute error\n",
    "val_predictions = iowa_model.predict(val_X)\n",
    "val_mae = mean_absolute_error(val_predictions, val_y)\n",
    "print(\"Validation MAE: {:,.0f}\".format(val_mae))\n",
    "\n",
    "# Set up code checking\n",
    "from learntools.core import binder\n",
    "binder.bind(globals())\n",
    "from learntools.machine_learning.ex5 import *\n",
    "print(\"\\nSetup complete\")"
   ]
  },
  {
   "cell_type": "markdown",
   "id": "3043579f",
   "metadata": {
    "papermill": {
     "duration": 0.003323,
     "end_time": "2022-11-25T05:31:18.314184",
     "exception": false,
     "start_time": "2022-11-25T05:31:18.310861",
     "status": "completed"
    },
    "tags": []
   },
   "source": [
    "# Exercises\n",
    "You could write the function `get_mae` yourself. For now, we'll supply it. This is the same function you read about in the previous lesson. Just run the cell below."
   ]
  },
  {
   "cell_type": "code",
   "execution_count": 2,
   "id": "6fe1104a",
   "metadata": {
    "execution": {
     "iopub.execute_input": "2022-11-25T05:31:18.323412Z",
     "iopub.status.busy": "2022-11-25T05:31:18.322435Z",
     "iopub.status.idle": "2022-11-25T05:31:18.329482Z",
     "shell.execute_reply": "2022-11-25T05:31:18.328007Z"
    },
    "papermill": {
     "duration": 0.014541,
     "end_time": "2022-11-25T05:31:18.332175",
     "exception": false,
     "start_time": "2022-11-25T05:31:18.317634",
     "status": "completed"
    },
    "tags": []
   },
   "outputs": [],
   "source": [
    "def get_mae(max_leaf_nodes, train_X, val_X, train_y, val_y):\n",
    "    model = DecisionTreeRegressor(max_leaf_nodes=max_leaf_nodes, random_state=0)\n",
    "    model.fit(train_X, train_y)\n",
    "    preds_val = model.predict(val_X)\n",
    "    mae = mean_absolute_error(val_y, preds_val)\n",
    "    return(mae)"
   ]
  },
  {
   "cell_type": "markdown",
   "id": "b8d7264c",
   "metadata": {
    "papermill": {
     "duration": 0.003258,
     "end_time": "2022-11-25T05:31:18.339276",
     "exception": false,
     "start_time": "2022-11-25T05:31:18.336018",
     "status": "completed"
    },
    "tags": []
   },
   "source": [
    "## Step 1: Compare Different Tree Sizes\n",
    "Write a loop that tries the following values for *max_leaf_nodes* from a set of possible values.\n",
    "\n",
    "Call the *get_mae* function on each value of max_leaf_nodes. Store the output in some way that allows you to select the value of `max_leaf_nodes` that gives the most accurate model on your data."
   ]
  },
  {
   "cell_type": "code",
   "execution_count": 3,
   "id": "c8f9b4c3",
   "metadata": {
    "execution": {
     "iopub.execute_input": "2022-11-25T05:31:18.348646Z",
     "iopub.status.busy": "2022-11-25T05:31:18.347452Z",
     "iopub.status.idle": "2022-11-25T05:31:18.399053Z",
     "shell.execute_reply": "2022-11-25T05:31:18.397859Z"
    },
    "papermill": {
     "duration": 0.05975,
     "end_time": "2022-11-25T05:31:18.402464",
     "exception": false,
     "start_time": "2022-11-25T05:31:18.342714",
     "status": "completed"
    },
    "tags": []
   },
   "outputs": [
    {
     "data": {
      "application/javascript": [
       "parent.postMessage({\"jupyterEvent\": \"custom.exercise_interaction\", \"data\": {\"outcomeType\": 1, \"valueTowardsCompletion\": 0.5, \"interactionType\": 1, \"questionType\": 1, \"questionId\": \"1_BestTreeSize\", \"learnToolsVersion\": \"0.3.4\", \"failureMessage\": \"\", \"exceptionClass\": \"\", \"trace\": \"\"}}, \"*\")"
      ],
      "text/plain": [
       "<IPython.core.display.Javascript object>"
      ]
     },
     "metadata": {},
     "output_type": "display_data"
    },
    {
     "data": {
      "text/markdown": [
       "<span style=\"color:#33cc33\">Correct</span>"
      ],
      "text/plain": [
       "Correct"
      ]
     },
     "metadata": {},
     "output_type": "display_data"
    }
   ],
   "source": [
    "candidate_max_leaf_nodes = [5, 25, 50, 100, 250, 500]\n",
    "# Write loop to find the ideal tree size from candidate_max_leaf_nodes\n",
    "scores = {leaf_size: get_mae(leaf_size, train_X, val_X, train_y, val_y) for leaf_size in candidate_max_leaf_nodes}\n",
    "\n",
    "# Store the best value of max_leaf_nodes (it will be either 5, 25, 50, 100, 250 or 500)\n",
    "best_tree_size = min(scores, key=scores.get)\n",
    "\n",
    "# Check your answer\n",
    "step_1.check()"
   ]
  },
  {
   "cell_type": "code",
   "execution_count": 4,
   "id": "9ec83085",
   "metadata": {
    "execution": {
     "iopub.execute_input": "2022-11-25T05:31:18.411801Z",
     "iopub.status.busy": "2022-11-25T05:31:18.411397Z",
     "iopub.status.idle": "2022-11-25T05:31:18.416108Z",
     "shell.execute_reply": "2022-11-25T05:31:18.414873Z"
    },
    "papermill": {
     "duration": 0.012064,
     "end_time": "2022-11-25T05:31:18.418351",
     "exception": false,
     "start_time": "2022-11-25T05:31:18.406287",
     "status": "completed"
    },
    "tags": []
   },
   "outputs": [],
   "source": [
    "# The lines below will show you a hint or the solution.\n",
    "# step_1.hint() \n",
    "# step_1.solution()"
   ]
  },
  {
   "cell_type": "markdown",
   "id": "fdfd5e90",
   "metadata": {
    "papermill": {
     "duration": 0.003405,
     "end_time": "2022-11-25T05:31:18.425659",
     "exception": false,
     "start_time": "2022-11-25T05:31:18.422254",
     "status": "completed"
    },
    "tags": []
   },
   "source": [
    "## Step 2: Fit Model Using All Data\n",
    "You know the best tree size. If you were going to deploy this model in practice, you would make it even more accurate by using all of the data and keeping that tree size.  That is, you don't need to hold out the validation data now that you've made all your modeling decisions."
   ]
  },
  {
   "cell_type": "code",
   "execution_count": 5,
   "id": "32dd5a55",
   "metadata": {
    "execution": {
     "iopub.execute_input": "2022-11-25T05:31:18.435175Z",
     "iopub.status.busy": "2022-11-25T05:31:18.434410Z",
     "iopub.status.idle": "2022-11-25T05:31:18.453405Z",
     "shell.execute_reply": "2022-11-25T05:31:18.452158Z"
    },
    "papermill": {
     "duration": 0.026805,
     "end_time": "2022-11-25T05:31:18.456092",
     "exception": false,
     "start_time": "2022-11-25T05:31:18.429287",
     "status": "completed"
    },
    "tags": []
   },
   "outputs": [
    {
     "data": {
      "application/javascript": [
       "parent.postMessage({\"jupyterEvent\": \"custom.exercise_interaction\", \"data\": {\"outcomeType\": 1, \"valueTowardsCompletion\": 0.5, \"interactionType\": 1, \"questionType\": 2, \"questionId\": \"2_FitModelWithAllData\", \"learnToolsVersion\": \"0.3.4\", \"failureMessage\": \"\", \"exceptionClass\": \"\", \"trace\": \"\"}}, \"*\")"
      ],
      "text/plain": [
       "<IPython.core.display.Javascript object>"
      ]
     },
     "metadata": {},
     "output_type": "display_data"
    },
    {
     "data": {
      "text/markdown": [
       "<span style=\"color:#33cc33\">Correct</span>"
      ],
      "text/plain": [
       "Correct"
      ]
     },
     "metadata": {},
     "output_type": "display_data"
    }
   ],
   "source": [
    "# Fill in argument to make optimal size and uncomment\n",
    "final_model = DecisionTreeRegressor(max_leaf_nodes=best_tree_size, random_state=1)\n",
    "\n",
    "# fit the final model and uncomment the next two lines\n",
    "final_model.fit(X, y)\n",
    "\n",
    "# Check your answer\n",
    "step_2.check()"
   ]
  },
  {
   "cell_type": "code",
   "execution_count": 6,
   "id": "9d131e70",
   "metadata": {
    "execution": {
     "iopub.execute_input": "2022-11-25T05:31:18.466810Z",
     "iopub.status.busy": "2022-11-25T05:31:18.465836Z",
     "iopub.status.idle": "2022-11-25T05:31:18.470740Z",
     "shell.execute_reply": "2022-11-25T05:31:18.469794Z"
    },
    "papermill": {
     "duration": 0.012669,
     "end_time": "2022-11-25T05:31:18.472930",
     "exception": false,
     "start_time": "2022-11-25T05:31:18.460261",
     "status": "completed"
    },
    "tags": []
   },
   "outputs": [],
   "source": [
    "# step_2.hint()\n",
    "# step_2.solution()"
   ]
  },
  {
   "cell_type": "markdown",
   "id": "8ee80450",
   "metadata": {
    "papermill": {
     "duration": 0.003858,
     "end_time": "2022-11-25T05:31:18.481043",
     "exception": false,
     "start_time": "2022-11-25T05:31:18.477185",
     "status": "completed"
    },
    "tags": []
   },
   "source": [
    "You've tuned this model and improved your results. But we are still using Decision Tree models, which are not very sophisticated by modern machine learning standards. In the next step you will learn to use Random Forests to improve your models even more.\n",
    "\n",
    "# Keep Going\n",
    "\n",
    "You are ready for **[Random Forests](https://www.kaggle.com/dansbecker/random-forests).**\n"
   ]
  },
  {
   "cell_type": "markdown",
   "id": "e0130412",
   "metadata": {
    "papermill": {
     "duration": 0.003829,
     "end_time": "2022-11-25T05:31:18.488859",
     "exception": false,
     "start_time": "2022-11-25T05:31:18.485030",
     "status": "completed"
    },
    "tags": []
   },
   "source": [
    "---\n",
    "\n",
    "\n",
    "\n",
    "\n",
    "*Have questions or comments? Visit the [course discussion forum](https://www.kaggle.com/learn/intro-to-machine-learning/discussion) to chat with other learners.*"
   ]
  }
 ],
 "metadata": {
  "kernelspec": {
   "display_name": "Python 3",
   "language": "python",
   "name": "python3"
  },
  "language_info": {
   "codemirror_mode": {
    "name": "ipython",
    "version": 3
   },
   "file_extension": ".py",
   "mimetype": "text/x-python",
   "name": "python",
   "nbconvert_exporter": "python",
   "pygments_lexer": "ipython3",
   "version": "3.7.12"
  },
  "papermill": {
   "default_parameters": {},
   "duration": 11.915944,
   "end_time": "2022-11-25T05:31:19.216137",
   "environment_variables": {},
   "exception": null,
   "input_path": "__notebook__.ipynb",
   "output_path": "__notebook__.ipynb",
   "parameters": {},
   "start_time": "2022-11-25T05:31:07.300193",
   "version": "2.3.4"
  }
 },
 "nbformat": 4,
 "nbformat_minor": 5
}
