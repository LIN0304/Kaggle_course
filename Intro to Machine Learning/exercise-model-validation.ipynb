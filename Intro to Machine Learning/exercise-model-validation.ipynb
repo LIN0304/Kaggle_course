{
 "cells": [
  {
   "cell_type": "markdown",
   "id": "ffa389ab",
   "metadata": {
    "papermill": {
     "duration": 0.006979,
     "end_time": "2022-11-25T05:03:56.757505",
     "exception": false,
     "start_time": "2022-11-25T05:03:56.750526",
     "status": "completed"
    },
    "tags": []
   },
   "source": [
    "**This notebook is an exercise in the [Introduction to Machine Learning](https://www.kaggle.com/learn/intro-to-machine-learning) course.  You can reference the tutorial at [this link](https://www.kaggle.com/dansbecker/model-validation).**\n",
    "\n",
    "---\n"
   ]
  },
  {
   "cell_type": "markdown",
   "id": "017f5060",
   "metadata": {
    "papermill": {
     "duration": 0.007217,
     "end_time": "2022-11-25T05:03:56.771563",
     "exception": false,
     "start_time": "2022-11-25T05:03:56.764346",
     "status": "completed"
    },
    "tags": []
   },
   "source": [
    "## Recap\n",
    "You've built a model. In this exercise you will test how good your model is.\n",
    "\n",
    "Run the cell below to set up your coding environment where the previous exercise left off."
   ]
  },
  {
   "cell_type": "code",
   "execution_count": 1,
   "id": "7a22fd38",
   "metadata": {
    "execution": {
     "iopub.execute_input": "2022-11-25T05:03:56.784904Z",
     "iopub.status.busy": "2022-11-25T05:03:56.783578Z",
     "iopub.status.idle": "2022-11-25T05:03:58.209960Z",
     "shell.execute_reply": "2022-11-25T05:03:58.208573Z"
    },
    "papermill": {
     "duration": 1.436011,
     "end_time": "2022-11-25T05:03:58.213106",
     "exception": false,
     "start_time": "2022-11-25T05:03:56.777095",
     "status": "completed"
    },
    "tags": []
   },
   "outputs": [
    {
     "name": "stdout",
     "output_type": "stream",
     "text": [
      "First in-sample predictions: [208500. 181500. 223500. 140000. 250000.]\n",
      "Actual target values for those homes: [208500, 181500, 223500, 140000, 250000]\n",
      "Setup Complete\n"
     ]
    }
   ],
   "source": [
    "# Code you have previously used to load data\n",
    "import pandas as pd\n",
    "from sklearn.tree import DecisionTreeRegressor\n",
    "\n",
    "# Path of the file to read\n",
    "iowa_file_path = '../input/home-data-for-ml-course/train.csv'\n",
    "\n",
    "home_data = pd.read_csv(iowa_file_path)\n",
    "y = home_data.SalePrice\n",
    "feature_columns = ['LotArea', 'YearBuilt', '1stFlrSF', '2ndFlrSF', 'FullBath', 'BedroomAbvGr', 'TotRmsAbvGrd']\n",
    "X = home_data[feature_columns]\n",
    "\n",
    "# Specify Model\n",
    "iowa_model = DecisionTreeRegressor()\n",
    "# Fit Model\n",
    "iowa_model.fit(X, y)\n",
    "\n",
    "print(\"First in-sample predictions:\", iowa_model.predict(X.head()))\n",
    "print(\"Actual target values for those homes:\", y.head().tolist())\n",
    "\n",
    "# Set up code checking\n",
    "from learntools.core import binder\n",
    "binder.bind(globals())\n",
    "from learntools.machine_learning.ex4 import *\n",
    "print(\"Setup Complete\")"
   ]
  },
  {
   "cell_type": "markdown",
   "id": "4be79f3a",
   "metadata": {
    "papermill": {
     "duration": 0.004314,
     "end_time": "2022-11-25T05:03:58.222254",
     "exception": false,
     "start_time": "2022-11-25T05:03:58.217940",
     "status": "completed"
    },
    "tags": []
   },
   "source": [
    "# Exercises\n",
    "\n",
    "## Step 1: Split Your Data\n",
    "Use the `train_test_split` function to split up your data.\n",
    "\n",
    "Give it the argument `random_state=1` so the `check` functions know what to expect when verifying your code.\n",
    "\n",
    "Recall, your features are loaded in the DataFrame **X** and your target is loaded in **y**.\n"
   ]
  },
  {
   "cell_type": "code",
   "execution_count": 2,
   "id": "bbcdf448",
   "metadata": {
    "execution": {
     "iopub.execute_input": "2022-11-25T05:03:58.233682Z",
     "iopub.status.busy": "2022-11-25T05:03:58.233291Z",
     "iopub.status.idle": "2022-11-25T05:03:58.250302Z",
     "shell.execute_reply": "2022-11-25T05:03:58.249039Z"
    },
    "papermill": {
     "duration": 0.025938,
     "end_time": "2022-11-25T05:03:58.252917",
     "exception": false,
     "start_time": "2022-11-25T05:03:58.226979",
     "status": "completed"
    },
    "tags": []
   },
   "outputs": [
    {
     "data": {
      "application/javascript": [
       "parent.postMessage({\"jupyterEvent\": \"custom.exercise_interaction\", \"data\": {\"outcomeType\": 1, \"valueTowardsCompletion\": 0.25, \"interactionType\": 1, \"questionType\": 2, \"questionId\": \"1_SplitData\", \"learnToolsVersion\": \"0.3.4\", \"failureMessage\": \"\", \"exceptionClass\": \"\", \"trace\": \"\"}}, \"*\")"
      ],
      "text/plain": [
       "<IPython.core.display.Javascript object>"
      ]
     },
     "metadata": {},
     "output_type": "display_data"
    },
    {
     "data": {
      "text/markdown": [
       "<span style=\"color:#33cc33\">Correct</span>"
      ],
      "text/plain": [
       "Correct"
      ]
     },
     "metadata": {},
     "output_type": "display_data"
    }
   ],
   "source": [
    "# Import the train_test_split function and uncomment\n",
    "from sklearn.model_selection import train_test_split\n",
    "\n",
    "# fill in and uncomment\n",
    "train_X, val_X, train_y, val_y = train_test_split(X, y, random_state=1)\n",
    "\n",
    "# Check your answer\n",
    "step_1.check()"
   ]
  },
  {
   "cell_type": "code",
   "execution_count": 3,
   "id": "3a157b46",
   "metadata": {
    "execution": {
     "iopub.execute_input": "2022-11-25T05:03:58.265144Z",
     "iopub.status.busy": "2022-11-25T05:03:58.264658Z",
     "iopub.status.idle": "2022-11-25T05:03:58.269330Z",
     "shell.execute_reply": "2022-11-25T05:03:58.268325Z"
    },
    "papermill": {
     "duration": 0.013355,
     "end_time": "2022-11-25T05:03:58.271578",
     "exception": false,
     "start_time": "2022-11-25T05:03:58.258223",
     "status": "completed"
    },
    "tags": []
   },
   "outputs": [],
   "source": [
    "# The lines below will show you a hint or the solution.\n",
    "# step_1.hint() \n",
    "# step_1.solution()\n"
   ]
  },
  {
   "cell_type": "markdown",
   "id": "88d7e156",
   "metadata": {
    "papermill": {
     "duration": 0.004546,
     "end_time": "2022-11-25T05:03:58.281563",
     "exception": false,
     "start_time": "2022-11-25T05:03:58.277017",
     "status": "completed"
    },
    "tags": []
   },
   "source": [
    "## Step 2: Specify and Fit the Model\n",
    "\n",
    "Create a `DecisionTreeRegressor` model and fit it to the relevant data.\n",
    "Set `random_state` to 1 again when creating the model."
   ]
  },
  {
   "cell_type": "code",
   "execution_count": 4,
   "id": "c1c81444",
   "metadata": {
    "execution": {
     "iopub.execute_input": "2022-11-25T05:03:58.293197Z",
     "iopub.status.busy": "2022-11-25T05:03:58.292794Z",
     "iopub.status.idle": "2022-11-25T05:03:58.321662Z",
     "shell.execute_reply": "2022-11-25T05:03:58.320164Z"
    },
    "papermill": {
     "duration": 0.037265,
     "end_time": "2022-11-25T05:03:58.323784",
     "exception": false,
     "start_time": "2022-11-25T05:03:58.286519",
     "status": "completed"
    },
    "tags": []
   },
   "outputs": [
    {
     "name": "stdout",
     "output_type": "stream",
     "text": [
      "[186500. 184000. 130000.  92000. 164500. 220000. 335000. 144152. 215000.\n",
      " 262000.]\n",
      "[186500. 184000. 130000.  92000. 164500. 220000. 335000. 144152. 215000.\n",
      " 262000.]\n"
     ]
    },
    {
     "data": {
      "application/javascript": [
       "parent.postMessage({\"jupyterEvent\": \"custom.exercise_interaction\", \"data\": {\"outcomeType\": 1, \"valueTowardsCompletion\": 0.25, \"interactionType\": 1, \"questionType\": 2, \"questionId\": \"2_FitModelWithTrain\", \"learnToolsVersion\": \"0.3.4\", \"failureMessage\": \"\", \"exceptionClass\": \"\", \"trace\": \"\"}}, \"*\")"
      ],
      "text/plain": [
       "<IPython.core.display.Javascript object>"
      ]
     },
     "metadata": {},
     "output_type": "display_data"
    },
    {
     "data": {
      "text/markdown": [
       "<span style=\"color:#33cc33\">Correct</span>"
      ],
      "text/plain": [
       "Correct"
      ]
     },
     "metadata": {},
     "output_type": "display_data"
    }
   ],
   "source": [
    "# You imported DecisionTreeRegressor in your last exercise\n",
    "# and that code has been copied to the setup code above. So, no need to\n",
    "# import it again\n",
    "from sklearn.tree import DecisionTreeRegressor\n",
    "# Specify the model\n",
    "iowa_model = DecisionTreeRegressor(random_state = 1)\n",
    "\n",
    "# Fit iowa_model with the training data.\n",
    "iowa_model.fit(train_X, train_y)\n",
    "\n",
    "# Check your answer\n",
    "step_2.check()"
   ]
  },
  {
   "cell_type": "code",
   "execution_count": 5,
   "id": "33bcd78e",
   "metadata": {
    "execution": {
     "iopub.execute_input": "2022-11-25T05:03:58.336926Z",
     "iopub.status.busy": "2022-11-25T05:03:58.336499Z",
     "iopub.status.idle": "2022-11-25T05:03:58.340996Z",
     "shell.execute_reply": "2022-11-25T05:03:58.339865Z"
    },
    "papermill": {
     "duration": 0.014437,
     "end_time": "2022-11-25T05:03:58.343361",
     "exception": false,
     "start_time": "2022-11-25T05:03:58.328924",
     "status": "completed"
    },
    "tags": []
   },
   "outputs": [],
   "source": [
    "# step_2.hint()\n",
    "# step_2.solution()"
   ]
  },
  {
   "cell_type": "markdown",
   "id": "44ffa2f5",
   "metadata": {
    "papermill": {
     "duration": 0.004905,
     "end_time": "2022-11-25T05:03:58.353568",
     "exception": false,
     "start_time": "2022-11-25T05:03:58.348663",
     "status": "completed"
    },
    "tags": []
   },
   "source": [
    "## Step 3: Make Predictions with Validation data\n"
   ]
  },
  {
   "cell_type": "code",
   "execution_count": 6,
   "id": "7c254ecd",
   "metadata": {
    "execution": {
     "iopub.execute_input": "2022-11-25T05:03:58.366049Z",
     "iopub.status.busy": "2022-11-25T05:03:58.365274Z",
     "iopub.status.idle": "2022-11-25T05:03:58.377917Z",
     "shell.execute_reply": "2022-11-25T05:03:58.377068Z"
    },
    "papermill": {
     "duration": 0.021228,
     "end_time": "2022-11-25T05:03:58.379996",
     "exception": false,
     "start_time": "2022-11-25T05:03:58.358768",
     "status": "completed"
    },
    "tags": []
   },
   "outputs": [
    {
     "data": {
      "application/javascript": [
       "parent.postMessage({\"jupyterEvent\": \"custom.exercise_interaction\", \"data\": {\"outcomeType\": 1, \"valueTowardsCompletion\": 0.25, \"interactionType\": 1, \"questionType\": 2, \"questionId\": \"3_ValPreds\", \"learnToolsVersion\": \"0.3.4\", \"failureMessage\": \"\", \"exceptionClass\": \"\", \"trace\": \"\"}}, \"*\")"
      ],
      "text/plain": [
       "<IPython.core.display.Javascript object>"
      ]
     },
     "metadata": {},
     "output_type": "display_data"
    },
    {
     "data": {
      "text/markdown": [
       "<span style=\"color:#33cc33\">Correct</span>"
      ],
      "text/plain": [
       "Correct"
      ]
     },
     "metadata": {},
     "output_type": "display_data"
    }
   ],
   "source": [
    "# Predict with all validation observations\n",
    "val_predictions = iowa_model.predict(val_X)\n",
    "\n",
    "# Check your answer\n",
    "step_3.check()"
   ]
  },
  {
   "cell_type": "code",
   "execution_count": 7,
   "id": "425a0b55",
   "metadata": {
    "execution": {
     "iopub.execute_input": "2022-11-25T05:03:58.392232Z",
     "iopub.status.busy": "2022-11-25T05:03:58.391804Z",
     "iopub.status.idle": "2022-11-25T05:03:58.396176Z",
     "shell.execute_reply": "2022-11-25T05:03:58.394982Z"
    },
    "papermill": {
     "duration": 0.013042,
     "end_time": "2022-11-25T05:03:58.398263",
     "exception": false,
     "start_time": "2022-11-25T05:03:58.385221",
     "status": "completed"
    },
    "tags": []
   },
   "outputs": [],
   "source": [
    "# step_3.hint()\n",
    "# step_3.solution()"
   ]
  },
  {
   "cell_type": "markdown",
   "id": "b18cebf2",
   "metadata": {
    "papermill": {
     "duration": 0.005073,
     "end_time": "2022-11-25T05:03:58.408801",
     "exception": false,
     "start_time": "2022-11-25T05:03:58.403728",
     "status": "completed"
    },
    "tags": []
   },
   "source": [
    "Inspect your predictions and actual values from validation data."
   ]
  },
  {
   "cell_type": "code",
   "execution_count": 8,
   "id": "61019d0b",
   "metadata": {
    "execution": {
     "iopub.execute_input": "2022-11-25T05:03:58.422048Z",
     "iopub.status.busy": "2022-11-25T05:03:58.421318Z",
     "iopub.status.idle": "2022-11-25T05:03:58.428142Z",
     "shell.execute_reply": "2022-11-25T05:03:58.426885Z"
    },
    "papermill": {
     "duration": 0.016533,
     "end_time": "2022-11-25T05:03:58.430704",
     "exception": false,
     "start_time": "2022-11-25T05:03:58.414171",
     "status": "completed"
    },
    "tags": []
   },
   "outputs": [
    {
     "name": "stdout",
     "output_type": "stream",
     "text": [
      "[186500. 184000. 130000.  92000. 164500.]\n",
      "258     231500\n",
      "267     179500\n",
      "288     122000\n",
      "649      84500\n",
      "1233    142000\n",
      "Name: SalePrice, dtype: int64\n"
     ]
    }
   ],
   "source": [
    "# print the top few validation predictions\n",
    "print(val_predictions[:5])\n",
    "# print the top few actual prices from validation data\n",
    "print(val_y[:5])"
   ]
  },
  {
   "cell_type": "markdown",
   "id": "3c25fda0",
   "metadata": {
    "papermill": {
     "duration": 0.005188,
     "end_time": "2022-11-25T05:03:58.442794",
     "exception": false,
     "start_time": "2022-11-25T05:03:58.437606",
     "status": "completed"
    },
    "tags": []
   },
   "source": [
    "What do you notice that is different from what you saw with in-sample predictions (which are printed after the top code cell in this page).\n",
    "\n",
    "Do you remember why validation predictions differ from in-sample (or training) predictions? This is an important idea from the last lesson.\n",
    "\n",
    "## Step 4: Calculate the Mean Absolute Error in Validation Data\n"
   ]
  },
  {
   "cell_type": "code",
   "execution_count": 9,
   "id": "5dad730e",
   "metadata": {
    "execution": {
     "iopub.execute_input": "2022-11-25T05:03:58.456222Z",
     "iopub.status.busy": "2022-11-25T05:03:58.455767Z",
     "iopub.status.idle": "2022-11-25T05:03:58.468410Z",
     "shell.execute_reply": "2022-11-25T05:03:58.467424Z"
    },
    "papermill": {
     "duration": 0.022029,
     "end_time": "2022-11-25T05:03:58.470605",
     "exception": false,
     "start_time": "2022-11-25T05:03:58.448576",
     "status": "completed"
    },
    "tags": []
   },
   "outputs": [
    {
     "name": "stdout",
     "output_type": "stream",
     "text": [
      "29652.931506849316\n"
     ]
    },
    {
     "data": {
      "application/javascript": [
       "parent.postMessage({\"jupyterEvent\": \"custom.exercise_interaction\", \"data\": {\"outcomeType\": 1, \"valueTowardsCompletion\": 0.25, \"interactionType\": 1, \"questionType\": 1, \"questionId\": \"4_MAE\", \"learnToolsVersion\": \"0.3.4\", \"failureMessage\": \"\", \"exceptionClass\": \"\", \"trace\": \"\"}}, \"*\")"
      ],
      "text/plain": [
       "<IPython.core.display.Javascript object>"
      ]
     },
     "metadata": {},
     "output_type": "display_data"
    },
    {
     "data": {
      "text/markdown": [
       "<span style=\"color:#33cc33\">Correct</span>"
      ],
      "text/plain": [
       "Correct"
      ]
     },
     "metadata": {},
     "output_type": "display_data"
    }
   ],
   "source": [
    "from sklearn.metrics import mean_absolute_error\n",
    "val_mae = mean_absolute_error(val_predictions, val_y)\n",
    "\n",
    "# uncomment following line to see the validation_mae\n",
    "print(val_mae)\n",
    "\n",
    "# Check your answer\n",
    "step_4.check()"
   ]
  },
  {
   "cell_type": "code",
   "execution_count": 10,
   "id": "612cb65f",
   "metadata": {
    "execution": {
     "iopub.execute_input": "2022-11-25T05:03:58.484086Z",
     "iopub.status.busy": "2022-11-25T05:03:58.483356Z",
     "iopub.status.idle": "2022-11-25T05:03:58.487481Z",
     "shell.execute_reply": "2022-11-25T05:03:58.486662Z"
    },
    "papermill": {
     "duration": 0.013186,
     "end_time": "2022-11-25T05:03:58.489538",
     "exception": false,
     "start_time": "2022-11-25T05:03:58.476352",
     "status": "completed"
    },
    "tags": []
   },
   "outputs": [],
   "source": [
    "# step_4.hint()\n",
    "# step_4.solution()"
   ]
  },
  {
   "cell_type": "markdown",
   "id": "d5b03702",
   "metadata": {
    "papermill": {
     "duration": 0.005387,
     "end_time": "2022-11-25T05:03:58.500765",
     "exception": false,
     "start_time": "2022-11-25T05:03:58.495378",
     "status": "completed"
    },
    "tags": []
   },
   "source": [
    "Is that MAE good?  There isn't a general rule for what values are good that applies across applications. But you'll see how to use (and improve) this number in the next step.\n",
    "\n",
    "# Keep Going\n",
    "\n",
    "You are ready for **[Underfitting and Overfitting](https://www.kaggle.com/dansbecker/underfitting-and-overfitting).**\n"
   ]
  },
  {
   "cell_type": "markdown",
   "id": "cf0a6ad5",
   "metadata": {
    "papermill": {
     "duration": 0.005377,
     "end_time": "2022-11-25T05:03:58.511769",
     "exception": false,
     "start_time": "2022-11-25T05:03:58.506392",
     "status": "completed"
    },
    "tags": []
   },
   "source": [
    "---\n",
    "\n",
    "\n",
    "\n",
    "\n",
    "*Have questions or comments? Visit the [course discussion forum](https://www.kaggle.com/learn/intro-to-machine-learning/discussion) to chat with other learners.*"
   ]
  }
 ],
 "metadata": {
  "kernelspec": {
   "display_name": "Python 3",
   "language": "python",
   "name": "python3"
  },
  "language_info": {
   "codemirror_mode": {
    "name": "ipython",
    "version": 3
   },
   "file_extension": ".py",
   "mimetype": "text/x-python",
   "name": "python",
   "nbconvert_exporter": "python",
   "pygments_lexer": "ipython3",
   "version": "3.7.12"
  },
  "papermill": {
   "default_parameters": {},
   "duration": 11.531794,
   "end_time": "2022-11-25T05:03:59.239835",
   "environment_variables": {},
   "exception": null,
   "input_path": "__notebook__.ipynb",
   "output_path": "__notebook__.ipynb",
   "parameters": {},
   "start_time": "2022-11-25T05:03:47.708041",
   "version": "2.3.4"
  }
 },
 "nbformat": 4,
 "nbformat_minor": 5
}
