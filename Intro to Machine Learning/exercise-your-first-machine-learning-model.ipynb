{
 "cells": [
  {
   "cell_type": "markdown",
   "id": "f4048088",
   "metadata": {
    "papermill": {
     "duration": 0.005951,
     "end_time": "2022-11-25T16:53:50.616155",
     "exception": false,
     "start_time": "2022-11-25T16:53:50.610204",
     "status": "completed"
    },
    "tags": []
   },
   "source": [
    "**This notebook is an exercise in the [Introduction to Machine Learning](https://www.kaggle.com/learn/intro-to-machine-learning) course.  You can reference the tutorial at [this link](https://www.kaggle.com/dansbecker/your-first-machine-learning-model).**\n",
    "\n",
    "---\n"
   ]
  },
  {
   "cell_type": "markdown",
   "id": "0c6f76f6",
   "metadata": {
    "papermill": {
     "duration": 0.00421,
     "end_time": "2022-11-25T16:53:50.625323",
     "exception": false,
     "start_time": "2022-11-25T16:53:50.621113",
     "status": "completed"
    },
    "tags": []
   },
   "source": [
    "## Recap\n",
    "So far, you have loaded your data and reviewed it with the following code. Run this cell to set up your coding environment where the previous step left off."
   ]
  },
  {
   "cell_type": "code",
   "execution_count": 1,
   "id": "a74f99cc",
   "metadata": {
    "execution": {
     "iopub.execute_input": "2022-11-25T16:53:50.635924Z",
     "iopub.status.busy": "2022-11-25T16:53:50.635467Z",
     "iopub.status.idle": "2022-11-25T16:53:51.869958Z",
     "shell.execute_reply": "2022-11-25T16:53:51.868344Z"
    },
    "papermill": {
     "duration": 1.243099,
     "end_time": "2022-11-25T16:53:51.872842",
     "exception": false,
     "start_time": "2022-11-25T16:53:50.629743",
     "status": "completed"
    },
    "tags": []
   },
   "outputs": [
    {
     "name": "stdout",
     "output_type": "stream",
     "text": [
      "Setup Complete\n"
     ]
    }
   ],
   "source": [
    "# Code you have previously used to load data\n",
    "import pandas as pd\n",
    "\n",
    "# Path of the file to read\n",
    "iowa_file_path = '../input/home-data-for-ml-course/train.csv'\n",
    "\n",
    "home_data = pd.read_csv(iowa_file_path)\n",
    "\n",
    "# Set up code checking\n",
    "from learntools.core import binder\n",
    "binder.bind(globals())\n",
    "from learntools.machine_learning.ex3 import *\n",
    "\n",
    "print(\"Setup Complete\")"
   ]
  },
  {
   "cell_type": "markdown",
   "id": "c5f35a44",
   "metadata": {
    "papermill": {
     "duration": 0.004488,
     "end_time": "2022-11-25T16:53:51.882329",
     "exception": false,
     "start_time": "2022-11-25T16:53:51.877841",
     "status": "completed"
    },
    "tags": []
   },
   "source": [
    "# Exercises\n",
    "\n",
    "## Step 1: Specify Prediction Target\n",
    "Select the target variable, which corresponds to the sales price. Save this to a new variable called `y`. You'll need to print a list of the columns to find the name of the column you need.\n"
   ]
  },
  {
   "cell_type": "code",
   "execution_count": 2,
   "id": "e27d8860",
   "metadata": {
    "execution": {
     "iopub.execute_input": "2022-11-25T16:53:51.894001Z",
     "iopub.status.busy": "2022-11-25T16:53:51.892971Z",
     "iopub.status.idle": "2022-11-25T16:53:51.902737Z",
     "shell.execute_reply": "2022-11-25T16:53:51.901268Z"
    },
    "papermill": {
     "duration": 0.018179,
     "end_time": "2022-11-25T16:53:51.905102",
     "exception": false,
     "start_time": "2022-11-25T16:53:51.886923",
     "status": "completed"
    },
    "tags": []
   },
   "outputs": [
    {
     "data": {
      "text/plain": [
       "Index(['Id', 'MSSubClass', 'MSZoning', 'LotFrontage', 'LotArea', 'Street',\n",
       "       'Alley', 'LotShape', 'LandContour', 'Utilities', 'LotConfig',\n",
       "       'LandSlope', 'Neighborhood', 'Condition1', 'Condition2', 'BldgType',\n",
       "       'HouseStyle', 'OverallQual', 'OverallCond', 'YearBuilt', 'YearRemodAdd',\n",
       "       'RoofStyle', 'RoofMatl', 'Exterior1st', 'Exterior2nd', 'MasVnrType',\n",
       "       'MasVnrArea', 'ExterQual', 'ExterCond', 'Foundation', 'BsmtQual',\n",
       "       'BsmtCond', 'BsmtExposure', 'BsmtFinType1', 'BsmtFinSF1',\n",
       "       'BsmtFinType2', 'BsmtFinSF2', 'BsmtUnfSF', 'TotalBsmtSF', 'Heating',\n",
       "       'HeatingQC', 'CentralAir', 'Electrical', '1stFlrSF', '2ndFlrSF',\n",
       "       'LowQualFinSF', 'GrLivArea', 'BsmtFullBath', 'BsmtHalfBath', 'FullBath',\n",
       "       'HalfBath', 'BedroomAbvGr', 'KitchenAbvGr', 'KitchenQual',\n",
       "       'TotRmsAbvGrd', 'Functional', 'Fireplaces', 'FireplaceQu', 'GarageType',\n",
       "       'GarageYrBlt', 'GarageFinish', 'GarageCars', 'GarageArea', 'GarageQual',\n",
       "       'GarageCond', 'PavedDrive', 'WoodDeckSF', 'OpenPorchSF',\n",
       "       'EnclosedPorch', '3SsnPorch', 'ScreenPorch', 'PoolArea', 'PoolQC',\n",
       "       'Fence', 'MiscFeature', 'MiscVal', 'MoSold', 'YrSold', 'SaleType',\n",
       "       'SaleCondition', 'SalePrice'],\n",
       "      dtype='object')"
      ]
     },
     "execution_count": 2,
     "metadata": {},
     "output_type": "execute_result"
    }
   ],
   "source": [
    "# print the list of columns in the dataset to find the name of the prediction target\n",
    "home_data.columns"
   ]
  },
  {
   "cell_type": "code",
   "execution_count": 3,
   "id": "dc1fc27e",
   "metadata": {
    "execution": {
     "iopub.execute_input": "2022-11-25T16:53:51.917497Z",
     "iopub.status.busy": "2022-11-25T16:53:51.916193Z",
     "iopub.status.idle": "2022-11-25T16:53:51.928625Z",
     "shell.execute_reply": "2022-11-25T16:53:51.927961Z"
    },
    "papermill": {
     "duration": 0.020304,
     "end_time": "2022-11-25T16:53:51.930485",
     "exception": false,
     "start_time": "2022-11-25T16:53:51.910181",
     "status": "completed"
    },
    "tags": []
   },
   "outputs": [
    {
     "data": {
      "application/javascript": [
       "parent.postMessage({\"jupyterEvent\": \"custom.exercise_interaction\", \"data\": {\"outcomeType\": 1, \"valueTowardsCompletion\": 0.25, \"interactionType\": 1, \"questionType\": 2, \"questionId\": \"1_SetTarget\", \"learnToolsVersion\": \"0.3.4\", \"failureMessage\": \"\", \"exceptionClass\": \"\", \"trace\": \"\"}}, \"*\")"
      ],
      "text/plain": [
       "<IPython.core.display.Javascript object>"
      ]
     },
     "metadata": {},
     "output_type": "display_data"
    },
    {
     "data": {
      "text/markdown": [
       "<span style=\"color:#33cc33\">Correct</span>"
      ],
      "text/plain": [
       "Correct"
      ]
     },
     "metadata": {},
     "output_type": "display_data"
    }
   ],
   "source": [
    "y = home_data[\"SalePrice\"]\n",
    "\n",
    "\n",
    "# Check your answer\n",
    "step_1.check()"
   ]
  },
  {
   "cell_type": "code",
   "execution_count": 4,
   "id": "518a989c",
   "metadata": {
    "execution": {
     "iopub.execute_input": "2022-11-25T16:53:51.941931Z",
     "iopub.status.busy": "2022-11-25T16:53:51.941539Z",
     "iopub.status.idle": "2022-11-25T16:53:51.945145Z",
     "shell.execute_reply": "2022-11-25T16:53:51.944319Z"
    },
    "papermill": {
     "duration": 0.011644,
     "end_time": "2022-11-25T16:53:51.947009",
     "exception": false,
     "start_time": "2022-11-25T16:53:51.935365",
     "status": "completed"
    },
    "tags": []
   },
   "outputs": [],
   "source": [
    "# The lines below will show you a hint or the solution.\n",
    "# step_1.hint() \n",
    "# step_1.solution()"
   ]
  },
  {
   "cell_type": "markdown",
   "id": "f4112748",
   "metadata": {
    "papermill": {
     "duration": 0.005396,
     "end_time": "2022-11-25T16:53:51.957900",
     "exception": false,
     "start_time": "2022-11-25T16:53:51.952504",
     "status": "completed"
    },
    "tags": []
   },
   "source": [
    "## Step 2: Create X\n",
    "Now you will create a DataFrame called `X` holding the predictive features.\n",
    "\n",
    "Since you want only some columns from the original data, you'll first create a list with the names of the columns you want in `X`.\n",
    "\n",
    "You'll use just the following columns in the list (you can copy and paste the whole list to save some typing, though you'll still need to add quotes):\n",
    "  * LotArea\n",
    "  * YearBuilt\n",
    "  * 1stFlrSF\n",
    "  * 2ndFlrSF\n",
    "  * FullBath\n",
    "  * BedroomAbvGr\n",
    "  * TotRmsAbvGrd\n",
    "\n",
    "After you've created that list of features, use it to create the DataFrame that you'll use to fit the model."
   ]
  },
  {
   "cell_type": "code",
   "execution_count": 5,
   "id": "b9239d0f",
   "metadata": {
    "execution": {
     "iopub.execute_input": "2022-11-25T16:53:51.970930Z",
     "iopub.status.busy": "2022-11-25T16:53:51.970537Z",
     "iopub.status.idle": "2022-11-25T16:53:51.982329Z",
     "shell.execute_reply": "2022-11-25T16:53:51.981615Z"
    },
    "papermill": {
     "duration": 0.020291,
     "end_time": "2022-11-25T16:53:51.984585",
     "exception": false,
     "start_time": "2022-11-25T16:53:51.964294",
     "status": "completed"
    },
    "tags": []
   },
   "outputs": [
    {
     "data": {
      "application/javascript": [
       "parent.postMessage({\"jupyterEvent\": \"custom.exercise_interaction\", \"data\": {\"outcomeType\": 1, \"valueTowardsCompletion\": 0.25, \"interactionType\": 1, \"questionType\": 2, \"questionId\": \"2_SelectPredictionData\", \"learnToolsVersion\": \"0.3.4\", \"failureMessage\": \"\", \"exceptionClass\": \"\", \"trace\": \"\"}}, \"*\")"
      ],
      "text/plain": [
       "<IPython.core.display.Javascript object>"
      ]
     },
     "metadata": {},
     "output_type": "display_data"
    },
    {
     "data": {
      "text/markdown": [
       "<span style=\"color:#33cc33\">Correct</span>"
      ],
      "text/plain": [
       "Correct"
      ]
     },
     "metadata": {},
     "output_type": "display_data"
    }
   ],
   "source": [
    "# Create the list of features below\n",
    "feature_names =  [\"LotArea\", \"YearBuilt\", \"1stFlrSF\", \"2ndFlrSF\", \"FullBath\", \"BedroomAbvGr\", \"TotRmsAbvGrd\"]\n",
    "\n",
    "# Select data corresponding to features in feature_names\n",
    "X = home_data[feature_names]\n",
    "\n",
    "# Check your answer\n",
    "step_2.check()"
   ]
  },
  {
   "cell_type": "code",
   "execution_count": 6,
   "id": "5dd84fb2",
   "metadata": {
    "execution": {
     "iopub.execute_input": "2022-11-25T16:53:51.996315Z",
     "iopub.status.busy": "2022-11-25T16:53:51.995961Z",
     "iopub.status.idle": "2022-11-25T16:53:52.000409Z",
     "shell.execute_reply": "2022-11-25T16:53:51.999179Z"
    },
    "papermill": {
     "duration": 0.012371,
     "end_time": "2022-11-25T16:53:52.002320",
     "exception": false,
     "start_time": "2022-11-25T16:53:51.989949",
     "status": "completed"
    },
    "tags": []
   },
   "outputs": [],
   "source": [
    "# step_2.hint()\n",
    "# step_2.solution()"
   ]
  },
  {
   "cell_type": "markdown",
   "id": "67b0ec71",
   "metadata": {
    "papermill": {
     "duration": 0.005163,
     "end_time": "2022-11-25T16:53:52.013389",
     "exception": false,
     "start_time": "2022-11-25T16:53:52.008226",
     "status": "completed"
    },
    "tags": []
   },
   "source": [
    "## Review Data\n",
    "Before building a model, take a quick look at **X** to verify it looks sensible"
   ]
  },
  {
   "cell_type": "code",
   "execution_count": 7,
   "id": "143f66d6",
   "metadata": {
    "execution": {
     "iopub.execute_input": "2022-11-25T16:53:52.025993Z",
     "iopub.status.busy": "2022-11-25T16:53:52.024905Z",
     "iopub.status.idle": "2022-11-25T16:53:52.055951Z",
     "shell.execute_reply": "2022-11-25T16:53:52.055075Z"
    },
    "papermill": {
     "duration": 0.039112,
     "end_time": "2022-11-25T16:53:52.057783",
     "exception": false,
     "start_time": "2022-11-25T16:53:52.018671",
     "status": "completed"
    },
    "tags": []
   },
   "outputs": [
    {
     "name": "stdout",
     "output_type": "stream",
     "text": [
      "             LotArea    YearBuilt     1stFlrSF     2ndFlrSF     FullBath  \\\n",
      "count    1460.000000  1460.000000  1460.000000  1460.000000  1460.000000   \n",
      "mean    10516.828082  1971.267808  1162.626712   346.992466     1.565068   \n",
      "std      9981.264932    30.202904   386.587738   436.528436     0.550916   \n",
      "min      1300.000000  1872.000000   334.000000     0.000000     0.000000   \n",
      "25%      7553.500000  1954.000000   882.000000     0.000000     1.000000   \n",
      "50%      9478.500000  1973.000000  1087.000000     0.000000     2.000000   \n",
      "75%     11601.500000  2000.000000  1391.250000   728.000000     2.000000   \n",
      "max    215245.000000  2010.000000  4692.000000  2065.000000     3.000000   \n",
      "\n",
      "       BedroomAbvGr  TotRmsAbvGrd  \n",
      "count   1460.000000   1460.000000  \n",
      "mean       2.866438      6.517808  \n",
      "std        0.815778      1.625393  \n",
      "min        0.000000      2.000000  \n",
      "25%        2.000000      5.000000  \n",
      "50%        3.000000      6.000000  \n",
      "75%        3.000000      7.000000  \n",
      "max        8.000000     14.000000  \n",
      "   LotArea  YearBuilt  1stFlrSF  2ndFlrSF  FullBath  BedroomAbvGr  \\\n",
      "0     8450       2003       856       854         2             3   \n",
      "1     9600       1976      1262         0         2             3   \n",
      "2    11250       2001       920       866         2             3   \n",
      "3     9550       1915       961       756         1             3   \n",
      "4    14260       2000      1145      1053         2             4   \n",
      "\n",
      "   TotRmsAbvGrd  \n",
      "0             8  \n",
      "1             6  \n",
      "2             6  \n",
      "3             7  \n",
      "4             9  \n"
     ]
    }
   ],
   "source": [
    "# Review data\n",
    "# print description or statistics from X\n",
    "print(X.describe())\n",
    "\n",
    "# print the top few lines\n",
    "print(X.head())"
   ]
  },
  {
   "cell_type": "markdown",
   "id": "861fb5fa",
   "metadata": {
    "papermill": {
     "duration": 0.004785,
     "end_time": "2022-11-25T16:53:52.067708",
     "exception": false,
     "start_time": "2022-11-25T16:53:52.062923",
     "status": "completed"
    },
    "tags": []
   },
   "source": [
    "## Step 3: Specify and Fit Model\n",
    "Create a `DecisionTreeRegressor` and save it iowa_model. Ensure you've done the relevant import from sklearn to run this command.\n",
    "\n",
    "Then fit the model you just created using the data in `X` and `y` that you saved above."
   ]
  },
  {
   "cell_type": "code",
   "execution_count": 8,
   "id": "ca2d7b29",
   "metadata": {
    "execution": {
     "iopub.execute_input": "2022-11-25T16:53:52.079497Z",
     "iopub.status.busy": "2022-11-25T16:53:52.078990Z",
     "iopub.status.idle": "2022-11-25T16:53:52.095598Z",
     "shell.execute_reply": "2022-11-25T16:53:52.094615Z"
    },
    "papermill": {
     "duration": 0.024839,
     "end_time": "2022-11-25T16:53:52.097496",
     "exception": false,
     "start_time": "2022-11-25T16:53:52.072657",
     "status": "completed"
    },
    "tags": []
   },
   "outputs": [
    {
     "data": {
      "application/javascript": [
       "parent.postMessage({\"jupyterEvent\": \"custom.exercise_interaction\", \"data\": {\"outcomeType\": 1, \"valueTowardsCompletion\": 0.25, \"interactionType\": 1, \"questionType\": 2, \"questionId\": \"3_CreateModel\", \"learnToolsVersion\": \"0.3.4\", \"failureMessage\": \"\", \"exceptionClass\": \"\", \"trace\": \"\"}}, \"*\")"
      ],
      "text/plain": [
       "<IPython.core.display.Javascript object>"
      ]
     },
     "metadata": {},
     "output_type": "display_data"
    },
    {
     "data": {
      "text/markdown": [
       "<span style=\"color:#33cc33\">Correct</span>"
      ],
      "text/plain": [
       "Correct"
      ]
     },
     "metadata": {},
     "output_type": "display_data"
    }
   ],
   "source": [
    "from sklearn.tree import DecisionTreeRegressor\n",
    "#specify the model. \n",
    "#For model reproducibility, set a numeric value for random_state when specifying the model\n",
    "iowa_model = DecisionTreeRegressor(random_state=1)\n",
    "\n",
    "# Fit the model\n",
    "iowa_model.fit(X, y)\n",
    "\n",
    "# Check your answer\n",
    "step_3.check()"
   ]
  },
  {
   "cell_type": "code",
   "execution_count": 9,
   "id": "5871f613",
   "metadata": {
    "execution": {
     "iopub.execute_input": "2022-11-25T16:53:52.110440Z",
     "iopub.status.busy": "2022-11-25T16:53:52.109719Z",
     "iopub.status.idle": "2022-11-25T16:53:52.113638Z",
     "shell.execute_reply": "2022-11-25T16:53:52.112979Z"
    },
    "papermill": {
     "duration": 0.012457,
     "end_time": "2022-11-25T16:53:52.115393",
     "exception": false,
     "start_time": "2022-11-25T16:53:52.102936",
     "status": "completed"
    },
    "tags": []
   },
   "outputs": [],
   "source": [
    "# step_3.hint()\n",
    "# step_3.solution()"
   ]
  },
  {
   "cell_type": "markdown",
   "id": "038c35aa",
   "metadata": {
    "papermill": {
     "duration": 0.005063,
     "end_time": "2022-11-25T16:53:52.125962",
     "exception": false,
     "start_time": "2022-11-25T16:53:52.120899",
     "status": "completed"
    },
    "tags": []
   },
   "source": [
    "## Step 4: Make Predictions\n",
    "Make predictions with the model's `predict` command using `X` as the data. Save the results to a variable called `predictions`."
   ]
  },
  {
   "cell_type": "code",
   "execution_count": 10,
   "id": "7578b3be",
   "metadata": {
    "execution": {
     "iopub.execute_input": "2022-11-25T16:53:52.138175Z",
     "iopub.status.busy": "2022-11-25T16:53:52.137658Z",
     "iopub.status.idle": "2022-11-25T16:53:52.151517Z",
     "shell.execute_reply": "2022-11-25T16:53:52.149662Z"
    },
    "papermill": {
     "duration": 0.022785,
     "end_time": "2022-11-25T16:53:52.154087",
     "exception": false,
     "start_time": "2022-11-25T16:53:52.131302",
     "status": "completed"
    },
    "tags": []
   },
   "outputs": [
    {
     "name": "stdout",
     "output_type": "stream",
     "text": [
      "[208500. 181500. 223500. ... 266500. 142125. 147500.]\n"
     ]
    },
    {
     "data": {
      "application/javascript": [
       "parent.postMessage({\"jupyterEvent\": \"custom.exercise_interaction\", \"data\": {\"outcomeType\": 1, \"valueTowardsCompletion\": 0.25, \"interactionType\": 1, \"questionType\": 2, \"questionId\": \"4_MakePredictions\", \"learnToolsVersion\": \"0.3.4\", \"failureMessage\": \"\", \"exceptionClass\": \"\", \"trace\": \"\"}}, \"*\")"
      ],
      "text/plain": [
       "<IPython.core.display.Javascript object>"
      ]
     },
     "metadata": {},
     "output_type": "display_data"
    },
    {
     "data": {
      "text/markdown": [
       "<span style=\"color:#33cc33\">Correct</span>"
      ],
      "text/plain": [
       "Correct"
      ]
     },
     "metadata": {},
     "output_type": "display_data"
    }
   ],
   "source": [
    "predictions = iowa_model.predict(X)\n",
    "print(predictions)\n",
    "\n",
    "# Check your answer\n",
    "step_4.check()"
   ]
  },
  {
   "cell_type": "code",
   "execution_count": 11,
   "id": "1410cf90",
   "metadata": {
    "collapsed": true,
    "execution": {
     "iopub.execute_input": "2022-11-25T16:53:52.167995Z",
     "iopub.status.busy": "2022-11-25T16:53:52.167579Z",
     "iopub.status.idle": "2022-11-25T16:53:52.172830Z",
     "shell.execute_reply": "2022-11-25T16:53:52.171725Z"
    },
    "jupyter": {
     "outputs_hidden": true
    },
    "papermill": {
     "duration": 0.014767,
     "end_time": "2022-11-25T16:53:52.174666",
     "exception": false,
     "start_time": "2022-11-25T16:53:52.159899",
     "status": "completed"
    },
    "tags": []
   },
   "outputs": [],
   "source": [
    "# step_4.hint()\n",
    "# step_4.solution()"
   ]
  },
  {
   "cell_type": "markdown",
   "id": "6d42417d",
   "metadata": {
    "papermill": {
     "duration": 0.005364,
     "end_time": "2022-11-25T16:53:52.185827",
     "exception": false,
     "start_time": "2022-11-25T16:53:52.180463",
     "status": "completed"
    },
    "tags": []
   },
   "source": [
    "## Think About Your Results\n",
    "\n",
    "Use the `head` method to compare the top few predictions to the actual home values (in `y`) for those same homes. Anything surprising?\n"
   ]
  },
  {
   "cell_type": "code",
   "execution_count": 12,
   "id": "025bf226",
   "metadata": {
    "execution": {
     "iopub.execute_input": "2022-11-25T16:53:52.198784Z",
     "iopub.status.busy": "2022-11-25T16:53:52.197822Z",
     "iopub.status.idle": "2022-11-25T16:53:52.203733Z",
     "shell.execute_reply": "2022-11-25T16:53:52.202026Z"
    },
    "papermill": {
     "duration": 0.014993,
     "end_time": "2022-11-25T16:53:52.206275",
     "exception": false,
     "start_time": "2022-11-25T16:53:52.191282",
     "status": "completed"
    },
    "tags": []
   },
   "outputs": [],
   "source": [
    "# You can write code in this cell\n"
   ]
  },
  {
   "cell_type": "markdown",
   "id": "6e4d69c7",
   "metadata": {
    "papermill": {
     "duration": 0.005618,
     "end_time": "2022-11-25T16:53:52.218092",
     "exception": false,
     "start_time": "2022-11-25T16:53:52.212474",
     "status": "completed"
    },
    "tags": []
   },
   "source": [
    "It's natural to ask how accurate the model's predictions will be and how you can improve that. That will be you're next step.\n",
    "\n",
    "# Keep Going\n",
    "\n",
    "You are ready for **[Model Validation](https://www.kaggle.com/dansbecker/model-validation).**\n"
   ]
  },
  {
   "cell_type": "markdown",
   "id": "79236e71",
   "metadata": {
    "papermill": {
     "duration": 0.005537,
     "end_time": "2022-11-25T16:53:52.229754",
     "exception": false,
     "start_time": "2022-11-25T16:53:52.224217",
     "status": "completed"
    },
    "tags": []
   },
   "source": [
    "---\n",
    "\n",
    "\n",
    "\n",
    "\n",
    "*Have questions or comments? Visit the [course discussion forum](https://www.kaggle.com/learn/intro-to-machine-learning/discussion) to chat with other learners.*"
   ]
  }
 ],
 "metadata": {
  "kernelspec": {
   "display_name": "Python 3",
   "language": "python",
   "name": "python3"
  },
  "language_info": {
   "codemirror_mode": {
    "name": "ipython",
    "version": 3
   },
   "file_extension": ".py",
   "mimetype": "text/x-python",
   "name": "python",
   "nbconvert_exporter": "python",
   "pygments_lexer": "ipython3",
   "version": "3.7.12"
  },
  "papermill": {
   "default_parameters": {},
   "duration": 9.885306,
   "end_time": "2022-11-25T16:53:52.957169",
   "environment_variables": {},
   "exception": null,
   "input_path": "__notebook__.ipynb",
   "output_path": "__notebook__.ipynb",
   "parameters": {},
   "start_time": "2022-11-25T16:53:43.071863",
   "version": "2.3.4"
  }
 },
 "nbformat": 4,
 "nbformat_minor": 5
}
