{
 "cells": [
  {
   "cell_type": "markdown",
   "id": "ad0c3a63",
   "metadata": {
    "papermill": {
     "duration": 0.00858,
     "end_time": "2022-11-24T01:32:29.309736",
     "exception": false,
     "start_time": "2022-11-24T01:32:29.301156",
     "status": "completed"
    },
    "tags": []
   },
   "source": [
    "**This notebook is an exercise in the [Intro to Programming](https://www.kaggle.com/learn/intro-to-programming) course.  You can reference the tutorial at [this link](https://www.kaggle.com/alexisbcook/data-types).**\n",
    "\n",
    "---\n"
   ]
  },
  {
   "cell_type": "markdown",
   "id": "7934039e",
   "metadata": {
    "papermill": {
     "duration": 0.006782,
     "end_time": "2022-11-24T01:32:29.323741",
     "exception": false,
     "start_time": "2022-11-24T01:32:29.316959",
     "status": "completed"
    },
    "tags": []
   },
   "source": [
    "In the tutorial, you learned about four different data types: floats, integers, strings, and booleans.  In this exercise, you'll experiment with them.\n",
    "\n",
    "# Set up the notebook\n",
    "\n",
    "Run the next code cell without changes to set up the notebook."
   ]
  },
  {
   "cell_type": "code",
   "execution_count": 1,
   "id": "f429b60c",
   "metadata": {
    "execution": {
     "iopub.execute_input": "2022-11-24T01:32:29.341077Z",
     "iopub.status.busy": "2022-11-24T01:32:29.339554Z",
     "iopub.status.idle": "2022-11-24T01:32:29.406443Z",
     "shell.execute_reply": "2022-11-24T01:32:29.404954Z"
    },
    "papermill": {
     "duration": 0.078897,
     "end_time": "2022-11-24T01:32:29.409482",
     "exception": false,
     "start_time": "2022-11-24T01:32:29.330585",
     "status": "completed"
    },
    "tags": []
   },
   "outputs": [
    {
     "name": "stdout",
     "output_type": "stream",
     "text": [
      "Setup complete.\n"
     ]
    }
   ],
   "source": [
    "# Set up the exercise\n",
    "from learntools.core import binder\n",
    "binder.bind(globals())\n",
    "from learntools.intro_to_programming.ex3 import *\n",
    "print('Setup complete.')"
   ]
  },
  {
   "cell_type": "markdown",
   "id": "578e949e",
   "metadata": {
    "papermill": {
     "duration": 0.006953,
     "end_time": "2022-11-24T01:32:29.424259",
     "exception": false,
     "start_time": "2022-11-24T01:32:29.417306",
     "status": "completed"
    },
    "tags": []
   },
   "source": [
    "# Question 1\n",
    "\n",
    "You have seen how to convert a float to an integer with the `int` function.  Try this out yourself by running the code cell below."
   ]
  },
  {
   "cell_type": "code",
   "execution_count": 2,
   "id": "054083a9",
   "metadata": {
    "execution": {
     "iopub.execute_input": "2022-11-24T01:32:29.441664Z",
     "iopub.status.busy": "2022-11-24T01:32:29.440958Z",
     "iopub.status.idle": "2022-11-24T01:32:29.448019Z",
     "shell.execute_reply": "2022-11-24T01:32:29.446777Z"
    },
    "papermill": {
     "duration": 0.018736,
     "end_time": "2022-11-24T01:32:29.450293",
     "exception": false,
     "start_time": "2022-11-24T01:32:29.431557",
     "status": "completed"
    },
    "tags": []
   },
   "outputs": [
    {
     "name": "stdout",
     "output_type": "stream",
     "text": [
      "1.0\n",
      "<class 'float'>\n",
      "1\n",
      "<class 'int'>\n"
     ]
    }
   ],
   "source": [
    "# Define a float\n",
    "y = 1.\n",
    "print(y)\n",
    "print(type(y))\n",
    "\n",
    "# Convert float to integer with the int function\n",
    "z = int(y)\n",
    "print(z)\n",
    "print(type(z))"
   ]
  },
  {
   "cell_type": "markdown",
   "id": "cdcd0b99",
   "metadata": {
    "papermill": {
     "duration": 0.006927,
     "end_time": "2022-11-24T01:32:29.464351",
     "exception": false,
     "start_time": "2022-11-24T01:32:29.457424",
     "status": "completed"
    },
    "tags": []
   },
   "source": [
    "In this case, the float you are using has no numbers after the decimal.  \n",
    "- But what happens when you try to convert a float with a fractional part to an integer?  \n",
    "- How does the outcome of the `int` function change for positive and negative numbers?\n",
    "\n",
    "Use the next code cell to investigate and answer these questions.  Feel free to add or remove any lines of code -- it is your workspace!"
   ]
  },
  {
   "cell_type": "code",
   "execution_count": 3,
   "id": "8970c101",
   "metadata": {
    "execution": {
     "iopub.execute_input": "2022-11-24T01:32:29.483903Z",
     "iopub.status.busy": "2022-11-24T01:32:29.483122Z",
     "iopub.status.idle": "2022-11-24T01:32:29.488208Z",
     "shell.execute_reply": "2022-11-24T01:32:29.487279Z"
    },
    "papermill": {
     "duration": 0.018764,
     "end_time": "2022-11-24T01:32:29.490902",
     "exception": false,
     "start_time": "2022-11-24T01:32:29.472138",
     "status": "completed"
    },
    "tags": []
   },
   "outputs": [],
   "source": [
    "# Uncomment and run this code to get started!\n",
    "#print(int(1.2321))\n",
    "#print(int(1.747))\n",
    "#print(int(-3.94535))\n",
    "#print(int(-2.19774))"
   ]
  },
  {
   "cell_type": "markdown",
   "id": "7146184a",
   "metadata": {
    "papermill": {
     "duration": 0.008643,
     "end_time": "2022-11-24T01:32:29.507234",
     "exception": false,
     "start_time": "2022-11-24T01:32:29.498591",
     "status": "completed"
    },
    "tags": []
   },
   "source": [
    "Once you have an answer, run the code cell below to see the solution.  Viewing the solution will give you credit for answering the problem."
   ]
  },
  {
   "cell_type": "code",
   "execution_count": 4,
   "id": "ec3252c0",
   "metadata": {
    "execution": {
     "iopub.execute_input": "2022-11-24T01:32:29.523857Z",
     "iopub.status.busy": "2022-11-24T01:32:29.523065Z",
     "iopub.status.idle": "2022-11-24T01:32:29.534086Z",
     "shell.execute_reply": "2022-11-24T01:32:29.532781Z"
    },
    "papermill": {
     "duration": 0.022113,
     "end_time": "2022-11-24T01:32:29.536381",
     "exception": false,
     "start_time": "2022-11-24T01:32:29.514268",
     "status": "completed"
    },
    "tags": []
   },
   "outputs": [
    {
     "data": {
      "application/javascript": [
       "parent.postMessage({\"jupyterEvent\": \"custom.exercise_interaction\", \"data\": {\"outcomeType\": 1, \"valueTowardsCompletion\": 0.2, \"interactionType\": 1, \"questionType\": 4, \"questionId\": \"1_FloatToInt\", \"learnToolsVersion\": \"0.3.4\", \"failureMessage\": \"\", \"exceptionClass\": \"\", \"trace\": \"\"}}, \"*\")"
      ],
      "text/plain": [
       "<IPython.core.display.Javascript object>"
      ]
     },
     "metadata": {},
     "output_type": "display_data"
    },
    {
     "data": {
      "text/markdown": [
       "<span style=\"color:#33cc33\">Correct:</span> \n",
       "\n",
       "Negative floats are always rounded UP to the closest integer (for instance, both -1.1 and -1.9 are rounded up to -1). Positive floats are always rounded DOWN to the closest integer (for instance, 2.1 and 2.9 are rounded down to 2)."
      ],
      "text/plain": [
       "Correct: \n",
       "\n",
       "Negative floats are always rounded UP to the closest integer (for instance, both -1.1 and -1.9 are rounded up to -1). Positive floats are always rounded DOWN to the closest integer (for instance, 2.1 and 2.9 are rounded down to 2)."
      ]
     },
     "metadata": {},
     "output_type": "display_data"
    }
   ],
   "source": [
    "# Check your answer (Run this code cell to receive credit!)\n",
    "\n",
    "q1.check()"
   ]
  },
  {
   "cell_type": "markdown",
   "id": "00d270bd",
   "metadata": {
    "papermill": {
     "duration": 0.006817,
     "end_time": "2022-11-24T01:32:29.550341",
     "exception": false,
     "start_time": "2022-11-24T01:32:29.543524",
     "status": "completed"
    },
    "tags": []
   },
   "source": [
    "# Question 2\n",
    "\n",
    "In the tutorial, you learned about booleans (which can take a value of `True` or `False`), in addition to integers, floats, and strings.  For this question, your goal is to determine what happens when you multiply a boolean by any of these data types.  Specifically, \n",
    "- What happens when you multiply an integer or float by `True`?  What happens when you multiply them by `False`?  How does the answer change if the numbers are positive or negative?\n",
    "- What happens when you multiply a string by `True`?  By `False`?\n",
    "\n",
    "Use the next code cell for your investigation. "
   ]
  },
  {
   "cell_type": "code",
   "execution_count": 5,
   "id": "853c4b77",
   "metadata": {
    "execution": {
     "iopub.execute_input": "2022-11-24T01:32:29.567885Z",
     "iopub.status.busy": "2022-11-24T01:32:29.567099Z",
     "iopub.status.idle": "2022-11-24T01:32:29.573982Z",
     "shell.execute_reply": "2022-11-24T01:32:29.572581Z"
    },
    "papermill": {
     "duration": 0.018764,
     "end_time": "2022-11-24T01:32:29.576418",
     "exception": false,
     "start_time": "2022-11-24T01:32:29.557654",
     "status": "completed"
    },
    "tags": []
   },
   "outputs": [
    {
     "name": "stdout",
     "output_type": "stream",
     "text": [
      "3\n",
      "-3.1\n",
      "<class 'str'>\n",
      "0\n"
     ]
    }
   ],
   "source": [
    "# Uncomment and run this code to get started!\n",
    "print(3 * True)\n",
    "print(-3.1 * True)\n",
    "print(type(\"abc\" * False))\n",
    "print(len(\"abc\" * False))"
   ]
  },
  {
   "cell_type": "markdown",
   "id": "6be2afe3",
   "metadata": {
    "papermill": {
     "duration": 0.006867,
     "end_time": "2022-11-24T01:32:29.590656",
     "exception": false,
     "start_time": "2022-11-24T01:32:29.583789",
     "status": "completed"
    },
    "tags": []
   },
   "source": [
    "Once you have an answer, run the code cell below to see the solution.  Viewing the solution will give you credit for answering the problem."
   ]
  },
  {
   "cell_type": "code",
   "execution_count": 6,
   "id": "4f68928e",
   "metadata": {
    "execution": {
     "iopub.execute_input": "2022-11-24T01:32:29.607864Z",
     "iopub.status.busy": "2022-11-24T01:32:29.606401Z",
     "iopub.status.idle": "2022-11-24T01:32:29.618003Z",
     "shell.execute_reply": "2022-11-24T01:32:29.616731Z"
    },
    "papermill": {
     "duration": 0.022632,
     "end_time": "2022-11-24T01:32:29.620402",
     "exception": false,
     "start_time": "2022-11-24T01:32:29.597770",
     "status": "completed"
    },
    "tags": []
   },
   "outputs": [
    {
     "data": {
      "application/javascript": [
       "parent.postMessage({\"jupyterEvent\": \"custom.exercise_interaction\", \"data\": {\"outcomeType\": 1, \"valueTowardsCompletion\": 0.2, \"interactionType\": 1, \"questionType\": 4, \"questionId\": \"2_MultiplyBooleans\", \"learnToolsVersion\": \"0.3.4\", \"failureMessage\": \"\", \"exceptionClass\": \"\", \"trace\": \"\"}}, \"*\")"
      ],
      "text/plain": [
       "<IPython.core.display.Javascript object>"
      ]
     },
     "metadata": {},
     "output_type": "display_data"
    },
    {
     "data": {
      "text/markdown": [
       "<span style=\"color:#33cc33\">Correct:</span> \n",
       "\n",
       "When you multiple an integer or float by a boolean with value `True`, it just returns that same integer or float (and is equivalent to multiplying by 1).  If you multiply an integer or float by a boolean with value `False`, it always returns 0.  This is true for both positive and negative numbers.  If you multiply a string by a boolean with value `True`, it just returns that same string.  And if you multiply a string by a boolean with value `False`, it returns an empty string (or a string with length zero)."
      ],
      "text/plain": [
       "Correct: \n",
       "\n",
       "When you multiple an integer or float by a boolean with value `True`, it just returns that same integer or float (and is equivalent to multiplying by 1).  If you multiply an integer or float by a boolean with value `False`, it always returns 0.  This is true for both positive and negative numbers.  If you multiply a string by a boolean with value `True`, it just returns that same string.  And if you multiply a string by a boolean with value `False`, it returns an empty string (or a string with length zero)."
      ]
     },
     "metadata": {},
     "output_type": "display_data"
    }
   ],
   "source": [
    "# Check your answer (Run this code cell to receive credit!)\n",
    "q2.check()"
   ]
  },
  {
   "cell_type": "markdown",
   "id": "93f23671",
   "metadata": {
    "papermill": {
     "duration": 0.007063,
     "end_time": "2022-11-24T01:32:29.635057",
     "exception": false,
     "start_time": "2022-11-24T01:32:29.627994",
     "status": "completed"
    },
    "tags": []
   },
   "source": [
    "# Question 3\n",
    "\n",
    "In this question, you will build off your work from the previous exercise to write a function that estimates the value of a house.\n",
    "\n",
    "Use the next code cell to create a function `get_expected_cost` that takes as input three variables:\n",
    "- `beds` - number of bedrooms (data type float)\n",
    "- `baths` - number of bathrooms (data type float)\n",
    "- `has_basement` - whether or not the house has a basement (data type boolean)\n",
    "\n",
    "It should return the expected cost of a house with those characteristics. Assume that:\n",
    "- the expected cost for a house with 0 bedrooms and 0 bathrooms, and no basement is 80000, \n",
    "- each bedroom adds 30000 to the expected cost,\n",
    "- each bathroom adds 10000 to the expected cost, and\n",
    "- a basement adds 40000 to the expected cost.\n",
    "\n",
    "For instance,\n",
    "- a house with 1 bedroom, 1 bathroom, and no basement has an expected cost of 80000 + 30000 + 10000 = 120000.  This value will be calculated with `get_expected_cost(1, 1, False)`.\n",
    "- a house with 2 bedrooms, 1 bathroom, and a basement has an expected cost of 80000 + 2*30000 + 10000 + 40000 = 190000.  This value will be calculated with `get_expected_cost(2, 1, True)`.\n",
    "\n",
    "Remember you can always get a hint by uncommenting `q3.hint()` in the code cell following the next!"
   ]
  },
  {
   "cell_type": "code",
   "execution_count": 7,
   "id": "b6d973d4",
   "metadata": {
    "execution": {
     "iopub.execute_input": "2022-11-24T01:32:29.652529Z",
     "iopub.status.busy": "2022-11-24T01:32:29.651749Z",
     "iopub.status.idle": "2022-11-24T01:32:29.665695Z",
     "shell.execute_reply": "2022-11-24T01:32:29.664182Z"
    },
    "papermill": {
     "duration": 0.026107,
     "end_time": "2022-11-24T01:32:29.668492",
     "exception": false,
     "start_time": "2022-11-24T01:32:29.642385",
     "status": "completed"
    },
    "tags": []
   },
   "outputs": [
    {
     "data": {
      "application/javascript": [
       "parent.postMessage({\"jupyterEvent\": \"custom.exercise_interaction\", \"data\": {\"outcomeType\": 1, \"valueTowardsCompletion\": 0.2, \"interactionType\": 1, \"questionType\": 2, \"questionId\": \"3_EstimateHouseValueBool\", \"learnToolsVersion\": \"0.3.4\", \"failureMessage\": \"\", \"exceptionClass\": \"\", \"trace\": \"\"}}, \"*\")"
      ],
      "text/plain": [
       "<IPython.core.display.Javascript object>"
      ]
     },
     "metadata": {},
     "output_type": "display_data"
    },
    {
     "data": {
      "text/markdown": [
       "<span style=\"color:#33cc33\">Correct</span>"
      ],
      "text/plain": [
       "Correct"
      ]
     },
     "metadata": {},
     "output_type": "display_data"
    }
   ],
   "source": [
    "# TODO: Complete the function\n",
    "def get_expected_cost(beds, baths, has_basement):\n",
    "    if has_basement == True:\n",
    "        value = 80000 + beds * 30000 + baths * 10000 + 40000\n",
    "    else:\n",
    "        value = 80000 + beds * 30000 + baths * 10000\n",
    "    return value\n",
    "\n",
    "# Check your answer \n",
    "q3.check()"
   ]
  },
  {
   "cell_type": "code",
   "execution_count": 8,
   "id": "e74b653c",
   "metadata": {
    "execution": {
     "iopub.execute_input": "2022-11-24T01:32:29.687267Z",
     "iopub.status.busy": "2022-11-24T01:32:29.686805Z",
     "iopub.status.idle": "2022-11-24T01:32:29.696483Z",
     "shell.execute_reply": "2022-11-24T01:32:29.695302Z"
    },
    "papermill": {
     "duration": 0.022013,
     "end_time": "2022-11-24T01:32:29.699111",
     "exception": false,
     "start_time": "2022-11-24T01:32:29.677098",
     "status": "completed"
    },
    "tags": []
   },
   "outputs": [
    {
     "data": {
      "application/javascript": [
       "parent.postMessage({\"jupyterEvent\": \"custom.exercise_interaction\", \"data\": {\"interactionType\": 2, \"questionType\": 2, \"questionId\": \"3_EstimateHouseValueBool\", \"learnToolsVersion\": \"0.3.4\", \"valueTowardsCompletion\": 0.0, \"failureMessage\": \"\", \"exceptionClass\": \"\", \"trace\": \"\", \"outcomeType\": 4}}, \"*\")"
      ],
      "text/plain": [
       "<IPython.core.display.Javascript object>"
      ]
     },
     "metadata": {},
     "output_type": "display_data"
    },
    {
     "data": {
      "text/markdown": [
       "<span style=\"color:#3366cc\">Hint:</span> The variable `has_basement` is either `True` or `False`.  What happens when you multiply it by 40000 (the value of a basement)?  Refer to the previous question if you are unsure."
      ],
      "text/plain": [
       "Hint: The variable `has_basement` is either `True` or `False`.  What happens when you multiply it by 40000 (the value of a basement)?  Refer to the previous question if you are unsure."
      ]
     },
     "metadata": {},
     "output_type": "display_data"
    }
   ],
   "source": [
    "# Uncomment to see a hint\n",
    "q3.hint()\n",
    "\n",
    "# Uncomment to view the solution\n",
    "#q3.solution()"
   ]
  },
  {
   "cell_type": "markdown",
   "id": "0122aedf",
   "metadata": {
    "papermill": {
     "duration": 0.008786,
     "end_time": "2022-11-24T01:32:29.716383",
     "exception": false,
     "start_time": "2022-11-24T01:32:29.707597",
     "status": "completed"
    },
    "tags": []
   },
   "source": [
    "# Question 4\n",
    "\n",
    "We'll continue our study of boolean arithmetic.  For this question, your task is to provide a description of what happpens when you add booleans. \n",
    "\n",
    "Use the next code cell for your investigation.  Feel free to add or remove any lines of code - use it as your workspace!"
   ]
  },
  {
   "cell_type": "code",
   "execution_count": 9,
   "id": "af01b778",
   "metadata": {
    "execution": {
     "iopub.execute_input": "2022-11-24T01:32:29.735458Z",
     "iopub.status.busy": "2022-11-24T01:32:29.735028Z",
     "iopub.status.idle": "2022-11-24T01:32:29.741275Z",
     "shell.execute_reply": "2022-11-24T01:32:29.740181Z"
    },
    "papermill": {
     "duration": 0.018767,
     "end_time": "2022-11-24T01:32:29.743703",
     "exception": false,
     "start_time": "2022-11-24T01:32:29.724936",
     "status": "completed"
    },
    "tags": []
   },
   "outputs": [
    {
     "name": "stdout",
     "output_type": "stream",
     "text": [
      "0\n",
      "1\n",
      "1\n",
      "2\n",
      "3\n"
     ]
    }
   ],
   "source": [
    "print(False + False)\n",
    "print(True + False)\n",
    "print(False + True)\n",
    "print(True + True)\n",
    "print(False + True + True + True)"
   ]
  },
  {
   "cell_type": "markdown",
   "id": "8dc4d6c1",
   "metadata": {
    "papermill": {
     "duration": 0.008095,
     "end_time": "2022-11-24T01:32:29.760601",
     "exception": false,
     "start_time": "2022-11-24T01:32:29.752506",
     "status": "completed"
    },
    "tags": []
   },
   "source": [
    "Once you have an answer, run the code cell below to see the solution.  Viewing the solution will give you credit for answering the problem."
   ]
  },
  {
   "cell_type": "code",
   "execution_count": 10,
   "id": "b3914d72",
   "metadata": {
    "execution": {
     "iopub.execute_input": "2022-11-24T01:32:29.779916Z",
     "iopub.status.busy": "2022-11-24T01:32:29.779505Z",
     "iopub.status.idle": "2022-11-24T01:32:29.787510Z",
     "shell.execute_reply": "2022-11-24T01:32:29.786466Z"
    },
    "papermill": {
     "duration": 0.020441,
     "end_time": "2022-11-24T01:32:29.789749",
     "exception": false,
     "start_time": "2022-11-24T01:32:29.769308",
     "status": "completed"
    },
    "tags": []
   },
   "outputs": [
    {
     "data": {
      "application/javascript": [
       "parent.postMessage({\"jupyterEvent\": \"custom.exercise_interaction\", \"data\": {\"outcomeType\": 1, \"valueTowardsCompletion\": 0.2, \"interactionType\": 1, \"questionType\": 4, \"questionId\": \"4_AddingBooleans\", \"learnToolsVersion\": \"0.3.4\", \"failureMessage\": \"\", \"exceptionClass\": \"\", \"trace\": \"\"}}, \"*\")"
      ],
      "text/plain": [
       "<IPython.core.display.Javascript object>"
      ]
     },
     "metadata": {},
     "output_type": "display_data"
    },
    {
     "data": {
      "text/markdown": [
       "<span style=\"color:#33cc33\">Correct:</span> \n",
       "\n",
       "When you add booleans, adding `False` is equivalent to adding 0, and adding `True` is equivalent to adding 1."
      ],
      "text/plain": [
       "Correct: \n",
       "\n",
       "When you add booleans, adding `False` is equivalent to adding 0, and adding `True` is equivalent to adding 1."
      ]
     },
     "metadata": {},
     "output_type": "display_data"
    }
   ],
   "source": [
    "# Check your answer (Run this code cell to receive credit!)\n",
    "q4.check()"
   ]
  },
  {
   "cell_type": "markdown",
   "id": "ce173636",
   "metadata": {
    "papermill": {
     "duration": 0.00823,
     "end_time": "2022-11-24T01:32:29.806947",
     "exception": false,
     "start_time": "2022-11-24T01:32:29.798717",
     "status": "completed"
    },
    "tags": []
   },
   "source": [
    "# 🌶️ Question 5\n",
    "\n",
    "You own an online shop where you sell rings with custom engravings.  You offer both gold plated and solid gold rings.\n",
    "- Gold plated rings have a base cost of \\\\$50, and you charge \\\\$7 per engraved unit.  \n",
    "- Solid gold rings have a base cost of \\\\$100, and you charge \\\\$10 per engraved unit.\n",
    "- Spaces and punctuation are counted as engraved units.\n",
    "\n",
    "Write a function `cost_of_project()` that takes two arguments:\n",
    "- `engraving` - a Python string with the text of the engraving\n",
    "- `solid_gold` - a Boolean that indicates whether the ring is solid gold\n",
    "\n",
    "It should return the cost of the project.  This question should be fairly challenging, and you may need a hint."
   ]
  },
  {
   "cell_type": "code",
   "execution_count": 11,
   "id": "084dfdee",
   "metadata": {
    "execution": {
     "iopub.execute_input": "2022-11-24T01:32:29.826818Z",
     "iopub.status.busy": "2022-11-24T01:32:29.826373Z",
     "iopub.status.idle": "2022-11-24T01:32:29.835050Z",
     "shell.execute_reply": "2022-11-24T01:32:29.834188Z"
    },
    "papermill": {
     "duration": 0.021366,
     "end_time": "2022-11-24T01:32:29.837033",
     "exception": false,
     "start_time": "2022-11-24T01:32:29.815667",
     "status": "completed"
    },
    "tags": []
   },
   "outputs": [
    {
     "data": {
      "application/javascript": [
       "parent.postMessage({\"jupyterEvent\": \"custom.exercise_interaction\", \"data\": {\"outcomeType\": 1, \"valueTowardsCompletion\": 0.2, \"interactionType\": 1, \"questionType\": 2, \"questionId\": \"5_CustomEngravings\", \"learnToolsVersion\": \"0.3.4\", \"failureMessage\": \"\", \"exceptionClass\": \"\", \"trace\": \"\"}}, \"*\")"
      ],
      "text/plain": [
       "<IPython.core.display.Javascript object>"
      ]
     },
     "metadata": {},
     "output_type": "display_data"
    },
    {
     "data": {
      "text/markdown": [
       "<span style=\"color:#33cc33\">Correct</span>"
      ],
      "text/plain": [
       "Correct"
      ]
     },
     "metadata": {},
     "output_type": "display_data"
    }
   ],
   "source": [
    "def cost_of_project(engraving, solid_gold): \n",
    "    cost = solid_gold * (100 + 10 * len(engraving)) + (not solid_gold) * (50 + 7 * len(engraving))\n",
    "    return cost\n",
    "# Check your answer\n",
    "q5.check()"
   ]
  },
  {
   "cell_type": "code",
   "execution_count": 12,
   "id": "b7bfcd3a",
   "metadata": {
    "execution": {
     "iopub.execute_input": "2022-11-24T01:32:29.856590Z",
     "iopub.status.busy": "2022-11-24T01:32:29.856150Z",
     "iopub.status.idle": "2022-11-24T01:32:29.865906Z",
     "shell.execute_reply": "2022-11-24T01:32:29.865007Z"
    },
    "papermill": {
     "duration": 0.022454,
     "end_time": "2022-11-24T01:32:29.868333",
     "exception": false,
     "start_time": "2022-11-24T01:32:29.845879",
     "status": "completed"
    },
    "tags": []
   },
   "outputs": [
    {
     "data": {
      "application/javascript": [
       "parent.postMessage({\"jupyterEvent\": \"custom.exercise_interaction\", \"data\": {\"interactionType\": 3, \"questionType\": 2, \"questionId\": \"5_CustomEngravings\", \"learnToolsVersion\": \"0.3.4\", \"valueTowardsCompletion\": 0.0, \"failureMessage\": \"\", \"exceptionClass\": \"\", \"trace\": \"\", \"outcomeType\": 4}}, \"*\")"
      ],
      "text/plain": [
       "<IPython.core.display.Javascript object>"
      ]
     },
     "metadata": {},
     "output_type": "display_data"
    },
    {
     "data": {
      "text/markdown": [
       "<span style=\"color:#33cc99\">Solution:</span> \n",
       "```python\n",
       "def cost_of_project(engraving, solid_gold):\n",
       "    cost = solid_gold * (100 + 10 * len(engraving)) + (not solid_gold) * (50 + 7 * len(engraving))\n",
       "    return cost\n",
       "\n",
       "```"
      ],
      "text/plain": [
       "Solution: \n",
       "```python\n",
       "def cost_of_project(engraving, solid_gold):\n",
       "    cost = solid_gold * (100 + 10 * len(engraving)) + (not solid_gold) * (50 + 7 * len(engraving))\n",
       "    return cost\n",
       "\n",
       "```"
      ]
     },
     "metadata": {},
     "output_type": "display_data"
    }
   ],
   "source": [
    "# Uncomment to see a hint\n",
    "#q5.hint()\n",
    "\n",
    "# Uncomment to view the solution\n",
    "q5.solution()"
   ]
  },
  {
   "cell_type": "code",
   "execution_count": 13,
   "id": "ea01fbdb",
   "metadata": {
    "execution": {
     "iopub.execute_input": "2022-11-24T01:32:29.889181Z",
     "iopub.status.busy": "2022-11-24T01:32:29.888798Z",
     "iopub.status.idle": "2022-11-24T01:32:29.896873Z",
     "shell.execute_reply": "2022-11-24T01:32:29.895667Z"
    },
    "papermill": {
     "duration": 0.02176,
     "end_time": "2022-11-24T01:32:29.899726",
     "exception": false,
     "start_time": "2022-11-24T01:32:29.877966",
     "status": "completed"
    },
    "tags": []
   },
   "outputs": [
    {
     "data": {
      "application/javascript": [
       "parent.postMessage({\"jupyterEvent\": \"custom.exercise_interaction\", \"data\": {\"interactionType\": 3, \"questionType\": 2, \"questionId\": \"5_CustomEngravings\", \"learnToolsVersion\": \"0.3.4\", \"valueTowardsCompletion\": 0.0, \"failureMessage\": \"\", \"exceptionClass\": \"\", \"trace\": \"\", \"outcomeType\": 4}}, \"*\")"
      ],
      "text/plain": [
       "<IPython.core.display.Javascript object>"
      ]
     },
     "metadata": {},
     "output_type": "display_data"
    },
    {
     "data": {
      "text/markdown": [
       "<span style=\"color:#33cc99\">Solution:</span> \n",
       "```python\n",
       "def cost_of_project(engraving, solid_gold):\n",
       "    cost = solid_gold * (100 + 10 * len(engraving)) + (not solid_gold) * (50 + 7 * len(engraving))\n",
       "    return cost\n",
       "\n",
       "```"
      ],
      "text/plain": [
       "Solution: \n",
       "```python\n",
       "def cost_of_project(engraving, solid_gold):\n",
       "    cost = solid_gold * (100 + 10 * len(engraving)) + (not solid_gold) * (50 + 7 * len(engraving))\n",
       "    return cost\n",
       "\n",
       "```"
      ]
     },
     "metadata": {},
     "output_type": "display_data"
    }
   ],
   "source": [
    "# Uncomment to see a hint\n",
    "#q5.hint()\n",
    "\n",
    "# Uncomment to view the solution\n",
    "q5.solution()"
   ]
  },
  {
   "cell_type": "code",
   "execution_count": 14,
   "id": "cd2cf98d",
   "metadata": {
    "execution": {
     "iopub.execute_input": "2022-11-24T01:32:29.921230Z",
     "iopub.status.busy": "2022-11-24T01:32:29.920750Z",
     "iopub.status.idle": "2022-11-24T01:32:29.931442Z",
     "shell.execute_reply": "2022-11-24T01:32:29.930040Z"
    },
    "papermill": {
     "duration": 0.024357,
     "end_time": "2022-11-24T01:32:29.933913",
     "exception": false,
     "start_time": "2022-11-24T01:32:29.909556",
     "status": "completed"
    },
    "tags": []
   },
   "outputs": [
    {
     "data": {
      "application/javascript": [
       "parent.postMessage({\"jupyterEvent\": \"custom.exercise_interaction\", \"data\": {\"interactionType\": 3, \"questionType\": 2, \"questionId\": \"5_CustomEngravings\", \"learnToolsVersion\": \"0.3.4\", \"valueTowardsCompletion\": 0.0, \"failureMessage\": \"\", \"exceptionClass\": \"\", \"trace\": \"\", \"outcomeType\": 4}}, \"*\")"
      ],
      "text/plain": [
       "<IPython.core.display.Javascript object>"
      ]
     },
     "metadata": {},
     "output_type": "display_data"
    },
    {
     "data": {
      "text/markdown": [
       "<span style=\"color:#33cc99\">Solution:</span> \n",
       "```python\n",
       "def cost_of_project(engraving, solid_gold):\n",
       "    cost = solid_gold * (100 + 10 * len(engraving)) + (not solid_gold) * (50 + 7 * len(engraving))\n",
       "    return cost\n",
       "\n",
       "```"
      ],
      "text/plain": [
       "Solution: \n",
       "```python\n",
       "def cost_of_project(engraving, solid_gold):\n",
       "    cost = solid_gold * (100 + 10 * len(engraving)) + (not solid_gold) * (50 + 7 * len(engraving))\n",
       "    return cost\n",
       "\n",
       "```"
      ]
     },
     "metadata": {},
     "output_type": "display_data"
    }
   ],
   "source": [
    "# Uncomment to see a hint\n",
    "#q5.hint()\n",
    "\n",
    "# Uncomment to view the solution\n",
    "q5.solution()"
   ]
  },
  {
   "cell_type": "markdown",
   "id": "6c3b94b5",
   "metadata": {
    "papermill": {
     "duration": 0.009513,
     "end_time": "2022-11-24T01:32:29.953834",
     "exception": false,
     "start_time": "2022-11-24T01:32:29.944321",
     "status": "completed"
    },
    "tags": []
   },
   "source": [
    "Run the next code cell to calculate the cost of engraving `Charlie+Denver` on a solid gold ring."
   ]
  },
  {
   "cell_type": "code",
   "execution_count": 15,
   "id": "e08a08f6",
   "metadata": {
    "execution": {
     "iopub.execute_input": "2022-11-24T01:32:29.974261Z",
     "iopub.status.busy": "2022-11-24T01:32:29.973875Z",
     "iopub.status.idle": "2022-11-24T01:32:29.980417Z",
     "shell.execute_reply": "2022-11-24T01:32:29.978966Z"
    },
    "papermill": {
     "duration": 0.020286,
     "end_time": "2022-11-24T01:32:29.983396",
     "exception": false,
     "start_time": "2022-11-24T01:32:29.963110",
     "status": "completed"
    },
    "tags": []
   },
   "outputs": [
    {
     "name": "stdout",
     "output_type": "stream",
     "text": [
      "240\n"
     ]
    }
   ],
   "source": [
    "project_one = cost_of_project(\"Charlie+Denver\", True)\n",
    "print(project_one)"
   ]
  },
  {
   "cell_type": "markdown",
   "id": "9e450644",
   "metadata": {
    "papermill": {
     "duration": 0.009134,
     "end_time": "2022-11-24T01:32:30.002003",
     "exception": false,
     "start_time": "2022-11-24T01:32:29.992869",
     "status": "completed"
    },
    "tags": []
   },
   "source": [
    "Use the next code cell to calculate the cost of engraving `08/10/2000` on a gold plated ring."
   ]
  },
  {
   "cell_type": "code",
   "execution_count": 16,
   "id": "863c02be",
   "metadata": {
    "execution": {
     "iopub.execute_input": "2022-11-24T01:32:30.022490Z",
     "iopub.status.busy": "2022-11-24T01:32:30.022104Z",
     "iopub.status.idle": "2022-11-24T01:32:30.028583Z",
     "shell.execute_reply": "2022-11-24T01:32:30.027127Z"
    },
    "papermill": {
     "duration": 0.02016,
     "end_time": "2022-11-24T01:32:30.031494",
     "exception": false,
     "start_time": "2022-11-24T01:32:30.011334",
     "status": "completed"
    },
    "tags": []
   },
   "outputs": [
    {
     "name": "stdout",
     "output_type": "stream",
     "text": [
      "120\n"
     ]
    }
   ],
   "source": [
    "project_two = cost_of_project(\"08/10/2000\", False)\n",
    "print(project_two)"
   ]
  },
  {
   "cell_type": "markdown",
   "id": "912567bc",
   "metadata": {
    "papermill": {
     "duration": 0.010044,
     "end_time": "2022-11-24T01:32:30.052031",
     "exception": false,
     "start_time": "2022-11-24T01:32:30.041987",
     "status": "completed"
    },
    "tags": []
   },
   "source": [
    "# Keep going\n",
    "\n",
    "Continue to the next lesson to **[learn about conditions and conditional statements](https://www.kaggle.com/alexisbcook/conditions-and-conditional-statements)**."
   ]
  },
  {
   "cell_type": "markdown",
   "id": "8fbf0fe6",
   "metadata": {
    "papermill": {
     "duration": 0.009557,
     "end_time": "2022-11-24T01:32:30.072224",
     "exception": false,
     "start_time": "2022-11-24T01:32:30.062667",
     "status": "completed"
    },
    "tags": []
   },
   "source": [
    "---\n",
    "\n",
    "\n",
    "\n",
    "\n",
    "*Have questions or comments? Visit the [course discussion forum](https://www.kaggle.com/learn/intro-to-programming/discussion) to chat with other learners.*"
   ]
  }
 ],
 "metadata": {
  "kernelspec": {
   "display_name": "Python 3",
   "language": "python",
   "name": "python3"
  },
  "language_info": {
   "codemirror_mode": {
    "name": "ipython",
    "version": 3
   },
   "file_extension": ".py",
   "mimetype": "text/x-python",
   "name": "python",
   "nbconvert_exporter": "python",
   "pygments_lexer": "ipython3",
   "version": "3.7.12"
  },
  "papermill": {
   "default_parameters": {},
   "duration": 11.205099,
   "end_time": "2022-11-24T01:32:31.007421",
   "environment_variables": {},
   "exception": null,
   "input_path": "__notebook__.ipynb",
   "output_path": "__notebook__.ipynb",
   "parameters": {},
   "start_time": "2022-11-24T01:32:19.802322",
   "version": "2.3.4"
  }
 },
 "nbformat": 4,
 "nbformat_minor": 5
}
