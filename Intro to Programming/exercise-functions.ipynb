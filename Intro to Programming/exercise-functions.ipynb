{
 "cells": [
  {
   "cell_type": "markdown",
   "id": "a3155af0",
   "metadata": {
    "papermill": {
     "duration": 0.005696,
     "end_time": "2022-11-24T01:31:46.822662",
     "exception": false,
     "start_time": "2022-11-24T01:31:46.816966",
     "status": "completed"
    },
    "tags": []
   },
   "source": [
    "**This notebook is an exercise in the [Intro to Programming](https://www.kaggle.com/learn/intro-to-programming) course.  You can reference the tutorial at [this link](https://www.kaggle.com/alexisbcook/functions).**\n",
    "\n",
    "---\n"
   ]
  },
  {
   "cell_type": "markdown",
   "id": "71dae13a",
   "metadata": {
    "papermill": {
     "duration": 0.004566,
     "end_time": "2022-11-24T01:31:46.832202",
     "exception": false,
     "start_time": "2022-11-24T01:31:46.827636",
     "status": "completed"
    },
    "tags": []
   },
   "source": [
    "In the tutorial, you learned about functions. In this exercise, you'll write some of your own!\n",
    "\n",
    "# Set up the notebook\n",
    "\n",
    "Run the next code cell without changes to set up the notebook."
   ]
  },
  {
   "cell_type": "code",
   "execution_count": 1,
   "id": "34e20ebb",
   "metadata": {
    "execution": {
     "iopub.execute_input": "2022-11-24T01:31:46.844087Z",
     "iopub.status.busy": "2022-11-24T01:31:46.843293Z",
     "iopub.status.idle": "2022-11-24T01:31:46.898497Z",
     "shell.execute_reply": "2022-11-24T01:31:46.897208Z"
    },
    "papermill": {
     "duration": 0.063818,
     "end_time": "2022-11-24T01:31:46.900796",
     "exception": false,
     "start_time": "2022-11-24T01:31:46.836978",
     "status": "completed"
    },
    "tags": []
   },
   "outputs": [
    {
     "name": "stdout",
     "output_type": "stream",
     "text": [
      "Setup complete.\n"
     ]
    }
   ],
   "source": [
    "# Set up the exercise\n",
    "import math\n",
    "from learntools.core import binder\n",
    "binder.bind(globals())\n",
    "from learntools.intro_to_programming.ex2 import *\n",
    "print('Setup complete.')"
   ]
  },
  {
   "cell_type": "markdown",
   "id": "26e8c8d4",
   "metadata": {
    "papermill": {
     "duration": 0.004734,
     "end_time": "2022-11-24T01:31:46.910687",
     "exception": false,
     "start_time": "2022-11-24T01:31:46.905953",
     "status": "completed"
    },
    "tags": []
   },
   "source": [
    "# Question 1\n",
    "\n",
    "In the [House Prices - Advanced Regression Techniques competition](https://www.kaggle.com/c/house-prices-advanced-regression-techniques/overview), you need to use information like the number of bedrooms and bathrooms to predict the price of a house.  Inspired by this competition, you'll write your own function to do this.\n",
    "\n",
    "In the next code cell, create a function `get_expected_cost()` that has two arguments:\n",
    "- `beds` - number of bedrooms \n",
    "- `baths` - number of bathrooms\n",
    "\n",
    "It should return the expected cost of a house with that number of bedrooms and bathrooms.  Assume that:\n",
    "- the expected cost for a house with 0 bedrooms and 0 bathrooms is `80000`.  \n",
    "- each bedroom adds `30000` to the expected cost\n",
    "- each bathroom adds `10000` to the expected cost.\n",
    "\n",
    "For instance, \n",
    "- a house with 1 bedroom and 1 bathroom has an expected cost of `120000`, and \n",
    "- a house with 2 bedrooms and 1 bathroom has an expected cost of `150000`."
   ]
  },
  {
   "cell_type": "code",
   "execution_count": 2,
   "id": "a006a2a2",
   "metadata": {
    "execution": {
     "iopub.execute_input": "2022-11-24T01:31:46.922437Z",
     "iopub.status.busy": "2022-11-24T01:31:46.921811Z",
     "iopub.status.idle": "2022-11-24T01:31:46.931689Z",
     "shell.execute_reply": "2022-11-24T01:31:46.930599Z"
    },
    "papermill": {
     "duration": 0.018134,
     "end_time": "2022-11-24T01:31:46.933753",
     "exception": false,
     "start_time": "2022-11-24T01:31:46.915619",
     "status": "completed"
    },
    "tags": []
   },
   "outputs": [
    {
     "data": {
      "application/javascript": [
       "parent.postMessage({\"jupyterEvent\": \"custom.exercise_interaction\", \"data\": {\"outcomeType\": 1, \"valueTowardsCompletion\": 0.2, \"interactionType\": 1, \"questionType\": 2, \"questionId\": \"1_GetExpectedCost\", \"learnToolsVersion\": \"0.3.4\", \"failureMessage\": \"\", \"exceptionClass\": \"\", \"trace\": \"\"}}, \"*\")"
      ],
      "text/plain": [
       "<IPython.core.display.Javascript object>"
      ]
     },
     "metadata": {},
     "output_type": "display_data"
    },
    {
     "data": {
      "text/markdown": [
       "<span style=\"color:#33cc33\">Correct</span>"
      ],
      "text/plain": [
       "Correct"
      ]
     },
     "metadata": {},
     "output_type": "display_data"
    }
   ],
   "source": [
    "# TODO: Complete the function\n",
    "def get_expected_cost(beds, baths):\n",
    "    value = 80000 + 30000 * beds + 10000 * baths\n",
    "    return value\n",
    "\n",
    "# Check your answer \n",
    "q1.check()"
   ]
  },
  {
   "cell_type": "code",
   "execution_count": 3,
   "id": "9e186e4a",
   "metadata": {
    "execution": {
     "iopub.execute_input": "2022-11-24T01:31:46.945281Z",
     "iopub.status.busy": "2022-11-24T01:31:46.944955Z",
     "iopub.status.idle": "2022-11-24T01:31:46.953375Z",
     "shell.execute_reply": "2022-11-24T01:31:46.952455Z"
    },
    "papermill": {
     "duration": 0.016472,
     "end_time": "2022-11-24T01:31:46.955416",
     "exception": false,
     "start_time": "2022-11-24T01:31:46.938944",
     "status": "completed"
    },
    "tags": []
   },
   "outputs": [
    {
     "data": {
      "application/javascript": [
       "parent.postMessage({\"jupyterEvent\": \"custom.exercise_interaction\", \"data\": {\"interactionType\": 3, \"questionType\": 2, \"questionId\": \"1_GetExpectedCost\", \"learnToolsVersion\": \"0.3.4\", \"valueTowardsCompletion\": 0.0, \"failureMessage\": \"\", \"exceptionClass\": \"\", \"trace\": \"\", \"outcomeType\": 4}}, \"*\")"
      ],
      "text/plain": [
       "<IPython.core.display.Javascript object>"
      ]
     },
     "metadata": {},
     "output_type": "display_data"
    },
    {
     "data": {
      "text/markdown": [
       "<span style=\"color:#33cc99\">Solution:</span> \n",
       "```python\n",
       "\n",
       "def get_expected_cost(beds, baths):\n",
       "    value = 80000 + 30000 * beds + 10000 * baths\n",
       "    return value\n",
       "\n",
       "```"
      ],
      "text/plain": [
       "Solution: \n",
       "```python\n",
       "\n",
       "def get_expected_cost(beds, baths):\n",
       "    value = 80000 + 30000 * beds + 10000 * baths\n",
       "    return value\n",
       "\n",
       "```"
      ]
     },
     "metadata": {},
     "output_type": "display_data"
    }
   ],
   "source": [
    "# Uncomment to see a hint\n",
    "#q1.hint()\n",
    "\n",
    "# Uncomment to view the solution\n",
    "q1.solution()"
   ]
  },
  {
   "cell_type": "markdown",
   "id": "6c3eb47f",
   "metadata": {
    "papermill": {
     "duration": 0.00492,
     "end_time": "2022-11-24T01:31:46.965682",
     "exception": false,
     "start_time": "2022-11-24T01:31:46.960762",
     "status": "completed"
    },
    "tags": []
   },
   "source": [
    "# Question 2\n",
    "\n",
    "You are thinking about buying a home and want to get an idea of how much you will spend, based on the number of bedrooms and bathrooms.  You are trying to decide between four different options:\n",
    "- Option 1: house with two bedrooms and three bathrooms\n",
    "- Option 2: house with three bedrooms and two bathrooms\n",
    "- Option 3: house with three bedrooms and three bathrooms\n",
    "- Option 4: house with three bedrooms and four bathrooms\n",
    "\n",
    "Use the `get_expected_cost()` function you defined in question 1 to set `option_1`, `option_2`, `option_3`, and `option_4` to the expected cost of each option."
   ]
  },
  {
   "cell_type": "code",
   "execution_count": 4,
   "id": "975dffd6",
   "metadata": {
    "execution": {
     "iopub.execute_input": "2022-11-24T01:31:46.978855Z",
     "iopub.status.busy": "2022-11-24T01:31:46.978301Z",
     "iopub.status.idle": "2022-11-24T01:31:46.986044Z",
     "shell.execute_reply": "2022-11-24T01:31:46.985310Z"
    },
    "papermill": {
     "duration": 0.016753,
     "end_time": "2022-11-24T01:31:46.987601",
     "exception": false,
     "start_time": "2022-11-24T01:31:46.970848",
     "status": "completed"
    },
    "tags": []
   },
   "outputs": [
    {
     "name": "stdout",
     "output_type": "stream",
     "text": [
      "170000\n",
      "190000\n",
      "200000\n",
      "210000\n"
     ]
    },
    {
     "data": {
      "application/javascript": [
       "parent.postMessage({\"jupyterEvent\": \"custom.exercise_interaction\", \"data\": {\"outcomeType\": 1, \"valueTowardsCompletion\": 0.2, \"interactionType\": 1, \"questionType\": 1, \"questionId\": \"2_RunGetExpectedCost\", \"learnToolsVersion\": \"0.3.4\", \"failureMessage\": \"\", \"exceptionClass\": \"\", \"trace\": \"\"}}, \"*\")"
      ],
      "text/plain": [
       "<IPython.core.display.Javascript object>"
      ]
     },
     "metadata": {},
     "output_type": "display_data"
    },
    {
     "data": {
      "text/markdown": [
       "<span style=\"color:#33cc33\">Correct</span>"
      ],
      "text/plain": [
       "Correct"
      ]
     },
     "metadata": {},
     "output_type": "display_data"
    }
   ],
   "source": [
    "# TODO: Use the get_expected_cost function to fill in each value\n",
    "option_one = get_expected_cost(2, 3)\n",
    "option_two = get_expected_cost(3, 2)\n",
    "option_three = get_expected_cost(3, 3)\n",
    "option_four = get_expected_cost(3, 4)\n",
    "\n",
    "print(option_one)\n",
    "print(option_two)\n",
    "print(option_three)\n",
    "print(option_four)\n",
    "\n",
    "# Check your answer\n",
    "q2.check()"
   ]
  },
  {
   "cell_type": "code",
   "execution_count": 5,
   "id": "6a5a0094",
   "metadata": {
    "execution": {
     "iopub.execute_input": "2022-11-24T01:31:47.000400Z",
     "iopub.status.busy": "2022-11-24T01:31:46.999777Z",
     "iopub.status.idle": "2022-11-24T01:31:47.006364Z",
     "shell.execute_reply": "2022-11-24T01:31:47.005531Z"
    },
    "papermill": {
     "duration": 0.015133,
     "end_time": "2022-11-24T01:31:47.008149",
     "exception": false,
     "start_time": "2022-11-24T01:31:46.993016",
     "status": "completed"
    },
    "tags": []
   },
   "outputs": [
    {
     "data": {
      "application/javascript": [
       "parent.postMessage({\"jupyterEvent\": \"custom.exercise_interaction\", \"data\": {\"interactionType\": 3, \"questionType\": 1, \"questionId\": \"2_RunGetExpectedCost\", \"learnToolsVersion\": \"0.3.4\", \"valueTowardsCompletion\": 0.0, \"failureMessage\": \"\", \"exceptionClass\": \"\", \"trace\": \"\", \"outcomeType\": 4}}, \"*\")"
      ],
      "text/plain": [
       "<IPython.core.display.Javascript object>"
      ]
     },
     "metadata": {},
     "output_type": "display_data"
    },
    {
     "data": {
      "text/markdown": [
       "<span style=\"color:#33cc99\">Solution:</span> \n",
       "```python\n",
       "# Use the get_expected_cost function to fill in each value\n",
       "option_one = get_expected_cost(2, 3)\n",
       "option_two = get_expected_cost(3, 2)\n",
       "option_three = get_expected_cost(3, 3)\n",
       "option_four = get_expected_cost(3, 4)\n",
       "\n",
       "```"
      ],
      "text/plain": [
       "Solution: \n",
       "```python\n",
       "# Use the get_expected_cost function to fill in each value\n",
       "option_one = get_expected_cost(2, 3)\n",
       "option_two = get_expected_cost(3, 2)\n",
       "option_three = get_expected_cost(3, 3)\n",
       "option_four = get_expected_cost(3, 4)\n",
       "\n",
       "```"
      ]
     },
     "metadata": {},
     "output_type": "display_data"
    }
   ],
   "source": [
    "# Uncomment to see a hint\n",
    "#q2.hint()\n",
    "\n",
    "# Uncomment to view the solution\n",
    "q2.solution()"
   ]
  },
  {
   "cell_type": "markdown",
   "id": "7c8827cc",
   "metadata": {
    "papermill": {
     "duration": 0.005724,
     "end_time": "2022-11-24T01:31:47.020123",
     "exception": false,
     "start_time": "2022-11-24T01:31:47.014399",
     "status": "completed"
    },
    "tags": []
   },
   "source": [
    "# Question 3\n",
    "\n",
    "You're a home decorator, and you'd like to use Python to streamline some of your work.  Specifically, you're creating a tool that you intend to use to calculate the cost of painting a room.\n",
    "\n",
    "As a first step, define a function `get_cost()` that takes as input:\n",
    "- `sqft_walls` = total square feet of walls to be painted\n",
    "- `sqft_ceiling` = square feet of ceiling to be painted\n",
    "- `sqft_per_gallon` = number of square feet that you can cover with one gallon of paint\n",
    "- `cost_per_gallon` = cost (in dollars) of one gallon of paint\n",
    "\n",
    "It should return the cost (in dollars) of putting one coat of paint on all walls and the ceiling.  Assume you can buy the exact amount of paint that you need, so you can buy partial gallons (e.g., if you need 7.523 gallons, you can buy that exact amount, instead of needing to buy 8 gallons and waste some paint).  Do not round your answer."
   ]
  },
  {
   "cell_type": "code",
   "execution_count": 6,
   "id": "f4b55015",
   "metadata": {
    "execution": {
     "iopub.execute_input": "2022-11-24T01:31:47.033448Z",
     "iopub.status.busy": "2022-11-24T01:31:47.033136Z",
     "iopub.status.idle": "2022-11-24T01:31:47.041108Z",
     "shell.execute_reply": "2022-11-24T01:31:47.040214Z"
    },
    "papermill": {
     "duration": 0.016945,
     "end_time": "2022-11-24T01:31:47.043005",
     "exception": false,
     "start_time": "2022-11-24T01:31:47.026060",
     "status": "completed"
    },
    "tags": []
   },
   "outputs": [
    {
     "data": {
      "application/javascript": [
       "parent.postMessage({\"jupyterEvent\": \"custom.exercise_interaction\", \"data\": {\"outcomeType\": 1, \"valueTowardsCompletion\": 0.2, \"interactionType\": 1, \"questionType\": 2, \"questionId\": \"3_GetCostPaint\", \"learnToolsVersion\": \"0.3.4\", \"failureMessage\": \"\", \"exceptionClass\": \"\", \"trace\": \"\"}}, \"*\")"
      ],
      "text/plain": [
       "<IPython.core.display.Javascript object>"
      ]
     },
     "metadata": {},
     "output_type": "display_data"
    },
    {
     "data": {
      "text/markdown": [
       "<span style=\"color:#33cc33\">Correct</span>"
      ],
      "text/plain": [
       "Correct"
      ]
     },
     "metadata": {},
     "output_type": "display_data"
    }
   ],
   "source": [
    "# TODO: Finish defining the function\n",
    "def get_cost(sqft_walls, sqft_ceiling, sqft_per_gallon, cost_per_gallon):\n",
    "    total_sqft = sqft_walls + sqft_ceiling\n",
    "    gallons_needed = total_sqft / sqft_per_gallon\n",
    "    cost = cost_per_gallon * gallons_needed\n",
    "    return cost\n",
    "\n",
    "# Check your answer\n",
    "q3.check()"
   ]
  },
  {
   "cell_type": "code",
   "execution_count": 7,
   "id": "a1dcb0a4",
   "metadata": {
    "execution": {
     "iopub.execute_input": "2022-11-24T01:31:47.057138Z",
     "iopub.status.busy": "2022-11-24T01:31:47.056090Z",
     "iopub.status.idle": "2022-11-24T01:31:47.064987Z",
     "shell.execute_reply": "2022-11-24T01:31:47.064317Z"
    },
    "papermill": {
     "duration": 0.018342,
     "end_time": "2022-11-24T01:31:47.067370",
     "exception": false,
     "start_time": "2022-11-24T01:31:47.049028",
     "status": "completed"
    },
    "tags": []
   },
   "outputs": [
    {
     "data": {
      "application/javascript": [
       "parent.postMessage({\"jupyterEvent\": \"custom.exercise_interaction\", \"data\": {\"interactionType\": 3, \"questionType\": 2, \"questionId\": \"3_GetCostPaint\", \"learnToolsVersion\": \"0.3.4\", \"valueTowardsCompletion\": 0.0, \"failureMessage\": \"\", \"exceptionClass\": \"\", \"trace\": \"\", \"outcomeType\": 4}}, \"*\")"
      ],
      "text/plain": [
       "<IPython.core.display.Javascript object>"
      ]
     },
     "metadata": {},
     "output_type": "display_data"
    },
    {
     "data": {
      "text/markdown": [
       "<span style=\"color:#33cc99\">Solution:</span> \n",
       "```python\n",
       "\n",
       "def get_cost(sqft_walls, sqft_ceiling, sqft_per_gallon, cost_per_gallon):\n",
       "    total_sqft = sqft_walls + sqft_ceiling\n",
       "    gallons_needed = total_sqft / sqft_per_gallon\n",
       "    cost = cost_per_gallon * gallons_needed\n",
       "    return cost\n",
       "\n",
       "```"
      ],
      "text/plain": [
       "Solution: \n",
       "```python\n",
       "\n",
       "def get_cost(sqft_walls, sqft_ceiling, sqft_per_gallon, cost_per_gallon):\n",
       "    total_sqft = sqft_walls + sqft_ceiling\n",
       "    gallons_needed = total_sqft / sqft_per_gallon\n",
       "    cost = cost_per_gallon * gallons_needed\n",
       "    return cost\n",
       "\n",
       "```"
      ]
     },
     "metadata": {},
     "output_type": "display_data"
    }
   ],
   "source": [
    "# Uncomment to see a hint\n",
    "#q3.hint()\n",
    "\n",
    "# Uncomment to view the solution\n",
    "q3.solution()"
   ]
  },
  {
   "cell_type": "markdown",
   "id": "eb1d006f",
   "metadata": {
    "papermill": {
     "duration": 0.006201,
     "end_time": "2022-11-24T01:31:47.081062",
     "exception": false,
     "start_time": "2022-11-24T01:31:47.074861",
     "status": "completed"
    },
    "tags": []
   },
   "source": [
    "# Question 4\n",
    "\n",
    "Use the `get_cost()` function you defined in Question 3 to calculate the cost of applying one coat of paint to a room with:\n",
    "- 432 square feet of walls, and\n",
    "- 144 square feet of ceiling.\n",
    "\n",
    "Assume that one gallon of paint covers 400 square feet and costs $15.  As in Question 3, assume you can buy partial gallons of paint.  Do not round your answer."
   ]
  },
  {
   "cell_type": "code",
   "execution_count": 8,
   "id": "dcadc4e5",
   "metadata": {
    "execution": {
     "iopub.execute_input": "2022-11-24T01:31:47.096500Z",
     "iopub.status.busy": "2022-11-24T01:31:47.096143Z",
     "iopub.status.idle": "2022-11-24T01:31:47.104568Z",
     "shell.execute_reply": "2022-11-24T01:31:47.102742Z"
    },
    "papermill": {
     "duration": 0.01894,
     "end_time": "2022-11-24T01:31:47.107067",
     "exception": false,
     "start_time": "2022-11-24T01:31:47.088127",
     "status": "completed"
    },
    "tags": []
   },
   "outputs": [
    {
     "data": {
      "application/javascript": [
       "parent.postMessage({\"jupyterEvent\": \"custom.exercise_interaction\", \"data\": {\"outcomeType\": 1, \"valueTowardsCompletion\": 0.2, \"interactionType\": 1, \"questionType\": 1, \"questionId\": \"4_GetCostPaintExample\", \"learnToolsVersion\": \"0.3.4\", \"failureMessage\": \"\", \"exceptionClass\": \"\", \"trace\": \"\"}}, \"*\")"
      ],
      "text/plain": [
       "<IPython.core.display.Javascript object>"
      ]
     },
     "metadata": {},
     "output_type": "display_data"
    },
    {
     "data": {
      "text/markdown": [
       "<span style=\"color:#33cc33\">Correct</span>"
      ],
      "text/plain": [
       "Correct"
      ]
     },
     "metadata": {},
     "output_type": "display_data"
    }
   ],
   "source": [
    "# TODO: Set the project_cost variable to the cost of the project\n",
    "project_cost = (432 + 144) / 400 * 15\n",
    "\n",
    "# Check your answer\n",
    "q4.check()"
   ]
  },
  {
   "cell_type": "code",
   "execution_count": 9,
   "id": "a5c74d9d",
   "metadata": {
    "execution": {
     "iopub.execute_input": "2022-11-24T01:31:47.123434Z",
     "iopub.status.busy": "2022-11-24T01:31:47.122969Z",
     "iopub.status.idle": "2022-11-24T01:31:47.125760Z",
     "shell.execute_reply": "2022-11-24T01:31:47.125230Z"
    },
    "papermill": {
     "duration": 0.013521,
     "end_time": "2022-11-24T01:31:47.127850",
     "exception": false,
     "start_time": "2022-11-24T01:31:47.114329",
     "status": "completed"
    },
    "tags": []
   },
   "outputs": [],
   "source": [
    "# Uncomment to see a hint\n",
    "#q4.hint()\n",
    "\n",
    "# Uncomment to view the solution\n",
    "#q4.solution()"
   ]
  },
  {
   "cell_type": "markdown",
   "id": "e88b006a",
   "metadata": {
    "papermill": {
     "duration": 0.006166,
     "end_time": "2022-11-24T01:31:47.140792",
     "exception": false,
     "start_time": "2022-11-24T01:31:47.134626",
     "status": "completed"
    },
    "tags": []
   },
   "source": [
    "# 🌶️ Question 5\n",
    "\n",
    "Now say you can no longer buy fractions of a gallon.  (For instance, if you need 4.3 gallons to do a project, then you have to buy 5 gallons of paint.)\n",
    "\n",
    "With this new scenario, you will create a new function `get_actual_cost` that uses the same inputs and calculates the cost of your project.\n",
    "\n",
    "One function that you'll need to use to do this is `math.ceil()`.  We demonstrate usage of this function in the code cell below.  It takes as a number as input and rounds the number up to the nearest integer.  \n",
    "\n",
    "Run the next code cell to test this function for yourself.  Feel free to change the value of `test_value` and make sure `math.ceil()` returns the number you expect."
   ]
  },
  {
   "cell_type": "code",
   "execution_count": 10,
   "id": "f7d33624",
   "metadata": {
    "execution": {
     "iopub.execute_input": "2022-11-24T01:31:47.156197Z",
     "iopub.status.busy": "2022-11-24T01:31:47.155403Z",
     "iopub.status.idle": "2022-11-24T01:31:47.159568Z",
     "shell.execute_reply": "2022-11-24T01:31:47.159002Z"
    },
    "papermill": {
     "duration": 0.014075,
     "end_time": "2022-11-24T01:31:47.161544",
     "exception": false,
     "start_time": "2022-11-24T01:31:47.147469",
     "status": "completed"
    },
    "tags": []
   },
   "outputs": [
    {
     "name": "stdout",
     "output_type": "stream",
     "text": [
      "3\n"
     ]
    }
   ],
   "source": [
    "test_value = 2.17\n",
    "\n",
    "rounded_value = math.ceil(test_value)\n",
    "print(rounded_value)"
   ]
  },
  {
   "cell_type": "markdown",
   "id": "0c2b4c52",
   "metadata": {
    "papermill": {
     "duration": 0.005854,
     "end_time": "2022-11-24T01:31:47.173844",
     "exception": false,
     "start_time": "2022-11-24T01:31:47.167990",
     "status": "completed"
    },
    "tags": []
   },
   "source": [
    "Use the next code cell to define the function `get_actual_cost()`.  You'll need to use the `math.ceil()` function to do this.\n",
    "\n",
    "When answering this question, note that it's completely valid to define a function that makes use of another function.  For instance, we can define a function `round_up_and_divide_by_three` that makes use of the `math.ceil` function:\n",
    "```\n",
    "def round_up_and_divide_by_three(num):\n",
    "    new_value = math.ceil(num)\n",
    "    final_value = new_value / 3\n",
    "    return final_value\n",
    "```"
   ]
  },
  {
   "cell_type": "code",
   "execution_count": 11,
   "id": "7778c248",
   "metadata": {
    "execution": {
     "iopub.execute_input": "2022-11-24T01:31:47.190493Z",
     "iopub.status.busy": "2022-11-24T01:31:47.189652Z",
     "iopub.status.idle": "2022-11-24T01:31:47.199579Z",
     "shell.execute_reply": "2022-11-24T01:31:47.198564Z"
    },
    "papermill": {
     "duration": 0.020769,
     "end_time": "2022-11-24T01:31:47.201921",
     "exception": false,
     "start_time": "2022-11-24T01:31:47.181152",
     "status": "completed"
    },
    "tags": []
   },
   "outputs": [
    {
     "data": {
      "application/javascript": [
       "parent.postMessage({\"jupyterEvent\": \"custom.exercise_interaction\", \"data\": {\"outcomeType\": 1, \"valueTowardsCompletion\": 0.2, \"interactionType\": 1, \"questionType\": 2, \"questionId\": \"5_NoMoreFractions\", \"learnToolsVersion\": \"0.3.4\", \"failureMessage\": \"\", \"exceptionClass\": \"\", \"trace\": \"\"}}, \"*\")"
      ],
      "text/plain": [
       "<IPython.core.display.Javascript object>"
      ]
     },
     "metadata": {},
     "output_type": "display_data"
    },
    {
     "data": {
      "text/markdown": [
       "<span style=\"color:#33cc33\">Correct</span>"
      ],
      "text/plain": [
       "Correct"
      ]
     },
     "metadata": {},
     "output_type": "display_data"
    }
   ],
   "source": [
    "def get_actual_cost(sqft_walls, sqft_ceiling, sqft_per_gallon, cost_per_gallon):\n",
    "    total_sqft = sqft_walls + sqft_ceiling\n",
    "    gallons_needed = total_sqft / sqft_per_gallon\n",
    "    gallons_to_buy = math.ceil(gallons_needed)\n",
    "    cost = cost_per_gallon * gallons_to_buy\n",
    "    return cost\n",
    "\n",
    "# Check your answer\n",
    "q5.check()"
   ]
  },
  {
   "cell_type": "code",
   "execution_count": 12,
   "id": "fa38058f",
   "metadata": {
    "execution": {
     "iopub.execute_input": "2022-11-24T01:31:47.217761Z",
     "iopub.status.busy": "2022-11-24T01:31:47.217284Z",
     "iopub.status.idle": "2022-11-24T01:31:47.226187Z",
     "shell.execute_reply": "2022-11-24T01:31:47.225308Z"
    },
    "papermill": {
     "duration": 0.018864,
     "end_time": "2022-11-24T01:31:47.227935",
     "exception": false,
     "start_time": "2022-11-24T01:31:47.209071",
     "status": "completed"
    },
    "tags": []
   },
   "outputs": [
    {
     "data": {
      "application/javascript": [
       "parent.postMessage({\"jupyterEvent\": \"custom.exercise_interaction\", \"data\": {\"interactionType\": 3, \"questionType\": 2, \"questionId\": \"5_NoMoreFractions\", \"learnToolsVersion\": \"0.3.4\", \"valueTowardsCompletion\": 0.0, \"failureMessage\": \"\", \"exceptionClass\": \"\", \"trace\": \"\", \"outcomeType\": 4}}, \"*\")"
      ],
      "text/plain": [
       "<IPython.core.display.Javascript object>"
      ]
     },
     "metadata": {},
     "output_type": "display_data"
    },
    {
     "data": {
      "text/markdown": [
       "<span style=\"color:#33cc99\">Solution:</span> \n",
       "```python\n",
       "def get_actual_cost(sqft_walls, sqft_ceiling, sqft_per_gallon, cost_per_gallon):\n",
       "    total_sqft = sqft_walls + sqft_ceiling\n",
       "    gallons_needed = total_sqft / sqft_per_gallon\n",
       "    gallons_to_buy = math.ceil(gallons_needed)\n",
       "    cost = cost_per_gallon * gallons_to_buy\n",
       "    return cost\n",
       "\n",
       "```"
      ],
      "text/plain": [
       "Solution: \n",
       "```python\n",
       "def get_actual_cost(sqft_walls, sqft_ceiling, sqft_per_gallon, cost_per_gallon):\n",
       "    total_sqft = sqft_walls + sqft_ceiling\n",
       "    gallons_needed = total_sqft / sqft_per_gallon\n",
       "    gallons_to_buy = math.ceil(gallons_needed)\n",
       "    cost = cost_per_gallon * gallons_to_buy\n",
       "    return cost\n",
       "\n",
       "```"
      ]
     },
     "metadata": {},
     "output_type": "display_data"
    }
   ],
   "source": [
    "# Uncomment to see a hint\n",
    "#q5.hint()\n",
    "\n",
    "# Uncomment to view the solution\n",
    "q5.solution()"
   ]
  },
  {
   "cell_type": "markdown",
   "id": "bb18ce3e",
   "metadata": {
    "papermill": {
     "duration": 0.007651,
     "end_time": "2022-11-24T01:31:47.242595",
     "exception": false,
     "start_time": "2022-11-24T01:31:47.234944",
     "status": "completed"
    },
    "tags": []
   },
   "source": [
    "Once your function is verified as correct, run the next code cell to calculate the updated cost of your project."
   ]
  },
  {
   "cell_type": "code",
   "execution_count": 13,
   "id": "11ad2da3",
   "metadata": {
    "execution": {
     "iopub.execute_input": "2022-11-24T01:31:47.257303Z",
     "iopub.status.busy": "2022-11-24T01:31:47.256993Z",
     "iopub.status.idle": "2022-11-24T01:31:47.263423Z",
     "shell.execute_reply": "2022-11-24T01:31:47.262377Z"
    },
    "papermill": {
     "duration": 0.015753,
     "end_time": "2022-11-24T01:31:47.265051",
     "exception": false,
     "start_time": "2022-11-24T01:31:47.249298",
     "status": "completed"
    },
    "tags": []
   },
   "outputs": [
    {
     "data": {
      "text/plain": [
       "30"
      ]
     },
     "execution_count": 13,
     "metadata": {},
     "output_type": "execute_result"
    }
   ],
   "source": [
    "get_actual_cost(432, 144, 400, 15) "
   ]
  },
  {
   "cell_type": "markdown",
   "id": "2dffbfac",
   "metadata": {
    "papermill": {
     "duration": 0.00669,
     "end_time": "2022-11-24T01:31:47.278672",
     "exception": false,
     "start_time": "2022-11-24T01:31:47.271982",
     "status": "completed"
    },
    "tags": []
   },
   "source": [
    "Say you're working with a slightly larger room.  Run the next code cell to calculate the cost of the project."
   ]
  },
  {
   "cell_type": "code",
   "execution_count": 14,
   "id": "ae73575c",
   "metadata": {
    "execution": {
     "iopub.execute_input": "2022-11-24T01:31:47.293771Z",
     "iopub.status.busy": "2022-11-24T01:31:47.293479Z",
     "iopub.status.idle": "2022-11-24T01:31:47.299988Z",
     "shell.execute_reply": "2022-11-24T01:31:47.299002Z"
    },
    "papermill": {
     "duration": 0.016291,
     "end_time": "2022-11-24T01:31:47.301809",
     "exception": false,
     "start_time": "2022-11-24T01:31:47.285518",
     "status": "completed"
    },
    "tags": []
   },
   "outputs": [
    {
     "data": {
      "text/plain": [
       "45"
      ]
     },
     "execution_count": 14,
     "metadata": {},
     "output_type": "execute_result"
    }
   ],
   "source": [
    "get_actual_cost(594, 288, 400, 15) "
   ]
  },
  {
   "cell_type": "markdown",
   "id": "c55a9f42",
   "metadata": {
    "papermill": {
     "duration": 0.006603,
     "end_time": "2022-11-24T01:31:47.315416",
     "exception": false,
     "start_time": "2022-11-24T01:31:47.308813",
     "status": "completed"
    },
    "tags": []
   },
   "source": [
    "# Keep going\n",
    "\n",
    "Continue to learn about **[data types](https://www.kaggle.com/alexisbcook/data-types)**."
   ]
  },
  {
   "cell_type": "markdown",
   "id": "688cdbb0",
   "metadata": {
    "papermill": {
     "duration": 0.0065,
     "end_time": "2022-11-24T01:31:47.328675",
     "exception": false,
     "start_time": "2022-11-24T01:31:47.322175",
     "status": "completed"
    },
    "tags": []
   },
   "source": [
    "---\n",
    "\n",
    "\n",
    "\n",
    "\n",
    "*Have questions or comments? Visit the [course discussion forum](https://www.kaggle.com/learn/intro-to-programming/discussion) to chat with other learners.*"
   ]
  }
 ],
 "metadata": {
  "kernelspec": {
   "display_name": "Python 3",
   "language": "python",
   "name": "python3"
  },
  "language_info": {
   "codemirror_mode": {
    "name": "ipython",
    "version": 3
   },
   "file_extension": ".py",
   "mimetype": "text/x-python",
   "name": "python",
   "nbconvert_exporter": "python",
   "pygments_lexer": "ipython3",
   "version": "3.7.12"
  },
  "papermill": {
   "default_parameters": {},
   "duration": 7.967736,
   "end_time": "2022-11-24T01:31:47.958357",
   "environment_variables": {},
   "exception": null,
   "input_path": "__notebook__.ipynb",
   "output_path": "__notebook__.ipynb",
   "parameters": {},
   "start_time": "2022-11-24T01:31:39.990621",
   "version": "2.3.4"
  }
 },
 "nbformat": 4,
 "nbformat_minor": 5
}
