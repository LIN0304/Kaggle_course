{
 "cells": [
  {
   "cell_type": "markdown",
   "id": "4aec81cd",
   "metadata": {
    "papermill": {
     "duration": 0.007415,
     "end_time": "2022-11-24T01:33:31.204188",
     "exception": false,
     "start_time": "2022-11-24T01:33:31.196773",
     "status": "completed"
    },
    "tags": []
   },
   "source": [
    "**This notebook is an exercise in the [Intro to Programming](https://www.kaggle.com/learn/intro-to-programming) course.  You can reference the tutorial at [this link](https://www.kaggle.com/alexisbcook/intro-to-lists).**\n",
    "\n",
    "---\n"
   ]
  },
  {
   "cell_type": "markdown",
   "id": "2ecd9502",
   "metadata": {
    "papermill": {
     "duration": 0.005876,
     "end_time": "2022-11-24T01:33:31.216446",
     "exception": false,
     "start_time": "2022-11-24T01:33:31.210570",
     "status": "completed"
    },
    "tags": []
   },
   "source": [
    "In the tutorial, you learned how to define and modify Python lists.  In this exercise, you will use your new knowledge to solve several problems.\n",
    "\n",
    "# Set up the notebook\n",
    "\n",
    "Run the next code cell without changes to set up the notebook."
   ]
  },
  {
   "cell_type": "code",
   "execution_count": 1,
   "id": "826f5937",
   "metadata": {
    "execution": {
     "iopub.execute_input": "2022-11-24T01:33:31.233301Z",
     "iopub.status.busy": "2022-11-24T01:33:31.232302Z",
     "iopub.status.idle": "2022-11-24T01:33:31.294853Z",
     "shell.execute_reply": "2022-11-24T01:33:31.293208Z"
    },
    "papermill": {
     "duration": 0.073927,
     "end_time": "2022-11-24T01:33:31.297607",
     "exception": false,
     "start_time": "2022-11-24T01:33:31.223680",
     "status": "completed"
    },
    "tags": []
   },
   "outputs": [
    {
     "name": "stdout",
     "output_type": "stream",
     "text": [
      "Setup complete.\n"
     ]
    }
   ],
   "source": [
    "from learntools.core import binder\n",
    "binder.bind(globals())\n",
    "from learntools.intro_to_programming.ex5 import *\n",
    "print('Setup complete.')"
   ]
  },
  {
   "cell_type": "markdown",
   "id": "ad01247e",
   "metadata": {
    "papermill": {
     "duration": 0.006184,
     "end_time": "2022-11-24T01:33:31.310550",
     "exception": false,
     "start_time": "2022-11-24T01:33:31.304366",
     "status": "completed"
    },
    "tags": []
   },
   "source": [
    "# Question 1\n",
    "\n",
    "You own a restaurant with five food dishes, organized in the Python list `menu` below.  One day, you decide to:\n",
    "- remove bean soup (`'bean soup'`) from the menu, and\n",
    "- add roasted beet salad (`'roasted beet salad'`) to the menu.\n",
    "\n",
    "Implement this change to the list below.  While completing this task, \n",
    "- do not change the line that creates the `menu` list.  \n",
    "- your answer should use `.remove()` and `.append()`.  "
   ]
  },
  {
   "cell_type": "code",
   "execution_count": 2,
   "id": "e37f2bf1",
   "metadata": {
    "execution": {
     "iopub.execute_input": "2022-11-24T01:33:31.325529Z",
     "iopub.status.busy": "2022-11-24T01:33:31.324908Z",
     "iopub.status.idle": "2022-11-24T01:33:31.334940Z",
     "shell.execute_reply": "2022-11-24T01:33:31.334159Z"
    },
    "papermill": {
     "duration": 0.019937,
     "end_time": "2022-11-24T01:33:31.336898",
     "exception": false,
     "start_time": "2022-11-24T01:33:31.316961",
     "status": "completed"
    },
    "tags": []
   },
   "outputs": [
    {
     "data": {
      "application/javascript": [
       "parent.postMessage({\"jupyterEvent\": \"custom.exercise_interaction\", \"data\": {\"outcomeType\": 1, \"valueTowardsCompletion\": 0.2, \"interactionType\": 1, \"questionType\": 2, \"questionId\": \"1_FoodMenu\", \"learnToolsVersion\": \"0.3.4\", \"failureMessage\": \"\", \"exceptionClass\": \"\", \"trace\": \"\"}}, \"*\")"
      ],
      "text/plain": [
       "<IPython.core.display.Javascript object>"
      ]
     },
     "metadata": {},
     "output_type": "display_data"
    },
    {
     "data": {
      "text/markdown": [
       "<span style=\"color:#33cc33\">Correct</span>"
      ],
      "text/plain": [
       "Correct"
      ]
     },
     "metadata": {},
     "output_type": "display_data"
    }
   ],
   "source": [
    "# Do not change: Initial menu for your restaurant\n",
    "menu = ['stewed meat with onions', 'bean soup', 'risotto with trout and shrimp',\n",
    "       'fish soup with cream and onion', 'gyro']\n",
    "menu.remove('bean soup')\n",
    "menu.append('roasted beet salad')\n",
    "# TODO: remove 'bean soup', and add 'roasted beet salad' to the end of the menu\n",
    "____\n",
    "\n",
    "# Do not change: Check your answer\n",
    "q1.check()"
   ]
  },
  {
   "cell_type": "code",
   "execution_count": 3,
   "id": "07ae57bf",
   "metadata": {
    "execution": {
     "iopub.execute_input": "2022-11-24T01:33:31.354657Z",
     "iopub.status.busy": "2022-11-24T01:33:31.353827Z",
     "iopub.status.idle": "2022-11-24T01:33:31.359448Z",
     "shell.execute_reply": "2022-11-24T01:33:31.358062Z"
    },
    "papermill": {
     "duration": 0.018158,
     "end_time": "2022-11-24T01:33:31.361869",
     "exception": false,
     "start_time": "2022-11-24T01:33:31.343711",
     "status": "completed"
    },
    "tags": []
   },
   "outputs": [],
   "source": [
    "# Uncomment to see a hint\n",
    "#q1.hint()\n",
    "\n",
    "# Uncomment to see the solution\n",
    "#q1.solution()"
   ]
  },
  {
   "cell_type": "markdown",
   "id": "9cd20d9e",
   "metadata": {
    "papermill": {
     "duration": 0.007593,
     "end_time": "2022-11-24T01:33:31.378394",
     "exception": false,
     "start_time": "2022-11-24T01:33:31.370801",
     "status": "completed"
    },
    "tags": []
   },
   "source": [
    "# Question 2\n",
    "\n",
    "The list `num_customers` contains the number of customers who came into your restaurant every day over the last month (which lasted thirty days).  Fill in values for each of the following:\n",
    "- `avg_first_seven` - average number of customers who visited in the first seven days\n",
    "- `avg_last_seven` - average number of customers who visited in the last seven days\n",
    "- `max_month` - number of customers on the day that got the most customers in the last month\n",
    "- `min_month` - number of customers on the day that got the least customers in the last month\n",
    "\n",
    "Answer this question by writing code.  For instance, if you have to find the minimum value in a list, use `min()` instead of scanning for the smallest value and directly filling in a number."
   ]
  },
  {
   "cell_type": "code",
   "execution_count": 4,
   "id": "84b24a78",
   "metadata": {
    "execution": {
     "iopub.execute_input": "2022-11-24T01:33:31.396492Z",
     "iopub.status.busy": "2022-11-24T01:33:31.395886Z",
     "iopub.status.idle": "2022-11-24T01:33:31.409887Z",
     "shell.execute_reply": "2022-11-24T01:33:31.407591Z"
    },
    "papermill": {
     "duration": 0.027299,
     "end_time": "2022-11-24T01:33:31.412575",
     "exception": false,
     "start_time": "2022-11-24T01:33:31.385276",
     "status": "completed"
    },
    "tags": []
   },
   "outputs": [
    {
     "data": {
      "application/javascript": [
       "parent.postMessage({\"jupyterEvent\": \"custom.exercise_interaction\", \"data\": {\"outcomeType\": 1, \"valueTowardsCompletion\": 0.2, \"interactionType\": 1, \"questionType\": 1, \"questionId\": \"2_NumCustomers\", \"learnToolsVersion\": \"0.3.4\", \"failureMessage\": \"\", \"exceptionClass\": \"\", \"trace\": \"\"}}, \"*\")"
      ],
      "text/plain": [
       "<IPython.core.display.Javascript object>"
      ]
     },
     "metadata": {},
     "output_type": "display_data"
    },
    {
     "data": {
      "text/markdown": [
       "<span style=\"color:#33cc33\">Correct</span>"
      ],
      "text/plain": [
       "Correct"
      ]
     },
     "metadata": {},
     "output_type": "display_data"
    }
   ],
   "source": [
    "# Do not change: Number of customers each day for the last month\n",
    "num_customers = [137, 147, 135, 128, 170, 174, 165, 146, 126, 159,\n",
    "                 141, 148, 132, 147, 168, 153, 170, 161, 148, 152,\n",
    "                 141, 151, 131, 149, 164, 163, 143, 143, 166, 171]\n",
    "\n",
    "# TODO: Fill in values for the variables below\n",
    "avg_first_seven = sum(num_customers[:7]) / 7\n",
    "avg_last_seven = sum(num_customers[-7:]) / 7\n",
    "max_month = max(num_customers)\n",
    "min_month = min(num_customers)\n",
    "\n",
    "# Do not change: Check your answer\n",
    "q2.check()"
   ]
  },
  {
   "cell_type": "code",
   "execution_count": 5,
   "id": "7c7bca71",
   "metadata": {
    "execution": {
     "iopub.execute_input": "2022-11-24T01:33:31.431541Z",
     "iopub.status.busy": "2022-11-24T01:33:31.430835Z",
     "iopub.status.idle": "2022-11-24T01:33:31.434671Z",
     "shell.execute_reply": "2022-11-24T01:33:31.433893Z"
    },
    "papermill": {
     "duration": 0.014658,
     "end_time": "2022-11-24T01:33:31.437238",
     "exception": false,
     "start_time": "2022-11-24T01:33:31.422580",
     "status": "completed"
    },
    "tags": []
   },
   "outputs": [],
   "source": [
    "# Uncomment to see a hint\n",
    "#q2.hint()\n",
    "\n",
    "# Uncomment to see the solution\n",
    "#q2.solution()"
   ]
  },
  {
   "cell_type": "markdown",
   "id": "e2010969",
   "metadata": {
    "papermill": {
     "duration": 0.006421,
     "end_time": "2022-11-24T01:33:31.450891",
     "exception": false,
     "start_time": "2022-11-24T01:33:31.444470",
     "status": "completed"
    },
    "tags": []
   },
   "source": [
    "# Question 3\n",
    "\n",
    "In the tutorial, we gave an example of a Python string with information that was better as a list."
   ]
  },
  {
   "cell_type": "code",
   "execution_count": 6,
   "id": "21f492f2",
   "metadata": {
    "execution": {
     "iopub.execute_input": "2022-11-24T01:33:31.466276Z",
     "iopub.status.busy": "2022-11-24T01:33:31.465545Z",
     "iopub.status.idle": "2022-11-24T01:33:31.470135Z",
     "shell.execute_reply": "2022-11-24T01:33:31.469236Z"
    },
    "papermill": {
     "duration": 0.014737,
     "end_time": "2022-11-24T01:33:31.472223",
     "exception": false,
     "start_time": "2022-11-24T01:33:31.457486",
     "status": "completed"
    },
    "tags": []
   },
   "outputs": [],
   "source": [
    "flowers = \"pink primrose,hard-leaved pocket orchid,canterbury bells,sweet pea,english marigold,tiger lily,moon orchid,bird of paradise,monkshood,globe thistle\""
   ]
  },
  {
   "cell_type": "markdown",
   "id": "0e3b00a8",
   "metadata": {
    "papermill": {
     "duration": 0.006541,
     "end_time": "2022-11-24T01:33:31.485877",
     "exception": false,
     "start_time": "2022-11-24T01:33:31.479336",
     "status": "completed"
    },
    "tags": []
   },
   "source": [
    "You can actually use Python to quickly turn this string into a list with `.split()`.  In the parentheses, we need to provide the character should be used to mark the end of one list item and the beginning of another, and enclose it in quotation marks.  In this case, that character is a comma."
   ]
  },
  {
   "cell_type": "code",
   "execution_count": 7,
   "id": "d767cffc",
   "metadata": {
    "execution": {
     "iopub.execute_input": "2022-11-24T01:33:31.505430Z",
     "iopub.status.busy": "2022-11-24T01:33:31.504893Z",
     "iopub.status.idle": "2022-11-24T01:33:31.512533Z",
     "shell.execute_reply": "2022-11-24T01:33:31.510856Z"
    },
    "papermill": {
     "duration": 0.026542,
     "end_time": "2022-11-24T01:33:31.518998",
     "exception": false,
     "start_time": "2022-11-24T01:33:31.492456",
     "status": "completed"
    },
    "tags": []
   },
   "outputs": [
    {
     "name": "stdout",
     "output_type": "stream",
     "text": [
      "['pink primrose', 'hard-leaved pocket orchid', 'canterbury bells', 'sweet pea', 'english marigold', 'tiger lily', 'moon orchid', 'bird of paradise', 'monkshood', 'globe thistle']\n"
     ]
    }
   ],
   "source": [
    " print(flowers.split(\",\"))"
   ]
  },
  {
   "cell_type": "markdown",
   "id": "2d31f61f",
   "metadata": {
    "papermill": {
     "duration": 0.007677,
     "end_time": "2022-11-24T01:33:31.536289",
     "exception": false,
     "start_time": "2022-11-24T01:33:31.528612",
     "status": "completed"
    },
    "tags": []
   },
   "source": [
    "Now it is your turn to try this out!  Create two Python lists:\n",
    "- `letters` should be a Python list where each entry is an uppercase letter of the English alphabet.  For instance, the first two entries should be `\"A\"` and `\"B\"`, and the final two entries should be `\"Y\"` and `\"Z\"`.  Use the string `alphabet` to create this list.\n",
    "- `address` should be a Python list where each row in `address` is a different item in the list.  Currently, each row in `address` is separated by a comma. "
   ]
  },
  {
   "cell_type": "code",
   "execution_count": 8,
   "id": "6de4edc6",
   "metadata": {
    "execution": {
     "iopub.execute_input": "2022-11-24T01:33:31.554631Z",
     "iopub.status.busy": "2022-11-24T01:33:31.553789Z",
     "iopub.status.idle": "2022-11-24T01:33:31.564959Z",
     "shell.execute_reply": "2022-11-24T01:33:31.563891Z"
    },
    "papermill": {
     "duration": 0.022813,
     "end_time": "2022-11-24T01:33:31.567240",
     "exception": false,
     "start_time": "2022-11-24T01:33:31.544427",
     "status": "completed"
    },
    "tags": []
   },
   "outputs": [
    {
     "data": {
      "application/javascript": [
       "parent.postMessage({\"jupyterEvent\": \"custom.exercise_interaction\", \"data\": {\"outcomeType\": 1, \"valueTowardsCompletion\": 0.2, \"interactionType\": 1, \"questionType\": 1, \"questionId\": \"3_SplitString\", \"learnToolsVersion\": \"0.3.4\", \"failureMessage\": \"\", \"exceptionClass\": \"\", \"trace\": \"\"}}, \"*\")"
      ],
      "text/plain": [
       "<IPython.core.display.Javascript object>"
      ]
     },
     "metadata": {},
     "output_type": "display_data"
    },
    {
     "data": {
      "text/markdown": [
       "<span style=\"color:#33cc33\">Correct</span>"
      ],
      "text/plain": [
       "Correct"
      ]
     },
     "metadata": {},
     "output_type": "display_data"
    }
   ],
   "source": [
    "# DO not change: Define two Python strings\n",
    "alphabet = \"A.B.C.D.E.F.G.H.I.J.K.L.M.N.O.P.Q.R.S.T.U.V.W.X.Y.Z\"\n",
    "address = \"Mr. H. Potter,The cupboard under the Stairs,4 Privet Drive,Little Whinging,Surrey\"\n",
    "\n",
    "# TODO: Convert strings into Python lists\n",
    "letters = alphabet.split(\".\")\n",
    "formatted_address = address.split(\",\")\n",
    "\n",
    "\n",
    "# Do not change: Check your answer\n",
    "q3.check()"
   ]
  },
  {
   "cell_type": "code",
   "execution_count": 9,
   "id": "e1bd82ad",
   "metadata": {
    "execution": {
     "iopub.execute_input": "2022-11-24T01:33:31.584262Z",
     "iopub.status.busy": "2022-11-24T01:33:31.583355Z",
     "iopub.status.idle": "2022-11-24T01:33:31.588444Z",
     "shell.execute_reply": "2022-11-24T01:33:31.587179Z"
    },
    "papermill": {
     "duration": 0.016343,
     "end_time": "2022-11-24T01:33:31.590871",
     "exception": false,
     "start_time": "2022-11-24T01:33:31.574528",
     "status": "completed"
    },
    "tags": []
   },
   "outputs": [],
   "source": [
    "# Uncomment to see a hint\n",
    "#q3.hint()\n",
    "\n",
    "# Uncomment to see the solution\n",
    "#q3.solution()"
   ]
  },
  {
   "cell_type": "markdown",
   "id": "cb0a2d9e",
   "metadata": {
    "papermill": {
     "duration": 0.006724,
     "end_time": "2022-11-24T01:33:31.604709",
     "exception": false,
     "start_time": "2022-11-24T01:33:31.597985",
     "status": "completed"
    },
    "tags": []
   },
   "source": [
    "# Question 4\n",
    "\n",
    "In the Python course, you'll learn all about **list comprehensions**, which allow you to create a list based on the values in another list.  In this question, you'll get a brief preview of how they work.\n",
    "\n",
    "Say we're working with the list below."
   ]
  },
  {
   "cell_type": "code",
   "execution_count": 10,
   "id": "435680a9",
   "metadata": {
    "execution": {
     "iopub.execute_input": "2022-11-24T01:33:31.620841Z",
     "iopub.status.busy": "2022-11-24T01:33:31.620323Z",
     "iopub.status.idle": "2022-11-24T01:33:31.626493Z",
     "shell.execute_reply": "2022-11-24T01:33:31.625053Z"
    },
    "papermill": {
     "duration": 0.017571,
     "end_time": "2022-11-24T01:33:31.629357",
     "exception": false,
     "start_time": "2022-11-24T01:33:31.611786",
     "status": "completed"
    },
    "tags": []
   },
   "outputs": [],
   "source": [
    "test_ratings = [1, 2, 3, 4, 5]"
   ]
  },
  {
   "cell_type": "markdown",
   "id": "7999c4d5",
   "metadata": {
    "papermill": {
     "duration": 0.006678,
     "end_time": "2022-11-24T01:33:31.643155",
     "exception": false,
     "start_time": "2022-11-24T01:33:31.636477",
     "status": "completed"
    },
    "tags": []
   },
   "source": [
    "Then we can use this list (`test_ratings`) to create a new list (`test_liked`) where each item has been turned into a boolean, depending on whether or not the item is greater than or equal to four."
   ]
  },
  {
   "cell_type": "code",
   "execution_count": 11,
   "id": "3b7064f5",
   "metadata": {
    "execution": {
     "iopub.execute_input": "2022-11-24T01:33:31.659825Z",
     "iopub.status.busy": "2022-11-24T01:33:31.658494Z",
     "iopub.status.idle": "2022-11-24T01:33:31.665005Z",
     "shell.execute_reply": "2022-11-24T01:33:31.663450Z"
    },
    "papermill": {
     "duration": 0.017123,
     "end_time": "2022-11-24T01:33:31.667381",
     "exception": false,
     "start_time": "2022-11-24T01:33:31.650258",
     "status": "completed"
    },
    "tags": []
   },
   "outputs": [
    {
     "name": "stdout",
     "output_type": "stream",
     "text": [
      "[False, False, False, True, True]\n"
     ]
    }
   ],
   "source": [
    "test_liked = [i>=4 for i in test_ratings]\n",
    "print(test_liked)"
   ]
  },
  {
   "cell_type": "markdown",
   "id": "ce7fb204",
   "metadata": {
    "papermill": {
     "duration": 0.006813,
     "end_time": "2022-11-24T01:33:31.681448",
     "exception": false,
     "start_time": "2022-11-24T01:33:31.674635",
     "status": "completed"
    },
    "tags": []
   },
   "source": [
    "\n",
    "In this question, you'll use this list comprehension to define a function `percentage_liked()` that takes one argument as input:\n",
    "- `ratings`: list of ratings that people gave to a movie, where each rating is a number between 1-5, inclusive\n",
    "\n",
    "We say someone liked the movie, if they gave a rating of either 4 or 5.  Your function should return the percentage of people who liked the movie.\n",
    "\n",
    "For instance, if we supply a value of `[1, 2, 3, 4, 5, 4, 5, 1]`, then 50% (4/8) of the people liked the movie, and the function should return `0.5`.\n",
    "\n",
    "Part of the function has already been completed for you.  You need only use `list_liked` to calculate `percentage_liked`."
   ]
  },
  {
   "cell_type": "code",
   "execution_count": 12,
   "id": "15bc212f",
   "metadata": {
    "execution": {
     "iopub.execute_input": "2022-11-24T01:33:31.697241Z",
     "iopub.status.busy": "2022-11-24T01:33:31.696824Z",
     "iopub.status.idle": "2022-11-24T01:33:31.706997Z",
     "shell.execute_reply": "2022-11-24T01:33:31.705884Z"
    },
    "papermill": {
     "duration": 0.020714,
     "end_time": "2022-11-24T01:33:31.709181",
     "exception": false,
     "start_time": "2022-11-24T01:33:31.688467",
     "status": "completed"
    },
    "tags": []
   },
   "outputs": [
    {
     "data": {
      "application/javascript": [
       "parent.postMessage({\"jupyterEvent\": \"custom.exercise_interaction\", \"data\": {\"outcomeType\": 1, \"valueTowardsCompletion\": 0.2, \"interactionType\": 1, \"questionType\": 2, \"questionId\": \"4_PercentageLiked\", \"learnToolsVersion\": \"0.3.4\", \"failureMessage\": \"\", \"exceptionClass\": \"\", \"trace\": \"\"}}, \"*\")"
      ],
      "text/plain": [
       "<IPython.core.display.Javascript object>"
      ]
     },
     "metadata": {},
     "output_type": "display_data"
    },
    {
     "data": {
      "text/markdown": [
       "<span style=\"color:#33cc33\">Correct</span>"
      ],
      "text/plain": [
       "Correct"
      ]
     },
     "metadata": {},
     "output_type": "display_data"
    }
   ],
   "source": [
    "\n",
    "def percentage_liked(ratings):\n",
    "    list_liked = [i>=4 for i in ratings]\n",
    "    # TODO: Complete the function\n",
    "    percentage_liked = sum(list_liked) / len(ratings)\n",
    "    return percentage_liked\n",
    "\n",
    "# Do not change: should return 0.5\n",
    "percentage_liked([1, 2, 3, 4, 5, 4, 5, 1])\n",
    "\n",
    "# Do not change: Check your answer\n",
    "q4.check()"
   ]
  },
  {
   "cell_type": "code",
   "execution_count": 13,
   "id": "770352cd",
   "metadata": {
    "execution": {
     "iopub.execute_input": "2022-11-24T01:33:31.729068Z",
     "iopub.status.busy": "2022-11-24T01:33:31.727571Z",
     "iopub.status.idle": "2022-11-24T01:33:31.734021Z",
     "shell.execute_reply": "2022-11-24T01:33:31.732822Z"
    },
    "papermill": {
     "duration": 0.020501,
     "end_time": "2022-11-24T01:33:31.736987",
     "exception": false,
     "start_time": "2022-11-24T01:33:31.716486",
     "status": "completed"
    },
    "tags": []
   },
   "outputs": [],
   "source": [
    "# Uncomment to see a hint\n",
    "#q4.hint()\n",
    "\n",
    "# Uncomment to see the solution\n",
    "#q4.solution()"
   ]
  },
  {
   "cell_type": "markdown",
   "id": "7aa3ab09",
   "metadata": {
    "papermill": {
     "duration": 0.009539,
     "end_time": "2022-11-24T01:33:31.755333",
     "exception": false,
     "start_time": "2022-11-24T01:33:31.745794",
     "status": "completed"
    },
    "tags": []
   },
   "source": [
    "# 🌶️ Question 5\n",
    " \n",
    "Say you're doing analytics for a website.  You need to write a function that returns the percentage growth in the total number of users relative to a specified number of years ago.\n",
    "\n",
    "Your function `percentage_growth()` should take two arguments as input:\n",
    "- `num_users` = Python list with the total number of users each year.  So `num_users[0]` is the total number of users in the first year, `num_users[1]` is the total number of users in the second year, and so on.  The final entry in the list gives the total number of users in the most recently completed year.\n",
    "- `yrs_ago` = number of years to go back in time when calculating the growth percentage\n",
    "\n",
    "For instance, say `num_users = [920344, 1043553, 1204334, 1458996, 1503323, 1593432, 1623463, 1843064, 1930992, 2001078]`.\n",
    "- if `yrs_ago = 1`, we want the function to return a value of about `0.036`. This corresponds to a percentage growth of approximately 3.6%, calculated as (2001078 - 1930992)/1930992.\n",
    "- if `years_ago = 7`, we would want to return approximately `0.66`.  This corresponds to a percentage growth of approximately 66%, calculated as (2001078 - 1204334)/1204334.\n",
    "\n",
    "Your coworker sent you a draft of a function, but it doesn't seem to be doing the correct calculation.  Can you figure out what has gone wrong and make the needed changes?"
   ]
  },
  {
   "cell_type": "code",
   "execution_count": 14,
   "id": "1c27ef6c",
   "metadata": {
    "execution": {
     "iopub.execute_input": "2022-11-24T01:33:31.775776Z",
     "iopub.status.busy": "2022-11-24T01:33:31.775256Z",
     "iopub.status.idle": "2022-11-24T01:33:31.790072Z",
     "shell.execute_reply": "2022-11-24T01:33:31.788298Z"
    },
    "papermill": {
     "duration": 0.027424,
     "end_time": "2022-11-24T01:33:31.793314",
     "exception": false,
     "start_time": "2022-11-24T01:33:31.765890",
     "status": "completed"
    },
    "tags": []
   },
   "outputs": [
    {
     "name": "stdout",
     "output_type": "stream",
     "text": [
      "0.03629533421163837\n",
      "0.6615639847417742\n"
     ]
    },
    {
     "data": {
      "application/javascript": [
       "parent.postMessage({\"jupyterEvent\": \"custom.exercise_interaction\", \"data\": {\"outcomeType\": 1, \"valueTowardsCompletion\": 0.2, \"interactionType\": 1, \"questionType\": 2, \"questionId\": \"5_WebsiteAnalytics\", \"learnToolsVersion\": \"0.3.4\", \"failureMessage\": \"\", \"exceptionClass\": \"\", \"trace\": \"\"}}, \"*\")"
      ],
      "text/plain": [
       "<IPython.core.display.Javascript object>"
      ]
     },
     "metadata": {},
     "output_type": "display_data"
    },
    {
     "data": {
      "text/markdown": [
       "<span style=\"color:#33cc33\">Correct</span>"
      ],
      "text/plain": [
       "Correct"
      ]
     },
     "metadata": {},
     "output_type": "display_data"
    }
   ],
   "source": [
    "# TODO: Edit the function\n",
    "def percentage_growth(num_users, yrs_ago):\n",
    "    growth = (num_users[-1] - num_users[-(yrs_ago + 1)]) / num_users[-(yrs_ago + 1)]\n",
    "    return growth\n",
    "\n",
    "# Do not change: Variable for calculating some test examples\n",
    "num_users_test = [920344, 1043553, 1204334, 1458996, 1503323, 1593432, 1623463, 1843064, 1930992, 2001078]\n",
    "\n",
    "# Do not change: Should return .036\n",
    "print(percentage_growth(num_users_test, 1))\n",
    "\n",
    "# Do not change: Should return 0.66\n",
    "print(percentage_growth(num_users_test, 7))\n",
    "\n",
    "# Do not change: Check your answer\n",
    "q5.check()"
   ]
  },
  {
   "cell_type": "code",
   "execution_count": 15,
   "id": "9bb5ea5a",
   "metadata": {
    "execution": {
     "iopub.execute_input": "2022-11-24T01:33:31.816355Z",
     "iopub.status.busy": "2022-11-24T01:33:31.815865Z",
     "iopub.status.idle": "2022-11-24T01:33:31.820688Z",
     "shell.execute_reply": "2022-11-24T01:33:31.819484Z"
    },
    "papermill": {
     "duration": 0.017693,
     "end_time": "2022-11-24T01:33:31.823472",
     "exception": false,
     "start_time": "2022-11-24T01:33:31.805779",
     "status": "completed"
    },
    "tags": []
   },
   "outputs": [],
   "source": [
    "# Uncomment to see a hint\n",
    "#q5.hint()\n",
    "\n",
    "# Uncomment to see the solution\n",
    "#q5.solution()"
   ]
  },
  {
   "cell_type": "markdown",
   "id": "2f99aef3",
   "metadata": {
    "papermill": {
     "duration": 0.007906,
     "end_time": "2022-11-24T01:33:31.839703",
     "exception": false,
     "start_time": "2022-11-24T01:33:31.831797",
     "status": "completed"
    },
    "tags": []
   },
   "source": [
    "# Congratulations!\n",
    "\n",
    "Congratulations for finishing the Intro to Programming course!  You should be proud of your very first steps with learning programming.  As next steps, we recommend taking:\n",
    "- the **[Python course](http://www.kaggle.com/learn/python)**, and \n",
    "- the **[Intro to Machine Learning course](https://www.kaggle.com/learn/intro-to-machine-learning)**."
   ]
  },
  {
   "cell_type": "markdown",
   "id": "4af08b25",
   "metadata": {
    "papermill": {
     "duration": 0.007498,
     "end_time": "2022-11-24T01:33:31.855444",
     "exception": false,
     "start_time": "2022-11-24T01:33:31.847946",
     "status": "completed"
    },
    "tags": []
   },
   "source": [
    "---\n",
    "\n",
    "\n",
    "\n",
    "\n",
    "*Have questions or comments? Visit the [course discussion forum](https://www.kaggle.com/learn/intro-to-programming/discussion) to chat with other learners.*"
   ]
  }
 ],
 "metadata": {
  "kernelspec": {
   "display_name": "Python 3",
   "language": "python",
   "name": "python3"
  },
  "language_info": {
   "codemirror_mode": {
    "name": "ipython",
    "version": 3
   },
   "file_extension": ".py",
   "mimetype": "text/x-python",
   "name": "python",
   "nbconvert_exporter": "python",
   "pygments_lexer": "ipython3",
   "version": "3.7.12"
  },
  "papermill": {
   "default_parameters": {},
   "duration": 10.183281,
   "end_time": "2022-11-24T01:33:32.586262",
   "environment_variables": {},
   "exception": null,
   "input_path": "__notebook__.ipynb",
   "output_path": "__notebook__.ipynb",
   "parameters": {},
   "start_time": "2022-11-24T01:33:22.402981",
   "version": "2.3.4"
  }
 },
 "nbformat": 4,
 "nbformat_minor": 5
}
